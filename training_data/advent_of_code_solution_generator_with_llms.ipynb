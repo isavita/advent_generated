{
 "cells": [
  {
   "cell_type": "code",
   "execution_count": 20,
   "id": "d388c7c8-1415-47e4-a99d-fa711aeffcaf",
   "metadata": {},
   "outputs": [
    {
     "name": "stderr",
     "output_type": "stream",
     "text": [
      "python(22460) MallocStackLogging: can't turn off malloc stack logging because it was not enabled.\n"
     ]
    },
    {
     "name": "stdout",
     "output_type": "stream",
     "text": [
      "Requirement already satisfied: litellm in /Users/isavita/anaconda3/envs/nb/lib/python3.12/site-packages (1.41.24)\n",
      "Requirement already satisfied: transformers in /Users/isavita/anaconda3/envs/nb/lib/python3.12/site-packages (4.42.4)\n",
      "Requirement already satisfied: datasets in /Users/isavita/anaconda3/envs/nb/lib/python3.12/site-packages (2.20.0)\n",
      "Requirement already satisfied: aiohttp in /Users/isavita/anaconda3/envs/nb/lib/python3.12/site-packages (from litellm) (3.9.5)\n",
      "Requirement already satisfied: click in /Users/isavita/anaconda3/envs/nb/lib/python3.12/site-packages (from litellm) (8.1.7)\n",
      "Requirement already satisfied: importlib-metadata>=6.8.0 in /Users/isavita/anaconda3/envs/nb/lib/python3.12/site-packages (from litellm) (7.0.0)\n",
      "Requirement already satisfied: jinja2<4.0.0,>=3.1.2 in /Users/isavita/anaconda3/envs/nb/lib/python3.12/site-packages (from litellm) (3.1.3)\n",
      "Requirement already satisfied: jsonschema<5.0.0,>=4.22.0 in /Users/isavita/anaconda3/envs/nb/lib/python3.12/site-packages (from litellm) (4.23.0)\n",
      "Requirement already satisfied: openai>=1.27.0 in /Users/isavita/anaconda3/envs/nb/lib/python3.12/site-packages (from litellm) (1.35.15)\n",
      "Requirement already satisfied: pydantic<3.0.0,>=2.0.0 in /Users/isavita/anaconda3/envs/nb/lib/python3.12/site-packages (from litellm) (2.7.1)\n",
      "Requirement already satisfied: python-dotenv>=0.2.0 in /Users/isavita/anaconda3/envs/nb/lib/python3.12/site-packages (from litellm) (1.0.1)\n",
      "Requirement already satisfied: requests<3.0.0,>=2.31.0 in /Users/isavita/anaconda3/envs/nb/lib/python3.12/site-packages (from litellm) (2.32.3)\n",
      "Requirement already satisfied: tiktoken>=0.7.0 in /Users/isavita/anaconda3/envs/nb/lib/python3.12/site-packages (from litellm) (0.7.0)\n",
      "Requirement already satisfied: tokenizers in /Users/isavita/anaconda3/envs/nb/lib/python3.12/site-packages (from litellm) (0.19.1)\n",
      "Requirement already satisfied: filelock in /Users/isavita/anaconda3/envs/nb/lib/python3.12/site-packages (from transformers) (3.13.4)\n",
      "Requirement already satisfied: huggingface-hub<1.0,>=0.23.2 in /Users/isavita/anaconda3/envs/nb/lib/python3.12/site-packages (from transformers) (0.24.0)\n",
      "Requirement already satisfied: numpy<2.0,>=1.17 in /Users/isavita/anaconda3/envs/nb/lib/python3.12/site-packages (from transformers) (1.26.4)\n",
      "Requirement already satisfied: packaging>=20.0 in /Users/isavita/anaconda3/envs/nb/lib/python3.12/site-packages (from transformers) (23.2)\n",
      "Requirement already satisfied: pyyaml>=5.1 in /Users/isavita/anaconda3/envs/nb/lib/python3.12/site-packages (from transformers) (6.0.1)\n",
      "Requirement already satisfied: regex!=2019.12.17 in /Users/isavita/anaconda3/envs/nb/lib/python3.12/site-packages (from transformers) (2024.4.16)\n",
      "Requirement already satisfied: safetensors>=0.4.1 in /Users/isavita/anaconda3/envs/nb/lib/python3.12/site-packages (from transformers) (0.4.3)\n",
      "Requirement already satisfied: tqdm>=4.27 in /Users/isavita/anaconda3/envs/nb/lib/python3.12/site-packages (from transformers) (4.66.4)\n",
      "Requirement already satisfied: pyarrow>=15.0.0 in /Users/isavita/anaconda3/envs/nb/lib/python3.12/site-packages (from datasets) (16.1.0)\n",
      "Requirement already satisfied: pyarrow-hotfix in /Users/isavita/anaconda3/envs/nb/lib/python3.12/site-packages (from datasets) (0.6)\n",
      "Requirement already satisfied: dill<0.3.9,>=0.3.0 in /Users/isavita/anaconda3/envs/nb/lib/python3.12/site-packages (from datasets) (0.3.8)\n",
      "Requirement already satisfied: pandas in /Users/isavita/anaconda3/envs/nb/lib/python3.12/site-packages (from datasets) (2.2.2)\n",
      "Requirement already satisfied: xxhash in /Users/isavita/anaconda3/envs/nb/lib/python3.12/site-packages (from datasets) (3.4.1)\n",
      "Requirement already satisfied: multiprocess in /Users/isavita/anaconda3/envs/nb/lib/python3.12/site-packages (from datasets) (0.70.16)\n",
      "Requirement already satisfied: fsspec<=2024.5.0,>=2023.1.0 in /Users/isavita/anaconda3/envs/nb/lib/python3.12/site-packages (from fsspec[http]<=2024.5.0,>=2023.1.0->datasets) (2024.3.1)\n",
      "Requirement already satisfied: aiosignal>=1.1.2 in /Users/isavita/anaconda3/envs/nb/lib/python3.12/site-packages (from aiohttp->litellm) (1.3.1)\n",
      "Requirement already satisfied: attrs>=17.3.0 in /Users/isavita/anaconda3/envs/nb/lib/python3.12/site-packages (from aiohttp->litellm) (23.1.0)\n",
      "Requirement already satisfied: frozenlist>=1.1.1 in /Users/isavita/anaconda3/envs/nb/lib/python3.12/site-packages (from aiohttp->litellm) (1.4.1)\n",
      "Requirement already satisfied: multidict<7.0,>=4.5 in /Users/isavita/anaconda3/envs/nb/lib/python3.12/site-packages (from aiohttp->litellm) (6.0.5)\n",
      "Requirement already satisfied: yarl<2.0,>=1.0 in /Users/isavita/anaconda3/envs/nb/lib/python3.12/site-packages (from aiohttp->litellm) (1.9.4)\n",
      "Requirement already satisfied: typing-extensions>=3.7.4.3 in /Users/isavita/anaconda3/envs/nb/lib/python3.12/site-packages (from huggingface-hub<1.0,>=0.23.2->transformers) (4.9.0)\n",
      "Requirement already satisfied: zipp>=0.5 in /Users/isavita/anaconda3/envs/nb/lib/python3.12/site-packages (from importlib-metadata>=6.8.0->litellm) (3.18.1)\n",
      "Requirement already satisfied: MarkupSafe>=2.0 in /Users/isavita/anaconda3/envs/nb/lib/python3.12/site-packages (from jinja2<4.0.0,>=3.1.2->litellm) (2.1.3)\n",
      "Requirement already satisfied: jsonschema-specifications>=2023.03.6 in /Users/isavita/anaconda3/envs/nb/lib/python3.12/site-packages (from jsonschema<5.0.0,>=4.22.0->litellm) (2023.7.1)\n",
      "Requirement already satisfied: referencing>=0.28.4 in /Users/isavita/anaconda3/envs/nb/lib/python3.12/site-packages (from jsonschema<5.0.0,>=4.22.0->litellm) (0.30.2)\n",
      "Requirement already satisfied: rpds-py>=0.7.1 in /Users/isavita/anaconda3/envs/nb/lib/python3.12/site-packages (from jsonschema<5.0.0,>=4.22.0->litellm) (0.10.6)\n",
      "Requirement already satisfied: anyio<5,>=3.5.0 in /Users/isavita/anaconda3/envs/nb/lib/python3.12/site-packages (from openai>=1.27.0->litellm) (4.2.0)\n",
      "Requirement already satisfied: distro<2,>=1.7.0 in /Users/isavita/anaconda3/envs/nb/lib/python3.12/site-packages (from openai>=1.27.0->litellm) (1.9.0)\n",
      "Requirement already satisfied: httpx<1,>=0.23.0 in /Users/isavita/anaconda3/envs/nb/lib/python3.12/site-packages (from openai>=1.27.0->litellm) (0.27.0)\n",
      "Requirement already satisfied: sniffio in /Users/isavita/anaconda3/envs/nb/lib/python3.12/site-packages (from openai>=1.27.0->litellm) (1.3.0)\n",
      "Requirement already satisfied: annotated-types>=0.4.0 in /Users/isavita/anaconda3/envs/nb/lib/python3.12/site-packages (from pydantic<3.0.0,>=2.0.0->litellm) (0.6.0)\n",
      "Requirement already satisfied: pydantic-core==2.18.2 in /Users/isavita/anaconda3/envs/nb/lib/python3.12/site-packages (from pydantic<3.0.0,>=2.0.0->litellm) (2.18.2)\n",
      "Requirement already satisfied: charset-normalizer<4,>=2 in /Users/isavita/anaconda3/envs/nb/lib/python3.12/site-packages (from requests<3.0.0,>=2.31.0->litellm) (2.0.4)\n",
      "Requirement already satisfied: idna<4,>=2.5 in /Users/isavita/anaconda3/envs/nb/lib/python3.12/site-packages (from requests<3.0.0,>=2.31.0->litellm) (3.4)\n",
      "Requirement already satisfied: urllib3<3,>=1.21.1 in /Users/isavita/anaconda3/envs/nb/lib/python3.12/site-packages (from requests<3.0.0,>=2.31.0->litellm) (2.1.0)\n",
      "Requirement already satisfied: certifi>=2017.4.17 in /Users/isavita/anaconda3/envs/nb/lib/python3.12/site-packages (from requests<3.0.0,>=2.31.0->litellm) (2024.2.2)\n",
      "Requirement already satisfied: python-dateutil>=2.8.2 in /Users/isavita/anaconda3/envs/nb/lib/python3.12/site-packages (from pandas->datasets) (2.8.2)\n",
      "Requirement already satisfied: pytz>=2020.1 in /Users/isavita/anaconda3/envs/nb/lib/python3.12/site-packages (from pandas->datasets) (2024.1)\n",
      "Requirement already satisfied: tzdata>=2022.7 in /Users/isavita/anaconda3/envs/nb/lib/python3.12/site-packages (from pandas->datasets) (2024.1)\n",
      "Requirement already satisfied: httpcore==1.* in /Users/isavita/anaconda3/envs/nb/lib/python3.12/site-packages (from httpx<1,>=0.23.0->openai>=1.27.0->litellm) (1.0.5)\n",
      "Requirement already satisfied: h11<0.15,>=0.13 in /Users/isavita/anaconda3/envs/nb/lib/python3.12/site-packages (from httpcore==1.*->httpx<1,>=0.23.0->openai>=1.27.0->litellm) (0.14.0)\n",
      "Requirement already satisfied: six>=1.5 in /Users/isavita/anaconda3/envs/nb/lib/python3.12/site-packages (from python-dateutil>=2.8.2->pandas->datasets) (1.16.0)\n",
      "Dependencies installed and libraries imported successfully.\n"
     ]
    }
   ],
   "source": [
    "# Install required packages\n",
    "!pip install litellm transformers datasets\n",
    "\n",
    "# Import necessary libraries\n",
    "import os\n",
    "import subprocess\n",
    "import sys\n",
    "import tempfile\n",
    "from datasets import load_dataset\n",
    "\n",
    "print(\"Dependencies installed and libraries imported successfully.\")"
   ]
  },
  {
   "cell_type": "code",
   "execution_count": 2,
   "id": "d4f1d33c-8193-4180-9ecf-152aa7e594f2",
   "metadata": {},
   "outputs": [
    {
     "data": {
      "application/vnd.jupyter.widget-view+json": {
       "model_id": "e8ac8165e5724f4cb6dbd981a3765425",
       "version_major": 2,
       "version_minor": 0
      },
      "text/plain": [
       "Filter:   0%|          | 0/8106 [00:00<?, ? examples/s]"
      ]
     },
     "metadata": {},
     "output_type": "display_data"
    },
    {
     "name": "stdout",
     "output_type": "stream",
     "text": [
      "Loaded 441 Go solutions from the dataset.\n"
     ]
    }
   ],
   "source": [
    "# Load the dataset from Hugging Face\n",
    "dataset = load_dataset(\"isavita/advent-of-code\")\n",
    "\n",
    "# Filter the dataset for Go solutions\n",
    "go_solutions = dataset['train'].filter(lambda example: example['solution_lang'] == 'go')\n",
    "\n",
    "print(f\"Loaded {len(go_solutions)} Go solutions from the dataset.\")"
   ]
  },
  {
   "cell_type": "code",
   "execution_count": 21,
   "id": "d53c8549-872c-4688-befe-2f5aa2da16cb",
   "metadata": {},
   "outputs": [
    {
     "name": "stdout",
     "output_type": "stream",
     "text": [
      "Go constants class defined.\n"
     ]
    }
   ],
   "source": [
    "class Constants:\n",
    "    @staticmethod\n",
    "    def file_ext():\n",
    "        return \"cr\"\n",
    "    \n",
    "    @staticmethod\n",
    "    def lang():\n",
    "        return \"crystal\"\n",
    "    \n",
    "    @staticmethod\n",
    "    def compiler():\n",
    "        return \"/opt/homebrew/bin/crystal\"\n",
    "    \n",
    "    @staticmethod\n",
    "    def runtime():\n",
    "        return \"/opt/homebrew/bin/crystal run\"\n",
    "\n",
    "print(\"Go constants class defined.\")"
   ]
  },
  {
   "cell_type": "code",
   "execution_count": 22,
   "id": "8c2d5f3d-6717-42cb-9fc6-eb1badaaa5a1",
   "metadata": {},
   "outputs": [
    {
     "name": "stderr",
     "output_type": "stream",
     "text": [
      "python(22881) MallocStackLogging: can't turn off malloc stack logging because it was not enabled.\n"
     ]
    },
    {
     "name": "stdout",
     "output_type": "stream",
     "text": [
      "Program executed successfully.\n",
      "Output: Hello, World!\n"
     ]
    }
   ],
   "source": [
    "import tempfile\n",
    "import subprocess\n",
    "import os\n",
    "\n",
    "def test_go_execution():\n",
    "    # Hello World program in Go\n",
    "    code = '''\n",
    "puts \"Hello, World!\\n\";\n",
    "'''\n",
    "    \n",
    "    # Create a temporary file\n",
    "    with tempfile.NamedTemporaryFile(suffix=f'.{Constants.file_ext()}', delete=False, mode='w') as temp_file:\n",
    "        temp_file.write(code)\n",
    "        temp_file_path = temp_file.name\n",
    "    \n",
    "    try:\n",
    "        # Run the program\n",
    "        result = subprocess.run(f\"{Constants.runtime()} {temp_file_path}\", shell=True, capture_output=True, text=True)\n",
    "        \n",
    "        if result.returncode == 0:\n",
    "            print(\"Program executed successfully.\")\n",
    "            print(\"Output:\", result.stdout.strip())\n",
    "        else:\n",
    "            print(\"Error executing program:\")\n",
    "            print(result.stderr)\n",
    "    finally:\n",
    "        # Clean up the temporary file\n",
    "        os.unlink(temp_file_path)\n",
    "\n",
    "# Run the test\n",
    "test_go_execution()"
   ]
  },
  {
   "cell_type": "code",
   "execution_count": 23,
   "id": "0ade8d45-af33-43b4-b85e-343d8c498aa1",
   "metadata": {},
   "outputs": [],
   "source": [
    "import litellm\n",
    "import warnings\n",
    "\n",
    "# Suppress the specific warning\n",
    "warnings.filterwarnings(\"ignore\", message=\"Field .* has conflict with protected namespace .*\")\n",
    "\n",
    "class LLMWrapper:\n",
    "    def __init__(self, model_name, api_base=None):\n",
    "        self.model_name = model_name\n",
    "        self.api_base = api_base\n",
    "        self.temperature = 0.3  # Hardcoded temperature as specified\n",
    "\n",
    "    def generate(self, system_prompt, user_prompt):\n",
    "        try:\n",
    "            completion_params = {\n",
    "                \"model\": self.model_name,\n",
    "                \"messages\": [\n",
    "                    {\"role\": \"system\", \"content\": system_prompt},\n",
    "                    {\"role\": \"user\", \"content\": user_prompt}\n",
    "                ],\n",
    "                \"temperature\": self.temperature,\n",
    "            }\n",
    "            \n",
    "            if self.api_base:\n",
    "                completion_params[\"api_base\"] = self.api_base\n",
    "\n",
    "            response = litellm.completion(**completion_params)\n",
    "            return response.choices[0].message.content\n",
    "        except Exception as e:\n",
    "            print(f\"Error in LLM API call: {str(e)}\")\n",
    "            return None\n",
    "\n",
    "# Test the LLMWrapper with the local Ollama model\n",
    "def test_llm_wrapper():\n",
    "    wrapper = LLMWrapper(\"ollama/llama3:8b-instruct-q5_K_M\", api_base=\"http://localhost:11434\")\n",
    "    \n",
    "    system_prompt = \"You are a helpful assistant.\"\n",
    "    user_prompt = \"Tell me a short joke about programming.\"\n",
    "    \n",
    "    print(\"Testing with local Ollama model:\")\n",
    "    response = wrapper.generate(system_prompt, user_prompt)\n",
    "    if response:\n",
    "        print(\"Local LLM Response:\")\n",
    "        print(response)\n",
    "    else:\n",
    "        print(\"Failed to get a response from the local LLM.\")\n",
    "\n",
    "# Run the test\n",
    "# test_llm_wrapper()"
   ]
  },
  {
   "cell_type": "code",
   "execution_count": 5,
   "id": "3f86a61d-2fd9-4a08-860f-db267ece8fcb",
   "metadata": {},
   "outputs": [
    {
     "name": "stdout",
     "output_type": "stream",
     "text": [
      "Testing quick function (should complete):\n",
      "Quick function completed\n",
      "\n",
      "Testing slow function (should timeout):\n",
      "None\n"
     ]
    }
   ],
   "source": [
    "import threading\n",
    "import time\n",
    "import queue\n",
    "\n",
    "class TimeoutRunner:\n",
    "    @staticmethod\n",
    "    def run_with_timeout(func, args=(), kwargs={}, timeout_duration=10):\n",
    "        result_queue = queue.Queue()\n",
    "\n",
    "        def wrapper():\n",
    "            try:\n",
    "                result = func(*args, **kwargs)\n",
    "                result_queue.put(result)\n",
    "            except Exception as e:\n",
    "                result_queue.put(e)\n",
    "\n",
    "        thread = threading.Thread(target=wrapper)\n",
    "        thread.daemon = True\n",
    "        thread.start()\n",
    "        \n",
    "        try:\n",
    "            return result_queue.get(timeout=timeout_duration)\n",
    "        except queue.Empty:\n",
    "            return None\n",
    "\n",
    "# Test the TimeoutRunner\n",
    "def test_timeout_runner():\n",
    "    def quick_function():\n",
    "        return \"Quick function completed\"\n",
    "\n",
    "    def slow_function():\n",
    "        time.sleep(5)\n",
    "        return \"Slow function completed\"\n",
    "\n",
    "    runner = TimeoutRunner()\n",
    "\n",
    "    print(\"Testing quick function (should complete):\")\n",
    "    result = runner.run_with_timeout(quick_function, timeout_duration=2)\n",
    "    print(result)\n",
    "\n",
    "    print(\"\\nTesting slow function (should timeout):\")\n",
    "    result = runner.run_with_timeout(slow_function, timeout_duration=2)\n",
    "    print(result)\n",
    "\n",
    "# Run the test\n",
    "test_timeout_runner()"
   ]
  },
  {
   "cell_type": "code",
   "execution_count": 24,
   "id": "693e4840-a1a2-4669-ae3c-d9ceebeb814f",
   "metadata": {},
   "outputs": [
    {
     "name": "stderr",
     "output_type": "stream",
     "text": [
      "python(23002) MallocStackLogging: can't turn off malloc stack logging because it was not enabled.\n"
     ]
    },
    {
     "name": "stdout",
     "output_type": "stream",
     "text": [
      "Evaluation result:\n",
      "Runtime error: \u001b[2mShowing last frame. Use --error-trace for full trace.\u001b[0m\n",
      "\n",
      "In \u001b[4m/var/folders/46/6lz6t86n4n10lwsyj3pyzd6h0000gn/T/tmppe4qom6_/main.cr:3:5\u001b[0m\n",
      "\n",
      "\u001b[2m 3 | \u001b[0m\u001b[1mn = io.read(\"*n\")\u001b[0m\n",
      "         \u001b[32;1m^-\u001b[0m\n",
      "\u001b[33;1mError: undefined local variable or method 'io' for top-level\u001b[0m\n",
      "\n"
     ]
    }
   ],
   "source": [
    "import os\n",
    "import tempfile\n",
    "import subprocess\n",
    "\n",
    "class EvaluateCode:\n",
    "    def __init__(self, code, input_data):\n",
    "        self.code = code\n",
    "        self.input_data = input_data\n",
    "\n",
    "    def run(self):\n",
    "        with tempfile.TemporaryDirectory() as temp_dir:\n",
    "            # Save code to a file using the extension from Constants\n",
    "            code_file = os.path.join(temp_dir, f\"main.{Constants.file_ext()}\")\n",
    "            with open(code_file, 'w') as f:\n",
    "                f.write(self.code)\n",
    "\n",
    "            # Save input to a file\n",
    "            input_file = os.path.join(temp_dir, \"input.txt\")\n",
    "            with open(input_file, 'w') as f:\n",
    "                f.write(self.input_data)\n",
    "\n",
    "            # Directly run the file\n",
    "            run_command = f\"{Constants.runtime()} {code_file} < {input_file}\"\n",
    "\n",
    "            # Run the command in the temporary directory\n",
    "            run_result = subprocess.run(\n",
    "                run_command,\n",
    "                shell=True,\n",
    "                capture_output=True,\n",
    "                text=True,\n",
    "                cwd=temp_dir  # Set the working directory to the temporary directory\n",
    "            )\n",
    "\n",
    "            if run_result.returncode != 0:\n",
    "                return f\"Runtime error: {run_result.stderr}\"\n",
    "\n",
    "            return run_result.stdout\n",
    "\n",
    "# Test the EvaluateCode class\n",
    "def test_evaluate_code():\n",
    "    code = '''\n",
    "print(\"Enter a number:\")\n",
    "n = io.read(\"*n\")\n",
    "print(\"The number is: \" .. n)\n",
    "'''\n",
    "    input_data = \"43\"\n",
    "\n",
    "    evaluator = EvaluateCode(code, input_data)\n",
    "    result = evaluator.run()\n",
    "    print(\"Evaluation result:\")\n",
    "    print(result)\n",
    "\n",
    "# Run the test\n",
    "test_evaluate_code()"
   ]
  },
  {
   "cell_type": "code",
   "execution_count": 25,
   "id": "6fe66aba-1aaa-43a9-b269-31eadfb94e13",
   "metadata": {},
   "outputs": [
    {
     "name": "stdout",
     "output_type": "stream",
     "text": [
      "Testing with task description:\n",
      "Solution found: True\n",
      "Result: Runtime error: In \u001b[4m/var/folders/46/6lz6t86n4n10lwsyj3pyzd6h0000gn/T/tmp3r6eddn2/main.cr:3:11\u001b[0m\n",
      "\n",
      "\u001b[2m 3 | \u001b[0m\u001b[1mwith open('input.txt', 'r') as f:\u001b[0m\n",
      "               \u001b[32;1m^\u001b[0m\n",
      "\u001b[33;1mError: unterminated char literal, use double quotes for strings\u001b[0m\n",
      "\n",
      "\n",
      "Testing with Go solution conversion:\n",
      "Solution found: True\n",
      "Result: Runtime error: In \u001b[4m/var/folders/46/6lz6t86n4n10lwsyj3pyzd6h0000gn/T/tmpvtnigfec/main.cr:3:11\u001b[0m\n",
      "\n",
      "\u001b[2m 3 | \u001b[0m\u001b[1mwith open('input.txt', 'r') as f:\u001b[0m\n",
      "               \u001b[32;1m^\u001b[0m\n",
      "\u001b[33;1mError: unterminated char literal, use double quotes for strings\u001b[0m\n",
      "\n"
     ]
    },
    {
     "name": "stderr",
     "output_type": "stream",
     "text": [
      "python(23122) MallocStackLogging: can't turn off malloc stack logging because it was not enabled.\n",
      "python(23124) MallocStackLogging: can't turn off malloc stack logging because it was not enabled.\n"
     ]
    }
   ],
   "source": [
    "import re\n",
    "import os\n",
    "import signal\n",
    "import time\n",
    "from pathlib import Path\n",
    "\n",
    "class TimeoutException(Exception):\n",
    "    pass\n",
    "\n",
    "def timeout_handler(signum, frame):\n",
    "    raise TimeoutException(\"Execution timed out\")\n",
    "\n",
    "class ChallengeSolver:\n",
    "    def __init__(self, model_name, llm_wrapper, language='julia'):\n",
    "        self.model_name = model_name\n",
    "        self.llm_wrapper = llm_wrapper\n",
    "        self.language = language\n",
    "\n",
    "    def extract_code(self, input_text):\n",
    "        pattern = rf\"```(?:{self.language})?(.*?)```\"\n",
    "        matches = re.findall(pattern, input_text, re.DOTALL)\n",
    "        return matches[0] if matches else input_text\n",
    "\n",
    "    def valid_solution(self, result, answer):\n",
    "        special_cases = [\n",
    "            \".##..####.###..#..#.###..####.###....##.###...###.\",\n",
    "            \" ##  #### ###  #  # ###  #### ###    ## ###   ### \",\n",
    "            \"#....#..#....#.....###..######....##....#....#....##....######\",\n",
    "            \"#    #  #    #     ###  ######    ##    #    #    ##    ######\",\n",
    "            \"3.465154e+06\", \"3.465154e+6\",\n",
    "            \"####.###..####.#..#.###..\\n#....#..#....#.#..#.#..#.\",\n",
    "            \"#### ###  #### #  # ###  \\n#    #  #    # #  # #  # \",\n",
    "            \".#....###....##.#..#.####.#..#.#....#..#.\\n\",\n",
    "            \" #    ###    ## #  # #### #  # #    #  # \\n\",\n",
    "            \" █    ███    ██ █  █ ████ █  █ █    █  █ \\n\",\n",
    "            \"#..#.#..#.#..#.#..#.#..#.#..#.#..#....#\",\n",
    "            \"#  # #  # #  # #  # #  # #  # #  #    #\",\n",
    "            \"###..###..###...##..###...##...##..####.\",\n",
    "            \"###  ###  ###   ##  ###   ##   ##  #### \"\n",
    "        ]\n",
    "        return answer in result or any(case in result for case in special_cases)\n",
    "\n",
    "    def solve(self, challenge_data, use_go_solution=False):\n",
    "        if use_go_solution:\n",
    "            system_prompt = f\"\"\"\n",
    "            You are an expert programmer that writes simple, concise code and no comments or explanation.\n",
    "            Given this golang program write a {self.language} version that it reads its input from a file \"input.txt\" and solve the following task.\n",
    "            The program should print the answer.\n",
    "\n",
    "            **NOTE:** Golang is faster language than {self.language}, thus you have to try more efficient solution in {self.language}!\n",
    "\n",
    "            Golang Solution:\n",
    "            {challenge_data['solution']}\n",
    "            \"\"\"\n",
    "            user_prompt = f\"Convert the above Go solution to {self.language} and optimize it if possible.\"\n",
    "        else:\n",
    "            system_prompt = f\"\"\"\n",
    "            Write a {self.language} program that reads input from a file called input.txt and prints the output to standard output.\n",
    "            Focus on writing clean, efficient code that demonstrates your programming skills by concisely solving the challenge.\n",
    "            {\"**NOTE:** DO NOT forget to add at the top of the code #!/usr/bin/awk\" if self.language == 'awk' else \"\"}\n",
    "\n",
    "            Coding challenge:\n",
    "            \"\"\"\n",
    "            user_prompt = challenge_data['task']\n",
    "\n",
    "        start_time = time.time()\n",
    "        timeout = 40  # 40 seconds timeout\n",
    "\n",
    "        # Set the signal handler and a 40-second alarm\n",
    "        signal.signal(signal.SIGALRM, timeout_handler)\n",
    "        signal.alarm(timeout)\n",
    "\n",
    "        try:\n",
    "            max_attempts = 1\n",
    "            for attempt in range(max_attempts):\n",
    "                if time.time() - start_time > timeout:\n",
    "                    raise TimeoutException(\"Execution timed out\")\n",
    "\n",
    "                response = self.llm_wrapper.generate(system_prompt, user_prompt)\n",
    "                code = self.extract_code(response)\n",
    "\n",
    "                evaluator = EvaluateCode(code, challenge_data['input'])\n",
    "                result = evaluator.run()\n",
    "\n",
    "                if self.valid_solution(result, challenge_data['answer']):\n",
    "                    self.save_solution(challenge_data, code)\n",
    "                    return True, result\n",
    "\n",
    "            return False, \"Failed to find a valid solution after multiple attempts.\"\n",
    "\n",
    "        except TimeoutException:\n",
    "            return False, \"Execution timed out after 40 seconds.\"\n",
    "\n",
    "        finally:\n",
    "            # Cancel the alarm\n",
    "            signal.alarm(0)\n",
    "\n",
    "    def save_solution(self, challenge_data, code):\n",
    "        home_dir = str(Path.home())\n",
    "        file_path = f\"{home_dir}/code/advent_generated/{challenge_data['name']}.{self.get_file_extension()}\"\n",
    "        os.makedirs(os.path.dirname(file_path), exist_ok=True)\n",
    "        with open(file_path, 'w') as f:\n",
    "            f.write(code)\n",
    "\n",
    "    def get_file_extension(self):\n",
    "        extensions = {\n",
    "            'go': 'go',\n",
    "            'python': 'py',\n",
    "            'awk': 'awk',\n",
    "            'zig': 'zig',\n",
    "            'ruby': 'rb',\n",
    "            'lua': 'lua',\n",
    "            'julia': 'jl',\n",
    "            'php': 'php',\n",
    "            'elixir': 'exs',\n",
    "            'perl': 'pl',\n",
    "            'crystal': 'cr',\n",
    "            # Add more languages and their extensions as needed\n",
    "        }\n",
    "        return extensions.get(self.language, '')\n",
    "\n",
    "# Example usage and test\n",
    "def test_challenge_solver():\n",
    "    class MockLLMWrapper:\n",
    "        def generate(self, system_prompt, user_prompt):\n",
    "            return '''Here's a Python solution for the problem:\n",
    "\n",
    "```python\n",
    "#!/usr/bin/env python3\n",
    "with open('input.txt', 'r') as f:\n",
    "    data = f.read().strip()\n",
    "\n",
    "sum = 0\n",
    "for i in range(len(data)):\n",
    "    if data[i] == data[(i + 1) % len(data)]:\n",
    "        sum += int(data[i])\n",
    "\n",
    "print(sum)\n",
    "```'''\n",
    "\n",
    "    # Sample challenge data\n",
    "    challenge_data = {\n",
    "        \"name\": \"day1_part1_2017\",\n",
    "        \"task\": \"Find the sum of all digits that match the next digit in the list. The list is circular, so the digit after the last digit is the first digit in the list.\",\n",
    "        \"input\": \"1122\",\n",
    "        \"answer\": \"3\",\n",
    "        \"solution\": \"package main\\n\\nimport (\\n\\t\\\"fmt\\\"\\n\\t\\\"os\\\"\\n\\t\\\"strings\\\"\\n)\\n\\nfunc main() {\\n\\tdata, _ := os.ReadFile(\\\"input.txt\\\")\\n\\tinput := strings.TrimSpace(string(data))\\n\\tsum := 0\\n\\tfor i := 0; i < len(input); i++ {\\n\\t\\tif input[i] == input[(i+1)%len(input)] {\\n\\t\\t\\tsum += int(input[i] - '0')\\n\\t\\t}\\n\\t}\\n\\tfmt.Println(sum)\\n}\",\n",
    "        \"solution_lang\": \"go\",\n",
    "        \"year\": 2017\n",
    "    }\n",
    "\n",
    "    solver = ChallengeSolver(\"gpt-3.5-turbo\", MockLLMWrapper(), language='python')\n",
    "    \n",
    "    print(\"Testing with task description:\")\n",
    "    success, result = solver.solve(challenge_data, use_go_solution=False)\n",
    "    print(f\"Solution found: {success}\")\n",
    "    print(f\"Result: {result}\")\n",
    "\n",
    "    print(\"\\nTesting with Go solution conversion:\")\n",
    "    success, result = solver.solve(challenge_data, use_go_solution=True)\n",
    "    print(f\"Solution found: {success}\")\n",
    "    print(f\"Result: {result}\")\n",
    "\n",
    "# Run the test\n",
    "test_challenge_solver()"
   ]
  },
  {
   "cell_type": "code",
   "execution_count": 28,
   "id": "113eaa30-2b2f-495d-9422-11a1a6b0e3ab",
   "metadata": {},
   "outputs": [
    {
     "name": "stdout",
     "output_type": "stream",
     "text": [
      "Total unsolved challenges: 231\n"
     ]
    },
    {
     "name": "stderr",
     "output_type": "stream",
     "text": [
      "python(80244) MallocStackLogging: can't turn off malloc stack logging because it was not enabled.\n"
     ]
    },
    {
     "name": "stdout",
     "output_type": "stream",
     "text": [
      "Failed to find a valid solution after multiple attempts.\n",
      "Failed to solve day7_part1_2015: Failed after maximum attempts\n",
      "Progress: 0.4%\n"
     ]
    },
    {
     "name": "stderr",
     "output_type": "stream",
     "text": [
      "python(80310) MallocStackLogging: can't turn off malloc stack logging because it was not enabled.\n"
     ]
    },
    {
     "name": "stdout",
     "output_type": "stream",
     "text": [
      "Failed to find a valid solution after multiple attempts.\n",
      "Failed to solve day7_part2_2015: Failed after maximum attempts\n",
      "Progress: 0.9%\n"
     ]
    },
    {
     "name": "stderr",
     "output_type": "stream",
     "text": [
      "python(80414) MallocStackLogging: can't turn off malloc stack logging because it was not enabled.\n"
     ]
    },
    {
     "name": "stdout",
     "output_type": "stream",
     "text": [
      "Failed to find a valid solution after multiple attempts.\n",
      "Failed to solve day9_part2_2015: Failed after maximum attempts\n",
      "Progress: 1.3%\n"
     ]
    },
    {
     "name": "stderr",
     "output_type": "stream",
     "text": [
      "python(80583) MallocStackLogging: can't turn off malloc stack logging because it was not enabled.\n"
     ]
    },
    {
     "name": "stdout",
     "output_type": "stream",
     "text": [
      "Failed to find a valid solution after multiple attempts.\n",
      "Failed to solve day11_part1_2015: Failed after maximum attempts\n",
      "Progress: 1.7%\n"
     ]
    },
    {
     "name": "stderr",
     "output_type": "stream",
     "text": [
      "python(80651) MallocStackLogging: can't turn off malloc stack logging because it was not enabled.\n"
     ]
    },
    {
     "name": "stdout",
     "output_type": "stream",
     "text": [
      "Failed to find a valid solution after multiple attempts.\n",
      "Failed to solve day11_part2_2015: Failed after maximum attempts\n",
      "Progress: 2.2%\n"
     ]
    },
    {
     "name": "stderr",
     "output_type": "stream",
     "text": [
      "python(80724) MallocStackLogging: can't turn off malloc stack logging because it was not enabled.\n"
     ]
    },
    {
     "name": "stdout",
     "output_type": "stream",
     "text": [
      "Failed to find a valid solution after multiple attempts.\n",
      "Failed to solve day12_part1_2015: Failed after maximum attempts\n",
      "Progress: 2.6%\n"
     ]
    },
    {
     "name": "stderr",
     "output_type": "stream",
     "text": [
      "python(80820) MallocStackLogging: can't turn off malloc stack logging because it was not enabled.\n"
     ]
    },
    {
     "name": "stdout",
     "output_type": "stream",
     "text": [
      "Failed to find a valid solution after multiple attempts.\n",
      "Failed to solve day12_part2_2015: Failed after maximum attempts\n",
      "Progress: 3.0%\n"
     ]
    },
    {
     "name": "stderr",
     "output_type": "stream",
     "text": [
      "python(80978) MallocStackLogging: can't turn off malloc stack logging because it was not enabled.\n"
     ]
    },
    {
     "name": "stdout",
     "output_type": "stream",
     "text": [
      "Failed to find a valid solution after multiple attempts.\n",
      "Failed to solve day13_part1_2015: Failed after maximum attempts\n",
      "Progress: 3.5%\n"
     ]
    },
    {
     "name": "stderr",
     "output_type": "stream",
     "text": [
      "python(81077) MallocStackLogging: can't turn off malloc stack logging because it was not enabled.\n"
     ]
    },
    {
     "name": "stdout",
     "output_type": "stream",
     "text": [
      "Failed to find a valid solution after multiple attempts.\n",
      "Failed to solve day13_part2_2015: Failed after maximum attempts\n",
      "Progress: 3.9%\n"
     ]
    },
    {
     "name": "stderr",
     "output_type": "stream",
     "text": [
      "python(81143) MallocStackLogging: can't turn off malloc stack logging because it was not enabled.\n"
     ]
    },
    {
     "name": "stdout",
     "output_type": "stream",
     "text": [
      "Failed to find a valid solution after multiple attempts.\n",
      "Failed to solve day16_part1_2015: Failed after maximum attempts\n",
      "Progress: 4.3%\n"
     ]
    },
    {
     "name": "stderr",
     "output_type": "stream",
     "text": [
      "python(81268) MallocStackLogging: can't turn off malloc stack logging because it was not enabled.\n"
     ]
    },
    {
     "name": "stdout",
     "output_type": "stream",
     "text": [
      "Failed to find a valid solution after multiple attempts.\n",
      "Failed to solve day16_part2_2015: Failed after maximum attempts\n",
      "Progress: 4.8%\n"
     ]
    },
    {
     "name": "stderr",
     "output_type": "stream",
     "text": [
      "python(81405) MallocStackLogging: can't turn off malloc stack logging because it was not enabled.\n"
     ]
    },
    {
     "name": "stdout",
     "output_type": "stream",
     "text": [
      "Failed to find a valid solution after multiple attempts.\n",
      "Failed to solve day19_part2_2015: Failed after maximum attempts\n",
      "Progress: 5.2%\n"
     ]
    },
    {
     "name": "stderr",
     "output_type": "stream",
     "text": [
      "python(81476) MallocStackLogging: can't turn off malloc stack logging because it was not enabled.\n"
     ]
    },
    {
     "name": "stdout",
     "output_type": "stream",
     "text": [
      "Failed to find a valid solution after multiple attempts.\n",
      "Failed to solve day20_part2_2015: Failed after maximum attempts\n",
      "Progress: 5.6%\n"
     ]
    },
    {
     "name": "stderr",
     "output_type": "stream",
     "text": [
      "python(81612) MallocStackLogging: can't turn off malloc stack logging because it was not enabled.\n"
     ]
    },
    {
     "name": "stdout",
     "output_type": "stream",
     "text": [
      "Failed to find a valid solution after multiple attempts.\n",
      "Failed to solve day21_part1_2015: Failed after maximum attempts\n",
      "Progress: 6.1%\n"
     ]
    },
    {
     "name": "stderr",
     "output_type": "stream",
     "text": [
      "python(81783) MallocStackLogging: can't turn off malloc stack logging because it was not enabled.\n"
     ]
    },
    {
     "name": "stdout",
     "output_type": "stream",
     "text": [
      "Failed to find a valid solution after multiple attempts.\n",
      "Failed to solve day22_part1_2015: Failed after maximum attempts\n",
      "Progress: 6.5%\n"
     ]
    },
    {
     "name": "stderr",
     "output_type": "stream",
     "text": [
      "python(82080) MallocStackLogging: can't turn off malloc stack logging because it was not enabled.\n"
     ]
    },
    {
     "name": "stdout",
     "output_type": "stream",
     "text": [
      "Failed to find a valid solution after multiple attempts.\n",
      "Failed to solve day22_part2_2015: Failed after maximum attempts\n",
      "Progress: 6.9%\n"
     ]
    },
    {
     "name": "stderr",
     "output_type": "stream",
     "text": [
      "python(82151) MallocStackLogging: can't turn off malloc stack logging because it was not enabled.\n"
     ]
    },
    {
     "name": "stdout",
     "output_type": "stream",
     "text": [
      "Failed to find a valid solution after multiple attempts.\n",
      "Failed to solve day23_part1_2015: Failed after maximum attempts\n",
      "Progress: 7.4%\n"
     ]
    },
    {
     "name": "stderr",
     "output_type": "stream",
     "text": [
      "python(82222) MallocStackLogging: can't turn off malloc stack logging because it was not enabled.\n"
     ]
    },
    {
     "name": "stdout",
     "output_type": "stream",
     "text": [
      "Failed to find a valid solution after multiple attempts.\n",
      "Failed to solve day23_part2_2015: Failed after maximum attempts\n",
      "Progress: 7.8%\n"
     ]
    },
    {
     "name": "stderr",
     "output_type": "stream",
     "text": [
      "python(82326) MallocStackLogging: can't turn off malloc stack logging because it was not enabled.\n"
     ]
    },
    {
     "name": "stdout",
     "output_type": "stream",
     "text": [
      "Failed to find a valid solution after multiple attempts.\n",
      "Failed to solve day24_part1_2015: Failed after maximum attempts\n",
      "Progress: 8.2%\n"
     ]
    },
    {
     "name": "stderr",
     "output_type": "stream",
     "text": [
      "python(82430) MallocStackLogging: can't turn off malloc stack logging because it was not enabled.\n"
     ]
    },
    {
     "name": "stdout",
     "output_type": "stream",
     "text": [
      "Failed to find a valid solution after multiple attempts.\n",
      "Failed to solve day24_part2_2015: Failed after maximum attempts\n",
      "Progress: 8.7%\n"
     ]
    },
    {
     "name": "stderr",
     "output_type": "stream",
     "text": [
      "python(82533) MallocStackLogging: can't turn off malloc stack logging because it was not enabled.\n"
     ]
    },
    {
     "name": "stdout",
     "output_type": "stream",
     "text": [
      "Failed to find a valid solution after multiple attempts.\n",
      "Failed to solve day4_part1_2016: Failed after maximum attempts\n",
      "Progress: 9.1%\n"
     ]
    },
    {
     "name": "stderr",
     "output_type": "stream",
     "text": [
      "python(82674) MallocStackLogging: can't turn off malloc stack logging because it was not enabled.\n"
     ]
    },
    {
     "name": "stdout",
     "output_type": "stream",
     "text": [
      "Failed to find a valid solution after multiple attempts.\n",
      "Failed to solve day4_part2_2016: Failed after maximum attempts\n",
      "Progress: 9.5%\n"
     ]
    },
    {
     "name": "stderr",
     "output_type": "stream",
     "text": [
      "python(82746) MallocStackLogging: can't turn off malloc stack logging because it was not enabled.\n"
     ]
    },
    {
     "name": "stdout",
     "output_type": "stream",
     "text": [
      "Failed to find a valid solution after multiple attempts.\n",
      "Failed to solve day5_part1_2016: Failed after maximum attempts\n",
      "Progress: 10.0%\n"
     ]
    },
    {
     "name": "stderr",
     "output_type": "stream",
     "text": [
      "python(82841) MallocStackLogging: can't turn off malloc stack logging because it was not enabled.\n"
     ]
    },
    {
     "name": "stdout",
     "output_type": "stream",
     "text": [
      "Failed to find a valid solution after multiple attempts.\n",
      "Failed to solve day5_part2_2016: Failed after maximum attempts\n",
      "Progress: 10.4%\n"
     ]
    },
    {
     "name": "stderr",
     "output_type": "stream",
     "text": [
      "python(82936) MallocStackLogging: can't turn off malloc stack logging because it was not enabled.\n"
     ]
    },
    {
     "name": "stdout",
     "output_type": "stream",
     "text": [
      "Failed to find a valid solution after multiple attempts.\n",
      "Failed to solve day7_part2_2016: Failed after maximum attempts\n",
      "Progress: 10.8%\n"
     ]
    },
    {
     "name": "stderr",
     "output_type": "stream",
     "text": [
      "python(83002) MallocStackLogging: can't turn off malloc stack logging because it was not enabled.\n"
     ]
    },
    {
     "name": "stdout",
     "output_type": "stream",
     "text": [
      "Failed to find a valid solution after multiple attempts.\n",
      "Failed to solve day9_part2_2016: Failed after maximum attempts\n",
      "Progress: 11.3%\n"
     ]
    },
    {
     "name": "stderr",
     "output_type": "stream",
     "text": [
      "python(83156) MallocStackLogging: can't turn off malloc stack logging because it was not enabled.\n"
     ]
    },
    {
     "name": "stdout",
     "output_type": "stream",
     "text": [
      "Failed to find a valid solution after multiple attempts.\n",
      "Failed to solve day10_part1_2016: Failed after maximum attempts\n",
      "Progress: 11.7%\n"
     ]
    },
    {
     "name": "stderr",
     "output_type": "stream",
     "text": [
      "python(83292) MallocStackLogging: can't turn off malloc stack logging because it was not enabled.\n"
     ]
    },
    {
     "name": "stdout",
     "output_type": "stream",
     "text": [
      "Failed to find a valid solution after multiple attempts.\n",
      "Failed to solve day10_part2_2016: Failed after maximum attempts\n",
      "Progress: 12.1%\n"
     ]
    },
    {
     "name": "stderr",
     "output_type": "stream",
     "text": [
      "python(83590) MallocStackLogging: can't turn off malloc stack logging because it was not enabled.\n"
     ]
    },
    {
     "name": "stdout",
     "output_type": "stream",
     "text": [
      "Failed to find a valid solution after multiple attempts.\n",
      "Failed to solve day11_part1_2016: Failed after maximum attempts\n",
      "Progress: 12.6%\n"
     ]
    },
    {
     "name": "stderr",
     "output_type": "stream",
     "text": [
      "python(83782) MallocStackLogging: can't turn off malloc stack logging because it was not enabled.\n"
     ]
    },
    {
     "name": "stdout",
     "output_type": "stream",
     "text": [
      "Failed to find a valid solution after multiple attempts.\n",
      "Failed to solve day11_part2_2016: Failed after maximum attempts\n",
      "Progress: 13.0%\n"
     ]
    },
    {
     "name": "stderr",
     "output_type": "stream",
     "text": [
      "python(83927) MallocStackLogging: can't turn off malloc stack logging because it was not enabled.\n"
     ]
    },
    {
     "name": "stdout",
     "output_type": "stream",
     "text": [
      "Failed to find a valid solution after multiple attempts.\n",
      "Failed to solve day13_part2_2016: Failed after maximum attempts\n",
      "Progress: 13.4%\n"
     ]
    },
    {
     "name": "stderr",
     "output_type": "stream",
     "text": [
      "python(83998) MallocStackLogging: can't turn off malloc stack logging because it was not enabled.\n"
     ]
    },
    {
     "name": "stdout",
     "output_type": "stream",
     "text": [
      "Failed to find a valid solution after multiple attempts.\n",
      "Failed to solve day14_part1_2016: Failed after maximum attempts\n",
      "Progress: 13.9%\n"
     ]
    },
    {
     "name": "stderr",
     "output_type": "stream",
     "text": [
      "python(84221) MallocStackLogging: can't turn off malloc stack logging because it was not enabled.\n"
     ]
    },
    {
     "name": "stdout",
     "output_type": "stream",
     "text": [
      "Failed to find a valid solution after multiple attempts.\n",
      "Failed to solve day14_part2_2016: Failed after maximum attempts\n",
      "Progress: 14.3%\n"
     ]
    },
    {
     "name": "stderr",
     "output_type": "stream",
     "text": [
      "python(84348) MallocStackLogging: can't turn off malloc stack logging because it was not enabled.\n"
     ]
    },
    {
     "name": "stdout",
     "output_type": "stream",
     "text": [
      "Failed to find a valid solution after multiple attempts.\n",
      "Failed to solve day15_part2_2016: Failed after maximum attempts\n",
      "Progress: 14.7%\n"
     ]
    },
    {
     "name": "stderr",
     "output_type": "stream",
     "text": [
      "python(84483) MallocStackLogging: can't turn off malloc stack logging because it was not enabled.\n"
     ]
    },
    {
     "name": "stdout",
     "output_type": "stream",
     "text": [
      "Failed to find a valid solution after multiple attempts.\n",
      "Failed to solve day17_part1_2016: Failed after maximum attempts\n",
      "Progress: 15.2%\n"
     ]
    },
    {
     "name": "stderr",
     "output_type": "stream",
     "text": [
      "python(84645) MallocStackLogging: can't turn off malloc stack logging because it was not enabled.\n"
     ]
    },
    {
     "name": "stdout",
     "output_type": "stream",
     "text": [
      "Failed to find a valid solution after multiple attempts.\n",
      "Failed to solve day17_part2_2016: Failed after maximum attempts\n",
      "Progress: 15.6%\n"
     ]
    },
    {
     "name": "stderr",
     "output_type": "stream",
     "text": [
      "python(84740) MallocStackLogging: can't turn off malloc stack logging because it was not enabled.\n"
     ]
    },
    {
     "name": "stdout",
     "output_type": "stream",
     "text": [
      "Failed to find a valid solution after multiple attempts.\n",
      "Failed to solve day19_part2_2016: Failed after maximum attempts\n",
      "Progress: 16.0%\n"
     ]
    },
    {
     "name": "stderr",
     "output_type": "stream",
     "text": [
      "python(84843) MallocStackLogging: can't turn off malloc stack logging because it was not enabled.\n"
     ]
    },
    {
     "name": "stdout",
     "output_type": "stream",
     "text": [
      "Failed to find a valid solution after multiple attempts.\n",
      "Failed to solve day20_part2_2016: Failed after maximum attempts\n",
      "Progress: 16.5%\n"
     ]
    },
    {
     "name": "stderr",
     "output_type": "stream",
     "text": [
      "python(85010) MallocStackLogging: can't turn off malloc stack logging because it was not enabled.\n"
     ]
    },
    {
     "name": "stdout",
     "output_type": "stream",
     "text": [
      "Failed to find a valid solution after multiple attempts.\n",
      "Failed to solve day21_part1_2016: Failed after maximum attempts\n",
      "Progress: 16.9%\n"
     ]
    },
    {
     "name": "stderr",
     "output_type": "stream",
     "text": [
      "python(85241) MallocStackLogging: can't turn off malloc stack logging because it was not enabled.\n"
     ]
    },
    {
     "name": "stdout",
     "output_type": "stream",
     "text": [
      "Failed to find a valid solution after multiple attempts.\n",
      "Failed to solve day21_part2_2016: Failed after maximum attempts\n",
      "Progress: 17.3%\n"
     ]
    },
    {
     "name": "stderr",
     "output_type": "stream",
     "text": [
      "python(85376) MallocStackLogging: can't turn off malloc stack logging because it was not enabled.\n"
     ]
    },
    {
     "name": "stdout",
     "output_type": "stream",
     "text": [
      "Failed to find a valid solution after multiple attempts.\n",
      "Failed to solve day22_part1_2016: Failed after maximum attempts\n",
      "Progress: 17.7%\n"
     ]
    },
    {
     "name": "stderr",
     "output_type": "stream",
     "text": [
      "python(85576) MallocStackLogging: can't turn off malloc stack logging because it was not enabled.\n"
     ]
    },
    {
     "name": "stdout",
     "output_type": "stream",
     "text": [
      "Failed to find a valid solution after multiple attempts.\n",
      "Failed to solve day22_part2_2016: Failed after maximum attempts\n",
      "Progress: 18.2%\n"
     ]
    },
    {
     "name": "stderr",
     "output_type": "stream",
     "text": [
      "python(85676) MallocStackLogging: can't turn off malloc stack logging because it was not enabled.\n"
     ]
    },
    {
     "name": "stdout",
     "output_type": "stream",
     "text": [
      "Failed to find a valid solution after multiple attempts.\n",
      "Failed to solve day23_part2_2016: Failed after maximum attempts\n",
      "Progress: 18.6%\n"
     ]
    },
    {
     "name": "stderr",
     "output_type": "stream",
     "text": [
      "python(85907) MallocStackLogging: can't turn off malloc stack logging because it was not enabled.\n"
     ]
    },
    {
     "name": "stdout",
     "output_type": "stream",
     "text": [
      "Failed to find a valid solution after multiple attempts.\n",
      "Failed to solve day24_part1_2016: Failed after maximum attempts\n",
      "Progress: 19.0%\n"
     ]
    },
    {
     "name": "stderr",
     "output_type": "stream",
     "text": [
      "python(86074) MallocStackLogging: can't turn off malloc stack logging because it was not enabled.\n"
     ]
    },
    {
     "name": "stdout",
     "output_type": "stream",
     "text": [
      "Failed to find a valid solution after multiple attempts.\n",
      "Failed to solve day24_part2_2016: Failed after maximum attempts\n",
      "Progress: 19.5%\n"
     ]
    },
    {
     "name": "stderr",
     "output_type": "stream",
     "text": [
      "python(86177) MallocStackLogging: can't turn off malloc stack logging because it was not enabled.\n"
     ]
    },
    {
     "name": "stdout",
     "output_type": "stream",
     "text": [
      "Failed to find a valid solution after multiple attempts.\n",
      "Failed to solve day7_part2_2017: Failed after maximum attempts\n",
      "Progress: 19.9%\n"
     ]
    },
    {
     "name": "stderr",
     "output_type": "stream",
     "text": [
      "python(86276) MallocStackLogging: can't turn off malloc stack logging because it was not enabled.\n"
     ]
    },
    {
     "name": "stdout",
     "output_type": "stream",
     "text": [
      "Failed to find a valid solution after multiple attempts.\n",
      "Failed to solve day10_part2_2017: Failed after maximum attempts\n",
      "Progress: 20.3%\n"
     ]
    },
    {
     "name": "stderr",
     "output_type": "stream",
     "text": [
      "python(86347) MallocStackLogging: can't turn off malloc stack logging because it was not enabled.\n"
     ]
    },
    {
     "name": "stdout",
     "output_type": "stream",
     "text": [
      "Failed to find a valid solution after multiple attempts.\n",
      "Failed to solve day12_part2_2017: Failed after maximum attempts\n",
      "Progress: 20.8%\n"
     ]
    },
    {
     "name": "stderr",
     "output_type": "stream",
     "text": [
      "python(86533) MallocStackLogging: can't turn off malloc stack logging because it was not enabled.\n"
     ]
    },
    {
     "name": "stdout",
     "output_type": "stream",
     "text": [
      "Failed to find a valid solution after multiple attempts.\n",
      "Failed to solve day14_part1_2017: Failed after maximum attempts\n",
      "Progress: 21.2%\n"
     ]
    },
    {
     "name": "stderr",
     "output_type": "stream",
     "text": [
      "python(86669) MallocStackLogging: can't turn off malloc stack logging because it was not enabled.\n"
     ]
    },
    {
     "name": "stdout",
     "output_type": "stream",
     "text": [
      "Failed to find a valid solution after multiple attempts.\n",
      "Failed to solve day14_part2_2017: Failed after maximum attempts\n",
      "Progress: 21.6%\n"
     ]
    },
    {
     "name": "stderr",
     "output_type": "stream",
     "text": [
      "python(86768) MallocStackLogging: can't turn off malloc stack logging because it was not enabled.\n"
     ]
    },
    {
     "name": "stdout",
     "output_type": "stream",
     "text": [
      "Failed to find a valid solution after multiple attempts.\n",
      "Failed to solve day16_part2_2017: Failed after maximum attempts\n",
      "Progress: 22.1%\n"
     ]
    },
    {
     "name": "stderr",
     "output_type": "stream",
     "text": [
      "python(86903) MallocStackLogging: can't turn off malloc stack logging because it was not enabled.\n"
     ]
    },
    {
     "name": "stdout",
     "output_type": "stream",
     "text": [
      "Failed to find a valid solution after multiple attempts.\n",
      "Failed to solve day18_part1_2017: Failed after maximum attempts\n",
      "Progress: 22.5%\n"
     ]
    },
    {
     "name": "stderr",
     "output_type": "stream",
     "text": [
      "python(87038) MallocStackLogging: can't turn off malloc stack logging because it was not enabled.\n"
     ]
    },
    {
     "name": "stdout",
     "output_type": "stream",
     "text": [
      "Failed to find a valid solution after multiple attempts.\n",
      "Failed to solve day18_part2_2017: Failed after maximum attempts\n",
      "Progress: 22.9%\n"
     ]
    },
    {
     "name": "stderr",
     "output_type": "stream",
     "text": [
      "python(87192) MallocStackLogging: can't turn off malloc stack logging because it was not enabled.\n"
     ]
    },
    {
     "name": "stdout",
     "output_type": "stream",
     "text": [
      "Failed to find a valid solution after multiple attempts.\n",
      "Failed to solve day21_part1_2017: Failed after maximum attempts\n",
      "Progress: 23.4%\n"
     ]
    },
    {
     "name": "stderr",
     "output_type": "stream",
     "text": [
      "python(87360) MallocStackLogging: can't turn off malloc stack logging because it was not enabled.\n"
     ]
    },
    {
     "name": "stdout",
     "output_type": "stream",
     "text": [
      "Failed to find a valid solution after multiple attempts.\n",
      "Failed to solve day21_part2_2017: Failed after maximum attempts\n",
      "Progress: 23.8%\n"
     ]
    },
    {
     "name": "stderr",
     "output_type": "stream",
     "text": [
      "python(87464) MallocStackLogging: can't turn off malloc stack logging because it was not enabled.\n"
     ]
    },
    {
     "name": "stdout",
     "output_type": "stream",
     "text": [
      "Failed to find a valid solution after multiple attempts.\n",
      "Failed to solve day22_part2_2017: Failed after maximum attempts\n",
      "Progress: 24.2%\n"
     ]
    },
    {
     "name": "stderr",
     "output_type": "stream",
     "text": [
      "python(87567) MallocStackLogging: can't turn off malloc stack logging because it was not enabled.\n"
     ]
    },
    {
     "name": "stdout",
     "output_type": "stream",
     "text": [
      "1868\n",
      "\n",
      "Solved day24_part1_2017 successfully!\n",
      "Progress: 24.7%\n"
     ]
    },
    {
     "name": "stderr",
     "output_type": "stream",
     "text": [
      "python(87690) MallocStackLogging: can't turn off malloc stack logging because it was not enabled.\n"
     ]
    },
    {
     "name": "stdout",
     "output_type": "stream",
     "text": [
      "Failed to find a valid solution after multiple attempts.\n",
      "Failed to solve day24_part2_2017: Failed after maximum attempts\n",
      "Progress: 25.1%\n"
     ]
    },
    {
     "name": "stderr",
     "output_type": "stream",
     "text": [
      "python(87795) MallocStackLogging: can't turn off malloc stack logging because it was not enabled.\n"
     ]
    },
    {
     "name": "stdout",
     "output_type": "stream",
     "text": [
      "Failed to find a valid solution after multiple attempts.\n",
      "Failed to solve day25_part1_2017: Failed after maximum attempts\n",
      "Progress: 25.5%\n"
     ]
    },
    {
     "name": "stderr",
     "output_type": "stream",
     "text": [
      "python(87932) MallocStackLogging: can't turn off malloc stack logging because it was not enabled.\n"
     ]
    },
    {
     "name": "stdout",
     "output_type": "stream",
     "text": [
      "Failed to find a valid solution after multiple attempts.\n",
      "Failed to solve day4_part1_2018: Failed after maximum attempts\n",
      "Progress: 26.0%\n"
     ]
    },
    {
     "name": "stderr",
     "output_type": "stream",
     "text": [
      "python(88099) MallocStackLogging: can't turn off malloc stack logging because it was not enabled.\n"
     ]
    },
    {
     "name": "stdout",
     "output_type": "stream",
     "text": [
      "Failed to find a valid solution after multiple attempts.\n",
      "Failed to solve day4_part2_2018: Failed after maximum attempts\n",
      "Progress: 26.4%\n"
     ]
    },
    {
     "name": "stderr",
     "output_type": "stream",
     "text": [
      "python(88202) MallocStackLogging: can't turn off malloc stack logging because it was not enabled.\n"
     ]
    },
    {
     "name": "stdout",
     "output_type": "stream",
     "text": [
      "Failed to find a valid solution after multiple attempts.\n",
      "Failed to solve day7_part1_2018: Failed after maximum attempts\n",
      "Progress: 26.8%\n"
     ]
    },
    {
     "name": "stderr",
     "output_type": "stream",
     "text": [
      "python(88337) MallocStackLogging: can't turn off malloc stack logging because it was not enabled.\n"
     ]
    },
    {
     "name": "stdout",
     "output_type": "stream",
     "text": [
      "Failed to find a valid solution after multiple attempts.\n",
      "Failed to solve day7_part2_2018: Failed after maximum attempts\n",
      "Progress: 27.3%\n"
     ]
    },
    {
     "name": "stderr",
     "output_type": "stream",
     "text": [
      "python(88403) MallocStackLogging: can't turn off malloc stack logging because it was not enabled.\n"
     ]
    },
    {
     "name": "stdout",
     "output_type": "stream",
     "text": [
      "Failed to find a valid solution after multiple attempts.\n",
      "Failed to solve day9_part1_2018: Failed after maximum attempts\n",
      "Progress: 27.7%\n"
     ]
    },
    {
     "name": "stderr",
     "output_type": "stream",
     "text": [
      "python(88506) MallocStackLogging: can't turn off malloc stack logging because it was not enabled.\n"
     ]
    },
    {
     "name": "stdout",
     "output_type": "stream",
     "text": [
      "Failed to find a valid solution after multiple attempts.\n",
      "Failed to solve day9_part2_2018: Failed after maximum attempts\n",
      "Progress: 28.1%\n"
     ]
    },
    {
     "name": "stderr",
     "output_type": "stream",
     "text": [
      "python(88642) MallocStackLogging: can't turn off malloc stack logging because it was not enabled.\n"
     ]
    },
    {
     "name": "stdout",
     "output_type": "stream",
     "text": [
      "Failed to find a valid solution after multiple attempts.\n",
      "Failed to solve day11_part2_2018: Failed after maximum attempts\n",
      "Progress: 28.6%\n"
     ]
    },
    {
     "name": "stderr",
     "output_type": "stream",
     "text": [
      "python(88741) MallocStackLogging: can't turn off malloc stack logging because it was not enabled.\n"
     ]
    },
    {
     "name": "stdout",
     "output_type": "stream",
     "text": [
      "Failed to find a valid solution after multiple attempts.\n",
      "Failed to solve day12_part1_2018: Failed after maximum attempts\n",
      "Progress: 29.0%\n"
     ]
    },
    {
     "name": "stderr",
     "output_type": "stream",
     "text": [
      "python(88876) MallocStackLogging: can't turn off malloc stack logging because it was not enabled.\n"
     ]
    },
    {
     "name": "stdout",
     "output_type": "stream",
     "text": [
      "Failed to find a valid solution after multiple attempts.\n",
      "Failed to solve day12_part2_2018: Failed after maximum attempts\n",
      "Progress: 29.4%\n"
     ]
    },
    {
     "name": "stderr",
     "output_type": "stream",
     "text": [
      "python(89045) MallocStackLogging: can't turn off malloc stack logging because it was not enabled.\n"
     ]
    },
    {
     "name": "stdout",
     "output_type": "stream",
     "text": [
      "Failed to find a valid solution after multiple attempts.\n",
      "Failed to solve day13_part2_2018: Failed after maximum attempts\n",
      "Progress: 29.9%\n"
     ]
    },
    {
     "name": "stderr",
     "output_type": "stream",
     "text": [
      "python(89436) MallocStackLogging: can't turn off malloc stack logging because it was not enabled.\n"
     ]
    },
    {
     "name": "stdout",
     "output_type": "stream",
     "text": [
      "Failed to find a valid solution after multiple attempts.\n",
      "Failed to solve day15_part1_2018: Failed after maximum attempts\n",
      "Progress: 30.3%\n"
     ]
    },
    {
     "name": "stderr",
     "output_type": "stream",
     "text": [
      "python(89696) MallocStackLogging: can't turn off malloc stack logging because it was not enabled.\n"
     ]
    },
    {
     "name": "stdout",
     "output_type": "stream",
     "text": [
      "Failed to find a valid solution after multiple attempts.\n",
      "Failed to solve day15_part2_2018: Failed after maximum attempts\n",
      "Progress: 30.7%\n"
     ]
    },
    {
     "name": "stderr",
     "output_type": "stream",
     "text": [
      "python(89962) MallocStackLogging: can't turn off malloc stack logging because it was not enabled.\n"
     ]
    },
    {
     "name": "stdout",
     "output_type": "stream",
     "text": [
      "Failed to find a valid solution after multiple attempts.\n",
      "Failed to solve day16_part1_2018: Failed after maximum attempts\n",
      "Progress: 31.2%\n"
     ]
    },
    {
     "name": "stderr",
     "output_type": "stream",
     "text": [
      "python(90213) MallocStackLogging: can't turn off malloc stack logging because it was not enabled.\n"
     ]
    },
    {
     "name": "stdout",
     "output_type": "stream",
     "text": [
      "Failed to find a valid solution after multiple attempts.\n",
      "Failed to solve day16_part2_2018: Failed after maximum attempts\n",
      "Progress: 31.6%\n"
     ]
    },
    {
     "name": "stderr",
     "output_type": "stream",
     "text": [
      "python(90380) MallocStackLogging: can't turn off malloc stack logging because it was not enabled.\n"
     ]
    },
    {
     "name": "stdout",
     "output_type": "stream",
     "text": [
      "Failed to find a valid solution after multiple attempts.\n",
      "Failed to solve day18_part2_2018: Failed after maximum attempts\n",
      "Progress: 32.0%\n"
     ]
    },
    {
     "name": "stderr",
     "output_type": "stream",
     "text": [
      "python(90574) MallocStackLogging: can't turn off malloc stack logging because it was not enabled.\n"
     ]
    },
    {
     "name": "stdout",
     "output_type": "stream",
     "text": [
      "Failed to find a valid solution after multiple attempts.\n",
      "Failed to solve day19_part2_2018: Failed after maximum attempts\n",
      "Progress: 32.5%\n"
     ]
    },
    {
     "name": "stderr",
     "output_type": "stream",
     "text": [
      "python(90677) MallocStackLogging: can't turn off malloc stack logging because it was not enabled.\n"
     ]
    },
    {
     "name": "stdout",
     "output_type": "stream",
     "text": [
      "Failed to find a valid solution after multiple attempts.\n",
      "Failed to solve day20_part1_2018: Failed after maximum attempts\n",
      "Progress: 32.9%\n"
     ]
    },
    {
     "name": "stderr",
     "output_type": "stream",
     "text": [
      "python(90844) MallocStackLogging: can't turn off malloc stack logging because it was not enabled.\n"
     ]
    },
    {
     "name": "stdout",
     "output_type": "stream",
     "text": [
      "Failed to find a valid solution after multiple attempts.\n",
      "Failed to solve day20_part2_2018: Failed after maximum attempts\n",
      "Progress: 33.3%\n"
     ]
    },
    {
     "name": "stderr",
     "output_type": "stream",
     "text": [
      "python(91038) MallocStackLogging: can't turn off malloc stack logging because it was not enabled.\n"
     ]
    },
    {
     "name": "stdout",
     "output_type": "stream",
     "text": [
      "Failed to find a valid solution after multiple attempts.\n",
      "Failed to solve day21_part1_2018: Failed after maximum attempts\n",
      "Progress: 33.8%\n"
     ]
    },
    {
     "name": "stderr",
     "output_type": "stream",
     "text": [
      "python(91238) MallocStackLogging: can't turn off malloc stack logging because it was not enabled.\n"
     ]
    },
    {
     "name": "stdout",
     "output_type": "stream",
     "text": [
      "Failed to find a valid solution after multiple attempts.\n",
      "Failed to solve day21_part2_2018: Failed after maximum attempts\n",
      "Progress: 34.2%\n"
     ]
    },
    {
     "name": "stderr",
     "output_type": "stream",
     "text": [
      "python(91534) MallocStackLogging: can't turn off malloc stack logging because it was not enabled.\n"
     ]
    },
    {
     "name": "stdout",
     "output_type": "stream",
     "text": [
      "Failed to find a valid solution after multiple attempts.\n",
      "Failed to solve day22_part2_2018: Failed after maximum attempts\n",
      "Progress: 34.6%\n"
     ]
    },
    {
     "name": "stderr",
     "output_type": "stream",
     "text": [
      "python(91763) MallocStackLogging: can't turn off malloc stack logging because it was not enabled.\n"
     ]
    },
    {
     "name": "stdout",
     "output_type": "stream",
     "text": [
      "Failed to find a valid solution after multiple attempts.\n",
      "Failed to solve day23_part2_2018: Failed after maximum attempts\n",
      "Progress: 35.1%\n"
     ]
    },
    {
     "name": "stderr",
     "output_type": "stream",
     "text": [
      "python(92030) MallocStackLogging: can't turn off malloc stack logging because it was not enabled.\n"
     ]
    },
    {
     "name": "stdout",
     "output_type": "stream",
     "text": [
      "Failed to find a valid solution after multiple attempts.\n",
      "Failed to solve day24_part1_2018: Failed after maximum attempts\n",
      "Progress: 35.5%\n"
     ]
    },
    {
     "name": "stderr",
     "output_type": "stream",
     "text": [
      "python(92357) MallocStackLogging: can't turn off malloc stack logging because it was not enabled.\n"
     ]
    },
    {
     "name": "stdout",
     "output_type": "stream",
     "text": [
      "Failed to find a valid solution after multiple attempts.\n",
      "Failed to solve day24_part2_2018: Failed after maximum attempts\n",
      "Progress: 35.9%\n"
     ]
    },
    {
     "name": "stderr",
     "output_type": "stream",
     "text": [
      "python(92423) MallocStackLogging: can't turn off malloc stack logging because it was not enabled.\n"
     ]
    },
    {
     "name": "stdout",
     "output_type": "stream",
     "text": [
      "Failed to find a valid solution after multiple attempts.\n",
      "Failed to solve day3_part1_2019: Failed after maximum attempts\n",
      "Progress: 36.4%\n"
     ]
    },
    {
     "name": "stderr",
     "output_type": "stream",
     "text": [
      "python(92527) MallocStackLogging: can't turn off malloc stack logging because it was not enabled.\n"
     ]
    },
    {
     "name": "stdout",
     "output_type": "stream",
     "text": [
      "Execution timed out after 40 seconds.\n",
      "Failed to solve day3_part2_2019: Failed after maximum attempts\n",
      "Progress: 36.8%\n"
     ]
    },
    {
     "name": "stderr",
     "output_type": "stream",
     "text": [
      "python(93195) MallocStackLogging: can't turn off malloc stack logging because it was not enabled.\n"
     ]
    },
    {
     "name": "stdout",
     "output_type": "stream",
     "text": [
      "Failed to find a valid solution after multiple attempts.\n",
      "Failed to solve day5_part1_2019: Failed after maximum attempts\n",
      "Progress: 37.2%\n"
     ]
    },
    {
     "name": "stderr",
     "output_type": "stream",
     "text": [
      "python(93331) MallocStackLogging: can't turn off malloc stack logging because it was not enabled.\n"
     ]
    },
    {
     "name": "stdout",
     "output_type": "stream",
     "text": [
      "Failed to find a valid solution after multiple attempts.\n",
      "Failed to solve day5_part2_2019: Failed after maximum attempts\n",
      "Progress: 37.7%\n"
     ]
    },
    {
     "name": "stderr",
     "output_type": "stream",
     "text": [
      "python(93594) MallocStackLogging: can't turn off malloc stack logging because it was not enabled.\n"
     ]
    },
    {
     "name": "stdout",
     "output_type": "stream",
     "text": [
      "Failed to find a valid solution after multiple attempts.\n",
      "Failed to solve day7_part1_2019: Failed after maximum attempts\n",
      "Progress: 38.1%\n"
     ]
    },
    {
     "name": "stderr",
     "output_type": "stream",
     "text": [
      "python(93852) MallocStackLogging: can't turn off malloc stack logging because it was not enabled.\n"
     ]
    },
    {
     "name": "stdout",
     "output_type": "stream",
     "text": [
      "Failed to find a valid solution after multiple attempts.\n",
      "Failed to solve day7_part2_2019: Failed after maximum attempts\n",
      "Progress: 38.5%\n"
     ]
    },
    {
     "name": "stderr",
     "output_type": "stream",
     "text": [
      "python(94046) MallocStackLogging: can't turn off malloc stack logging because it was not enabled.\n"
     ]
    },
    {
     "name": "stdout",
     "output_type": "stream",
     "text": [
      "Failed to find a valid solution after multiple attempts.\n",
      "Failed to solve day9_part1_2019: Failed after maximum attempts\n",
      "Progress: 39.0%\n"
     ]
    },
    {
     "name": "stderr",
     "output_type": "stream",
     "text": [
      "python(94181) MallocStackLogging: can't turn off malloc stack logging because it was not enabled.\n"
     ]
    },
    {
     "name": "stdout",
     "output_type": "stream",
     "text": [
      "Failed to find a valid solution after multiple attempts.\n",
      "Failed to solve day9_part2_2019: Failed after maximum attempts\n",
      "Progress: 39.4%\n"
     ]
    },
    {
     "name": "stderr",
     "output_type": "stream",
     "text": [
      "python(94381) MallocStackLogging: can't turn off malloc stack logging because it was not enabled.\n"
     ]
    },
    {
     "name": "stdout",
     "output_type": "stream",
     "text": [
      "Failed to find a valid solution after multiple attempts.\n",
      "Failed to solve day10_part2_2019: Failed after maximum attempts\n",
      "Progress: 39.8%\n"
     ]
    },
    {
     "name": "stderr",
     "output_type": "stream",
     "text": [
      "python(94614) MallocStackLogging: can't turn off malloc stack logging because it was not enabled.\n"
     ]
    },
    {
     "name": "stdout",
     "output_type": "stream",
     "text": [
      "Failed to find a valid solution after multiple attempts.\n",
      "Failed to solve day11_part1_2019: Failed after maximum attempts\n",
      "Progress: 40.3%\n"
     ]
    },
    {
     "name": "stderr",
     "output_type": "stream",
     "text": [
      "python(94845) MallocStackLogging: can't turn off malloc stack logging because it was not enabled.\n"
     ]
    },
    {
     "name": "stdout",
     "output_type": "stream",
     "text": [
      "Failed to find a valid solution after multiple attempts.\n",
      "Failed to solve day11_part2_2019: Failed after maximum attempts\n",
      "Progress: 40.7%\n"
     ]
    },
    {
     "name": "stderr",
     "output_type": "stream",
     "text": [
      "python(94980) MallocStackLogging: can't turn off malloc stack logging because it was not enabled.\n"
     ]
    },
    {
     "name": "stdout",
     "output_type": "stream",
     "text": [
      "Failed to find a valid solution after multiple attempts.\n",
      "Failed to solve day12_part1_2019: Failed after maximum attempts\n",
      "Progress: 41.1%\n"
     ]
    },
    {
     "name": "stderr",
     "output_type": "stream",
     "text": [
      "python(95180) MallocStackLogging: can't turn off malloc stack logging because it was not enabled.\n"
     ]
    },
    {
     "name": "stdout",
     "output_type": "stream",
     "text": [
      "Failed to find a valid solution after multiple attempts.\n",
      "Failed to solve day12_part2_2019: Failed after maximum attempts\n",
      "Progress: 41.6%\n"
     ]
    },
    {
     "name": "stderr",
     "output_type": "stream",
     "text": [
      "python(95380) MallocStackLogging: can't turn off malloc stack logging because it was not enabled.\n"
     ]
    },
    {
     "name": "stdout",
     "output_type": "stream",
     "text": [
      "Failed to find a valid solution after multiple attempts.\n",
      "Failed to solve day13_part1_2019: Failed after maximum attempts\n",
      "Progress: 42.0%\n"
     ]
    },
    {
     "name": "stderr",
     "output_type": "stream",
     "text": [
      "python(95728) MallocStackLogging: can't turn off malloc stack logging because it was not enabled.\n"
     ]
    },
    {
     "name": "stdout",
     "output_type": "stream",
     "text": [
      "Failed to find a valid solution after multiple attempts.\n",
      "Failed to solve day13_part2_2019: Failed after maximum attempts\n",
      "Progress: 42.4%\n"
     ]
    },
    {
     "name": "stderr",
     "output_type": "stream",
     "text": [
      "python(95866) MallocStackLogging: can't turn off malloc stack logging because it was not enabled.\n"
     ]
    },
    {
     "name": "stdout",
     "output_type": "stream",
     "text": [
      "Failed to find a valid solution after multiple attempts.\n",
      "Failed to solve day14_part1_2019: Failed after maximum attempts\n",
      "Progress: 42.9%\n"
     ]
    },
    {
     "name": "stderr",
     "output_type": "stream",
     "text": [
      "python(96034) MallocStackLogging: can't turn off malloc stack logging because it was not enabled.\n"
     ]
    },
    {
     "name": "stdout",
     "output_type": "stream",
     "text": [
      "Failed to find a valid solution after multiple attempts.\n",
      "Failed to solve day14_part2_2019: Failed after maximum attempts\n",
      "Progress: 43.3%\n"
     ]
    },
    {
     "name": "stderr",
     "output_type": "stream",
     "text": [
      "python(96976) MallocStackLogging: can't turn off malloc stack logging because it was not enabled.\n"
     ]
    },
    {
     "name": "stdout",
     "output_type": "stream",
     "text": [
      "Failed to find a valid solution after multiple attempts.\n",
      "Failed to solve day15_part1_2019: Failed after maximum attempts\n",
      "Progress: 43.7%\n"
     ]
    },
    {
     "name": "stderr",
     "output_type": "stream",
     "text": [
      "python(97625) MallocStackLogging: can't turn off malloc stack logging because it was not enabled.\n"
     ]
    },
    {
     "name": "stdout",
     "output_type": "stream",
     "text": [
      "Failed to find a valid solution after multiple attempts.\n",
      "Failed to solve day15_part2_2019: Failed after maximum attempts\n",
      "Progress: 44.2%\n"
     ]
    },
    {
     "name": "stderr",
     "output_type": "stream",
     "text": [
      "python(97627) MallocStackLogging: can't turn off malloc stack logging because it was not enabled.\n"
     ]
    },
    {
     "name": "stdout",
     "output_type": "stream",
     "text": [
      "Failed to find a valid solution after multiple attempts.\n",
      "Failed to solve day16_part1_2019: Failed after maximum attempts\n",
      "Progress: 44.6%\n"
     ]
    },
    {
     "name": "stderr",
     "output_type": "stream",
     "text": [
      "python(97634) MallocStackLogging: can't turn off malloc stack logging because it was not enabled.\n"
     ]
    },
    {
     "name": "stdout",
     "output_type": "stream",
     "text": [
      "Failed to find a valid solution after multiple attempts.\n",
      "Failed to solve day16_part2_2019: Failed after maximum attempts\n",
      "Progress: 45.0%\n"
     ]
    },
    {
     "name": "stderr",
     "output_type": "stream",
     "text": [
      "python(97653) MallocStackLogging: can't turn off malloc stack logging because it was not enabled.\n"
     ]
    },
    {
     "name": "stdout",
     "output_type": "stream",
     "text": [
      "Failed to find a valid solution after multiple attempts.\n",
      "Failed to solve day17_part1_2019: Failed after maximum attempts\n",
      "Progress: 45.5%\n"
     ]
    },
    {
     "name": "stderr",
     "output_type": "stream",
     "text": [
      "python(97794) MallocStackLogging: can't turn off malloc stack logging because it was not enabled.\n"
     ]
    },
    {
     "name": "stdout",
     "output_type": "stream",
     "text": [
      "Failed to find a valid solution after multiple attempts.\n",
      "Failed to solve day17_part2_2019: Failed after maximum attempts\n",
      "Progress: 45.9%\n"
     ]
    },
    {
     "name": "stderr",
     "output_type": "stream",
     "text": [
      "python(97929) MallocStackLogging: can't turn off malloc stack logging because it was not enabled.\n"
     ]
    },
    {
     "name": "stdout",
     "output_type": "stream",
     "text": [
      "Failed to find a valid solution after multiple attempts.\n",
      "Failed to solve day18_part1_2019: Failed after maximum attempts\n",
      "Progress: 46.3%\n"
     ]
    },
    {
     "name": "stderr",
     "output_type": "stream",
     "text": [
      "python(98848) MallocStackLogging: can't turn off malloc stack logging because it was not enabled.\n"
     ]
    },
    {
     "name": "stdout",
     "output_type": "stream",
     "text": [
      "Failed to find a valid solution after multiple attempts.\n",
      "Failed to solve day18_part2_2019: Failed after maximum attempts\n",
      "Progress: 46.8%\n"
     ]
    },
    {
     "name": "stderr",
     "output_type": "stream",
     "text": [
      "python(98972) MallocStackLogging: can't turn off malloc stack logging because it was not enabled.\n"
     ]
    },
    {
     "name": "stdout",
     "output_type": "stream",
     "text": [
      "Failed to find a valid solution after multiple attempts.\n",
      "Failed to solve day19_part1_2019: Failed after maximum attempts\n",
      "Progress: 47.2%\n"
     ]
    },
    {
     "name": "stderr",
     "output_type": "stream",
     "text": [
      "python(99031) MallocStackLogging: can't turn off malloc stack logging because it was not enabled.\n"
     ]
    },
    {
     "name": "stdout",
     "output_type": "stream",
     "text": [
      "Failed to find a valid solution after multiple attempts.\n",
      "Failed to solve day19_part2_2019: Failed after maximum attempts\n",
      "Progress: 47.6%\n"
     ]
    },
    {
     "name": "stderr",
     "output_type": "stream",
     "text": [
      "python(150) MallocStackLogging: can't turn off malloc stack logging because it was not enabled.\n"
     ]
    },
    {
     "name": "stdout",
     "output_type": "stream",
     "text": [
      "Failed to find a valid solution after multiple attempts.\n",
      "Failed to solve day20_part1_2019: Failed after maximum attempts\n",
      "Progress: 48.1%\n"
     ]
    },
    {
     "name": "stderr",
     "output_type": "stream",
     "text": [
      "python(698) MallocStackLogging: can't turn off malloc stack logging because it was not enabled.\n"
     ]
    },
    {
     "name": "stdout",
     "output_type": "stream",
     "text": [
      "Failed to find a valid solution after multiple attempts.\n",
      "Failed to solve day20_part2_2019: Failed after maximum attempts\n",
      "Progress: 48.5%\n"
     ]
    },
    {
     "name": "stderr",
     "output_type": "stream",
     "text": [
      "python(872) MallocStackLogging: can't turn off malloc stack logging because it was not enabled.\n"
     ]
    },
    {
     "name": "stdout",
     "output_type": "stream",
     "text": [
      "Failed to find a valid solution after multiple attempts.\n",
      "Failed to solve day21_part1_2019: Failed after maximum attempts\n",
      "Progress: 48.9%\n"
     ]
    },
    {
     "name": "stderr",
     "output_type": "stream",
     "text": [
      "python(1012) MallocStackLogging: can't turn off malloc stack logging because it was not enabled.\n"
     ]
    },
    {
     "name": "stdout",
     "output_type": "stream",
     "text": [
      "Failed to find a valid solution after multiple attempts.\n",
      "Failed to solve day21_part2_2019: Failed after maximum attempts\n",
      "Progress: 49.4%\n"
     ]
    },
    {
     "name": "stderr",
     "output_type": "stream",
     "text": [
      "python(1116) MallocStackLogging: can't turn off malloc stack logging because it was not enabled.\n"
     ]
    },
    {
     "name": "stdout",
     "output_type": "stream",
     "text": [
      "Failed to find a valid solution after multiple attempts.\n",
      "Failed to solve day22_part2_2019: Failed after maximum attempts\n",
      "Progress: 49.8%\n"
     ]
    },
    {
     "name": "stderr",
     "output_type": "stream",
     "text": [
      "python(1273) MallocStackLogging: can't turn off malloc stack logging because it was not enabled.\n"
     ]
    },
    {
     "name": "stdout",
     "output_type": "stream",
     "text": [
      "Failed to find a valid solution after multiple attempts.\n",
      "Failed to solve day23_part1_2019: Failed after maximum attempts\n",
      "Progress: 50.2%\n"
     ]
    },
    {
     "name": "stderr",
     "output_type": "stream",
     "text": [
      "python(1411) MallocStackLogging: can't turn off malloc stack logging because it was not enabled.\n"
     ]
    },
    {
     "name": "stdout",
     "output_type": "stream",
     "text": [
      "Failed to find a valid solution after multiple attempts.\n",
      "Failed to solve day23_part2_2019: Failed after maximum attempts\n",
      "Progress: 50.6%\n"
     ]
    },
    {
     "name": "stderr",
     "output_type": "stream",
     "text": [
      "python(1539) MallocStackLogging: can't turn off malloc stack logging because it was not enabled.\n"
     ]
    },
    {
     "name": "stdout",
     "output_type": "stream",
     "text": [
      "Failed to find a valid solution after multiple attempts.\n",
      "Failed to solve day24_part2_2019: Failed after maximum attempts\n",
      "Progress: 51.1%\n"
     ]
    },
    {
     "name": "stderr",
     "output_type": "stream",
     "text": [
      "python(1779) MallocStackLogging: can't turn off malloc stack logging because it was not enabled.\n"
     ]
    },
    {
     "name": "stdout",
     "output_type": "stream",
     "text": [
      "Failed to find a valid solution after multiple attempts.\n",
      "Failed to solve day25_part1_2019: Failed after maximum attempts\n",
      "Progress: 51.5%\n"
     ]
    },
    {
     "name": "stderr",
     "output_type": "stream",
     "text": [
      "python(1829) MallocStackLogging: can't turn off malloc stack logging because it was not enabled.\n"
     ]
    },
    {
     "name": "stdout",
     "output_type": "stream",
     "text": [
      "Failed to find a valid solution after multiple attempts.\n",
      "Failed to solve day7_part1_2020: Failed after maximum attempts\n",
      "Progress: 51.9%\n"
     ]
    },
    {
     "name": "stderr",
     "output_type": "stream",
     "text": [
      "python(1863) MallocStackLogging: can't turn off malloc stack logging because it was not enabled.\n"
     ]
    },
    {
     "name": "stdout",
     "output_type": "stream",
     "text": [
      "Failed to find a valid solution after multiple attempts.\n",
      "Failed to solve day7_part2_2020: Failed after maximum attempts\n",
      "Progress: 52.4%\n"
     ]
    },
    {
     "name": "stderr",
     "output_type": "stream",
     "text": [
      "python(1925) MallocStackLogging: can't turn off malloc stack logging because it was not enabled.\n"
     ]
    },
    {
     "name": "stdout",
     "output_type": "stream",
     "text": [
      "Failed to find a valid solution after multiple attempts.\n",
      "Failed to solve day8_part2_2020: Failed after maximum attempts\n",
      "Progress: 52.8%\n"
     ]
    },
    {
     "name": "stderr",
     "output_type": "stream",
     "text": [
      "python(2106) MallocStackLogging: can't turn off malloc stack logging because it was not enabled.\n"
     ]
    },
    {
     "name": "stdout",
     "output_type": "stream",
     "text": [
      "Failed to find a valid solution after multiple attempts.\n",
      "Failed to solve day9_part1_2020: Failed after maximum attempts\n",
      "Progress: 53.2%\n"
     ]
    },
    {
     "name": "stderr",
     "output_type": "stream",
     "text": [
      "python(2142) MallocStackLogging: can't turn off malloc stack logging because it was not enabled.\n"
     ]
    },
    {
     "name": "stdout",
     "output_type": "stream",
     "text": [
      "Failed to find a valid solution after multiple attempts.\n",
      "Failed to solve day9_part2_2020: Failed after maximum attempts\n",
      "Progress: 53.7%\n"
     ]
    },
    {
     "name": "stderr",
     "output_type": "stream",
     "text": [
      "python(2192) MallocStackLogging: can't turn off malloc stack logging because it was not enabled.\n"
     ]
    },
    {
     "name": "stdout",
     "output_type": "stream",
     "text": [
      "Failed to find a valid solution after multiple attempts.\n",
      "Failed to solve day13_part2_2020: Failed after maximum attempts\n",
      "Progress: 54.1%\n"
     ]
    },
    {
     "name": "stderr",
     "output_type": "stream",
     "text": [
      "python(2242) MallocStackLogging: can't turn off malloc stack logging because it was not enabled.\n"
     ]
    },
    {
     "name": "stdout",
     "output_type": "stream",
     "text": [
      "Failed to find a valid solution after multiple attempts.\n",
      "Failed to solve day14_part2_2020: Failed after maximum attempts\n",
      "Progress: 54.5%\n"
     ]
    },
    {
     "name": "stderr",
     "output_type": "stream",
     "text": [
      "python(2378) MallocStackLogging: can't turn off malloc stack logging because it was not enabled.\n"
     ]
    },
    {
     "name": "stdout",
     "output_type": "stream",
     "text": [
      "Failed to find a valid solution after multiple attempts.\n",
      "Failed to solve day16_part2_2020: Failed after maximum attempts\n",
      "Progress: 55.0%\n"
     ]
    },
    {
     "name": "stderr",
     "output_type": "stream",
     "text": [
      "python(2561) MallocStackLogging: can't turn off malloc stack logging because it was not enabled.\n"
     ]
    },
    {
     "name": "stdout",
     "output_type": "stream",
     "text": [
      "Failed to find a valid solution after multiple attempts.\n",
      "Failed to solve day17_part2_2020: Failed after maximum attempts\n",
      "Progress: 55.4%\n"
     ]
    },
    {
     "name": "stderr",
     "output_type": "stream",
     "text": [
      "python(2616) MallocStackLogging: can't turn off malloc stack logging because it was not enabled.\n"
     ]
    },
    {
     "name": "stdout",
     "output_type": "stream",
     "text": [
      "Failed to find a valid solution after multiple attempts.\n",
      "Failed to solve day18_part1_2020: Failed after maximum attempts\n",
      "Progress: 55.8%\n"
     ]
    },
    {
     "name": "stderr",
     "output_type": "stream",
     "text": [
      "python(2724) MallocStackLogging: can't turn off malloc stack logging because it was not enabled.\n"
     ]
    },
    {
     "name": "stdout",
     "output_type": "stream",
     "text": [
      "Failed to find a valid solution after multiple attempts.\n",
      "Failed to solve day18_part2_2020: Failed after maximum attempts\n",
      "Progress: 56.3%\n"
     ]
    },
    {
     "name": "stderr",
     "output_type": "stream",
     "text": [
      "python(2764) MallocStackLogging: can't turn off malloc stack logging because it was not enabled.\n"
     ]
    },
    {
     "name": "stdout",
     "output_type": "stream",
     "text": [
      "Failed to find a valid solution after multiple attempts.\n",
      "Failed to solve day19_part1_2020: Failed after maximum attempts\n",
      "Progress: 56.7%\n"
     ]
    },
    {
     "name": "stderr",
     "output_type": "stream",
     "text": [
      "python(2875) MallocStackLogging: can't turn off malloc stack logging because it was not enabled.\n"
     ]
    },
    {
     "name": "stdout",
     "output_type": "stream",
     "text": [
      "Failed to find a valid solution after multiple attempts.\n",
      "Failed to solve day19_part2_2020: Failed after maximum attempts\n",
      "Progress: 57.1%\n"
     ]
    },
    {
     "name": "stderr",
     "output_type": "stream",
     "text": [
      "python(3023) MallocStackLogging: can't turn off malloc stack logging because it was not enabled.\n"
     ]
    },
    {
     "name": "stdout",
     "output_type": "stream",
     "text": [
      "Failed to find a valid solution after multiple attempts.\n",
      "Failed to solve day20_part1_2020: Failed after maximum attempts\n",
      "Progress: 57.6%\n"
     ]
    },
    {
     "name": "stderr",
     "output_type": "stream",
     "text": [
      "python(3169) MallocStackLogging: can't turn off malloc stack logging because it was not enabled.\n"
     ]
    },
    {
     "name": "stdout",
     "output_type": "stream",
     "text": [
      "Failed to find a valid solution after multiple attempts.\n",
      "Failed to solve day20_part2_2020: Failed after maximum attempts\n",
      "Progress: 58.0%\n"
     ]
    },
    {
     "name": "stderr",
     "output_type": "stream",
     "text": [
      "python(3204) MallocStackLogging: can't turn off malloc stack logging because it was not enabled.\n"
     ]
    },
    {
     "name": "stdout",
     "output_type": "stream",
     "text": [
      "Failed to find a valid solution after multiple attempts.\n",
      "Failed to solve day21_part1_2020: Failed after maximum attempts\n",
      "Progress: 58.4%\n"
     ]
    },
    {
     "name": "stderr",
     "output_type": "stream",
     "text": [
      "python(3238) MallocStackLogging: can't turn off malloc stack logging because it was not enabled.\n"
     ]
    },
    {
     "name": "stdout",
     "output_type": "stream",
     "text": [
      "Failed to find a valid solution after multiple attempts.\n",
      "Failed to solve day21_part2_2020: Failed after maximum attempts\n",
      "Progress: 58.9%\n"
     ]
    },
    {
     "name": "stderr",
     "output_type": "stream",
     "text": [
      "python(3312) MallocStackLogging: can't turn off malloc stack logging because it was not enabled.\n"
     ]
    },
    {
     "name": "stdout",
     "output_type": "stream",
     "text": [
      "Failed to find a valid solution after multiple attempts.\n",
      "Failed to solve day22_part2_2020: Failed after maximum attempts\n",
      "Progress: 59.3%\n"
     ]
    },
    {
     "name": "stderr",
     "output_type": "stream",
     "text": [
      "python(3385) MallocStackLogging: can't turn off malloc stack logging because it was not enabled.\n"
     ]
    },
    {
     "name": "stdout",
     "output_type": "stream",
     "text": [
      "Failed to find a valid solution after multiple attempts.\n",
      "Failed to solve day24_part1_2020: Failed after maximum attempts\n",
      "Progress: 59.7%\n"
     ]
    },
    {
     "name": "stderr",
     "output_type": "stream",
     "text": [
      "python(3460) MallocStackLogging: can't turn off malloc stack logging because it was not enabled.\n"
     ]
    },
    {
     "name": "stdout",
     "output_type": "stream",
     "text": [
      "Failed to find a valid solution after multiple attempts.\n",
      "Failed to solve day24_part2_2020: Failed after maximum attempts\n",
      "Progress: 60.2%\n"
     ]
    },
    {
     "name": "stderr",
     "output_type": "stream",
     "text": [
      "python(3499) MallocStackLogging: can't turn off malloc stack logging because it was not enabled.\n"
     ]
    },
    {
     "name": "stdout",
     "output_type": "stream",
     "text": [
      "Failed to find a valid solution after multiple attempts.\n",
      "Failed to solve day25_part1_2020: Failed after maximum attempts\n",
      "Progress: 60.6%\n"
     ]
    },
    {
     "name": "stderr",
     "output_type": "stream",
     "text": [
      "python(3538) MallocStackLogging: can't turn off malloc stack logging because it was not enabled.\n"
     ]
    },
    {
     "name": "stdout",
     "output_type": "stream",
     "text": [
      "Failed to find a valid solution after multiple attempts.\n",
      "Failed to solve day3_part2_2021: Failed after maximum attempts\n",
      "Progress: 61.0%\n"
     ]
    },
    {
     "name": "stderr",
     "output_type": "stream",
     "text": [
      "python(3588) MallocStackLogging: can't turn off malloc stack logging because it was not enabled.\n"
     ]
    },
    {
     "name": "stdout",
     "output_type": "stream",
     "text": [
      "Failed to find a valid solution after multiple attempts.\n",
      "Failed to solve day4_part1_2021: Failed after maximum attempts\n",
      "Progress: 61.5%\n"
     ]
    },
    {
     "name": "stderr",
     "output_type": "stream",
     "text": [
      "python(3627) MallocStackLogging: can't turn off malloc stack logging because it was not enabled.\n"
     ]
    },
    {
     "name": "stdout",
     "output_type": "stream",
     "text": [
      "Failed to find a valid solution after multiple attempts.\n",
      "Failed to solve day5_part2_2021: Failed after maximum attempts\n",
      "Progress: 61.9%\n"
     ]
    },
    {
     "name": "stderr",
     "output_type": "stream",
     "text": [
      "python(3711) MallocStackLogging: can't turn off malloc stack logging because it was not enabled.\n"
     ]
    },
    {
     "name": "stdout",
     "output_type": "stream",
     "text": [
      "Failed to find a valid solution after multiple attempts.\n",
      "Failed to solve day8_part2_2021: Failed after maximum attempts\n",
      "Progress: 62.3%\n"
     ]
    },
    {
     "name": "stderr",
     "output_type": "stream",
     "text": [
      "python(3761) MallocStackLogging: can't turn off malloc stack logging because it was not enabled.\n"
     ]
    },
    {
     "name": "stdout",
     "output_type": "stream",
     "text": [
      "Failed to find a valid solution after multiple attempts.\n",
      "Failed to solve day10_part2_2021: Failed after maximum attempts\n",
      "Progress: 62.8%\n"
     ]
    },
    {
     "name": "stderr",
     "output_type": "stream",
     "text": [
      "python(3816) MallocStackLogging: can't turn off malloc stack logging because it was not enabled.\n"
     ]
    },
    {
     "name": "stdout",
     "output_type": "stream",
     "text": [
      "Failed to find a valid solution after multiple attempts.\n",
      "Failed to solve day11_part2_2021: Failed after maximum attempts\n",
      "Progress: 63.2%\n"
     ]
    },
    {
     "name": "stderr",
     "output_type": "stream",
     "text": [
      "python(3887) MallocStackLogging: can't turn off malloc stack logging because it was not enabled.\n"
     ]
    },
    {
     "name": "stdout",
     "output_type": "stream",
     "text": [
      "Failed to find a valid solution after multiple attempts.\n",
      "Failed to solve day14_part2_2021: Failed after maximum attempts\n",
      "Progress: 63.6%\n"
     ]
    },
    {
     "name": "stderr",
     "output_type": "stream",
     "text": [
      "python(3963) MallocStackLogging: can't turn off malloc stack logging because it was not enabled.\n"
     ]
    },
    {
     "name": "stdout",
     "output_type": "stream",
     "text": [
      "Failed to find a valid solution after multiple attempts.\n",
      "Failed to solve day15_part1_2021: Failed after maximum attempts\n",
      "Progress: 64.1%\n"
     ]
    },
    {
     "name": "stderr",
     "output_type": "stream",
     "text": [
      "python(4029) MallocStackLogging: can't turn off malloc stack logging because it was not enabled.\n"
     ]
    },
    {
     "name": "stdout",
     "output_type": "stream",
     "text": [
      "Failed to find a valid solution after multiple attempts.\n",
      "Failed to solve day15_part2_2021: Failed after maximum attempts\n",
      "Progress: 64.5%\n"
     ]
    },
    {
     "name": "stderr",
     "output_type": "stream",
     "text": [
      "python(4113) MallocStackLogging: can't turn off malloc stack logging because it was not enabled.\n"
     ]
    },
    {
     "name": "stdout",
     "output_type": "stream",
     "text": [
      "Failed to find a valid solution after multiple attempts.\n",
      "Failed to solve day16_part2_2021: Failed after maximum attempts\n",
      "Progress: 64.9%\n"
     ]
    },
    {
     "name": "stderr",
     "output_type": "stream",
     "text": [
      "python(4215) MallocStackLogging: can't turn off malloc stack logging because it was not enabled.\n"
     ]
    },
    {
     "name": "stdout",
     "output_type": "stream",
     "text": [
      "Failed to find a valid solution after multiple attempts.\n",
      "Failed to solve day18_part1_2021: Failed after maximum attempts\n",
      "Progress: 65.4%\n"
     ]
    },
    {
     "name": "stderr",
     "output_type": "stream",
     "text": [
      "python(4311) MallocStackLogging: can't turn off malloc stack logging because it was not enabled.\n"
     ]
    },
    {
     "name": "stdout",
     "output_type": "stream",
     "text": [
      "Failed to find a valid solution after multiple attempts.\n",
      "Failed to solve day18_part2_2021: Failed after maximum attempts\n",
      "Progress: 65.8%\n"
     ]
    },
    {
     "name": "stderr",
     "output_type": "stream",
     "text": [
      "python(4448) MallocStackLogging: can't turn off malloc stack logging because it was not enabled.\n"
     ]
    },
    {
     "name": "stdout",
     "output_type": "stream",
     "text": [
      "Failed to find a valid solution after multiple attempts.\n",
      "Failed to solve day19_part1_2021: Failed after maximum attempts\n",
      "Progress: 66.2%\n"
     ]
    },
    {
     "name": "stderr",
     "output_type": "stream",
     "text": [
      "python(4550) MallocStackLogging: can't turn off malloc stack logging because it was not enabled.\n"
     ]
    },
    {
     "name": "stdout",
     "output_type": "stream",
     "text": [
      "Failed to find a valid solution after multiple attempts.\n",
      "Failed to solve day19_part2_2021: Failed after maximum attempts\n",
      "Progress: 66.7%\n"
     ]
    },
    {
     "name": "stderr",
     "output_type": "stream",
     "text": [
      "python(4620) MallocStackLogging: can't turn off malloc stack logging because it was not enabled.\n"
     ]
    },
    {
     "name": "stdout",
     "output_type": "stream",
     "text": [
      "Failed to find a valid solution after multiple attempts.\n",
      "Failed to solve day20_part2_2021: Failed after maximum attempts\n",
      "Progress: 67.1%\n"
     ]
    },
    {
     "name": "stderr",
     "output_type": "stream",
     "text": [
      "python(4692) MallocStackLogging: can't turn off malloc stack logging because it was not enabled.\n"
     ]
    },
    {
     "name": "stdout",
     "output_type": "stream",
     "text": [
      "Failed to find a valid solution after multiple attempts.\n",
      "Failed to solve day21_part2_2021: Failed after maximum attempts\n",
      "Progress: 67.5%\n"
     ]
    },
    {
     "name": "stderr",
     "output_type": "stream",
     "text": [
      "python(4781) MallocStackLogging: can't turn off malloc stack logging because it was not enabled.\n"
     ]
    },
    {
     "name": "stdout",
     "output_type": "stream",
     "text": [
      "Failed to find a valid solution after multiple attempts.\n",
      "Failed to solve day22_part1_2021: Failed after maximum attempts\n",
      "Progress: 68.0%\n"
     ]
    },
    {
     "name": "stderr",
     "output_type": "stream",
     "text": [
      "python(4883) MallocStackLogging: can't turn off malloc stack logging because it was not enabled.\n"
     ]
    },
    {
     "name": "stdout",
     "output_type": "stream",
     "text": [
      "Failed to find a valid solution after multiple attempts.\n",
      "Failed to solve day22_part2_2021: Failed after maximum attempts\n",
      "Progress: 68.4%\n"
     ]
    },
    {
     "name": "stderr",
     "output_type": "stream",
     "text": [
      "python(5115) MallocStackLogging: can't turn off malloc stack logging because it was not enabled.\n"
     ]
    },
    {
     "name": "stdout",
     "output_type": "stream",
     "text": [
      "Failed to find a valid solution after multiple attempts.\n",
      "Failed to solve day23_part1_2021: Failed after maximum attempts\n",
      "Progress: 68.8%\n"
     ]
    },
    {
     "name": "stderr",
     "output_type": "stream",
     "text": [
      "python(5328) MallocStackLogging: can't turn off malloc stack logging because it was not enabled.\n"
     ]
    },
    {
     "name": "stdout",
     "output_type": "stream",
     "text": [
      "Failed to find a valid solution after multiple attempts.\n",
      "Failed to solve day23_part2_2021: Failed after maximum attempts\n",
      "Progress: 69.3%\n"
     ]
    },
    {
     "name": "stderr",
     "output_type": "stream",
     "text": [
      "python(5459) MallocStackLogging: can't turn off malloc stack logging because it was not enabled.\n"
     ]
    },
    {
     "name": "stdout",
     "output_type": "stream",
     "text": [
      "Failed to find a valid solution after multiple attempts.\n",
      "Failed to solve day24_part1_2021: Failed after maximum attempts\n",
      "Progress: 69.7%\n"
     ]
    },
    {
     "name": "stderr",
     "output_type": "stream",
     "text": [
      "python(5624) MallocStackLogging: can't turn off malloc stack logging because it was not enabled.\n"
     ]
    },
    {
     "name": "stdout",
     "output_type": "stream",
     "text": [
      "Runtime error: Unhandled exception: Invalid Int32: \"21176121611511\" (ArgumentError)\n",
      "  from /opt/homebrew/Cellar/crystal/1.11.2/share/crystal/src/string.cr:438:83 in 'to_i32'\n",
      "  from /opt/homebrew/Cellar/crystal/1.11.2/share/crystal/src/string.cr:349:5 in 'to_i'\n",
      "  from /var/folders/46/6lz6t86n4n10lwsyj3pyzd6h0000gn/T/tmp4st5rs70/main.cr:112:1 in '__crystal_main'\n",
      "  from /opt/homebrew/Cellar/crystal/1.11.2/share/crystal/src/crystal/main.cr:129:5 in 'main_user_code'\n",
      "  from /opt/homebrew/Cellar/crystal/1.11.2/share/crystal/src/crystal/main.cr:115:7 in 'main'\n",
      "  from /opt/homebrew/Cellar/crystal/1.11.2/share/crystal/src/crystal/main.cr:141:3 in 'main'\n",
      "\n",
      "Solved day24_part2_2021 successfully!\n",
      "Progress: 70.1%\n"
     ]
    },
    {
     "name": "stderr",
     "output_type": "stream",
     "text": [
      "python(5714) MallocStackLogging: can't turn off malloc stack logging because it was not enabled.\n"
     ]
    },
    {
     "name": "stdout",
     "output_type": "stream",
     "text": [
      "Failed to find a valid solution after multiple attempts.\n",
      "Failed to solve day25_part1_2021: Failed after maximum attempts\n",
      "Progress: 70.6%\n"
     ]
    },
    {
     "name": "stderr",
     "output_type": "stream",
     "text": [
      "python(5786) MallocStackLogging: can't turn off malloc stack logging because it was not enabled.\n"
     ]
    },
    {
     "name": "stdout",
     "output_type": "stream",
     "text": [
      "Failed to find a valid solution after multiple attempts.\n",
      "Failed to solve day9_part2_2022: Failed after maximum attempts\n",
      "Progress: 71.0%\n"
     ]
    },
    {
     "name": "stderr",
     "output_type": "stream",
     "text": [
      "python(5873) MallocStackLogging: can't turn off malloc stack logging because it was not enabled.\n"
     ]
    },
    {
     "name": "stdout",
     "output_type": "stream",
     "text": [
      "Failed to find a valid solution after multiple attempts.\n",
      "Failed to solve day11_part1_2022: Failed after maximum attempts\n",
      "Progress: 71.4%\n"
     ]
    },
    {
     "name": "stderr",
     "output_type": "stream",
     "text": [
      "python(5923) MallocStackLogging: can't turn off malloc stack logging because it was not enabled.\n"
     ]
    },
    {
     "name": "stdout",
     "output_type": "stream",
     "text": [
      "Failed to find a valid solution after multiple attempts.\n",
      "Failed to solve day11_part2_2022: Failed after maximum attempts\n",
      "Progress: 71.9%\n"
     ]
    },
    {
     "name": "stderr",
     "output_type": "stream",
     "text": [
      "python(5990) MallocStackLogging: can't turn off malloc stack logging because it was not enabled.\n"
     ]
    },
    {
     "name": "stdout",
     "output_type": "stream",
     "text": [
      "Failed to find a valid solution after multiple attempts.\n",
      "Failed to solve day12_part1_2022: Failed after maximum attempts\n",
      "Progress: 72.3%\n"
     ]
    },
    {
     "name": "stderr",
     "output_type": "stream",
     "text": [
      "python(6088) MallocStackLogging: can't turn off malloc stack logging because it was not enabled.\n"
     ]
    },
    {
     "name": "stdout",
     "output_type": "stream",
     "text": [
      "Failed to find a valid solution after multiple attempts.\n",
      "Failed to solve day12_part2_2022: Failed after maximum attempts\n",
      "Progress: 72.7%\n"
     ]
    },
    {
     "name": "stderr",
     "output_type": "stream",
     "text": [
      "python(6122) MallocStackLogging: can't turn off malloc stack logging because it was not enabled.\n"
     ]
    },
    {
     "name": "stdout",
     "output_type": "stream",
     "text": [
      "Failed to find a valid solution after multiple attempts.\n",
      "Failed to solve day13_part1_2022: Failed after maximum attempts\n",
      "Progress: 73.2%\n"
     ]
    },
    {
     "name": "stderr",
     "output_type": "stream",
     "text": [
      "python(6177) MallocStackLogging: can't turn off malloc stack logging because it was not enabled.\n"
     ]
    },
    {
     "name": "stdout",
     "output_type": "stream",
     "text": [
      "Failed to find a valid solution after multiple attempts.\n",
      "Failed to solve day13_part2_2022: Failed after maximum attempts\n",
      "Progress: 73.6%\n"
     ]
    },
    {
     "name": "stderr",
     "output_type": "stream",
     "text": [
      "python(6283) MallocStackLogging: can't turn off malloc stack logging because it was not enabled.\n"
     ]
    },
    {
     "name": "stdout",
     "output_type": "stream",
     "text": [
      "Failed to find a valid solution after multiple attempts.\n",
      "Failed to solve day14_part1_2022: Failed after maximum attempts\n",
      "Progress: 74.0%\n"
     ]
    },
    {
     "name": "stderr",
     "output_type": "stream",
     "text": [
      "python(6388) MallocStackLogging: can't turn off malloc stack logging because it was not enabled.\n"
     ]
    },
    {
     "name": "stdout",
     "output_type": "stream",
     "text": [
      "Failed to find a valid solution after multiple attempts.\n",
      "Failed to solve day14_part2_2022: Failed after maximum attempts\n",
      "Progress: 74.5%\n"
     ]
    },
    {
     "name": "stderr",
     "output_type": "stream",
     "text": [
      "python(6443) MallocStackLogging: can't turn off malloc stack logging because it was not enabled.\n"
     ]
    },
    {
     "name": "stdout",
     "output_type": "stream",
     "text": [
      "Failed to find a valid solution after multiple attempts.\n",
      "Failed to solve day15_part1_2022: Failed after maximum attempts\n",
      "Progress: 74.9%\n"
     ]
    },
    {
     "name": "stderr",
     "output_type": "stream",
     "text": [
      "python(6525) MallocStackLogging: can't turn off malloc stack logging because it was not enabled.\n"
     ]
    },
    {
     "name": "stdout",
     "output_type": "stream",
     "text": [
      "Failed to find a valid solution after multiple attempts.\n",
      "Failed to solve day15_part2_2022: Failed after maximum attempts\n",
      "Progress: 75.3%\n"
     ]
    },
    {
     "name": "stderr",
     "output_type": "stream",
     "text": [
      "python(6596) MallocStackLogging: can't turn off malloc stack logging because it was not enabled.\n"
     ]
    },
    {
     "name": "stdout",
     "output_type": "stream",
     "text": [
      "Failed to find a valid solution after multiple attempts.\n",
      "Failed to solve day16_part1_2022: Failed after maximum attempts\n",
      "Progress: 75.8%\n"
     ]
    },
    {
     "name": "stderr",
     "output_type": "stream",
     "text": [
      "python(6680) MallocStackLogging: can't turn off malloc stack logging because it was not enabled.\n"
     ]
    },
    {
     "name": "stdout",
     "output_type": "stream",
     "text": [
      "Failed to find a valid solution after multiple attempts.\n",
      "Failed to solve day16_part2_2022: Failed after maximum attempts\n",
      "Progress: 76.2%\n"
     ]
    },
    {
     "name": "stderr",
     "output_type": "stream",
     "text": [
      "python(6780) MallocStackLogging: can't turn off malloc stack logging because it was not enabled.\n"
     ]
    },
    {
     "name": "stdout",
     "output_type": "stream",
     "text": [
      "Failed to find a valid solution after multiple attempts.\n",
      "Failed to solve day17_part1_2022: Failed after maximum attempts\n",
      "Progress: 76.6%\n"
     ]
    },
    {
     "name": "stderr",
     "output_type": "stream",
     "text": [
      "python(6878) MallocStackLogging: can't turn off malloc stack logging because it was not enabled.\n"
     ]
    },
    {
     "name": "stdout",
     "output_type": "stream",
     "text": [
      "Failed to find a valid solution after multiple attempts.\n",
      "Failed to solve day17_part2_2022: Failed after maximum attempts\n",
      "Progress: 77.1%\n"
     ]
    },
    {
     "name": "stderr",
     "output_type": "stream",
     "text": [
      "python(7105) MallocStackLogging: can't turn off malloc stack logging because it was not enabled.\n"
     ]
    },
    {
     "name": "stdout",
     "output_type": "stream",
     "text": [
      "Failed to find a valid solution after multiple attempts.\n",
      "Failed to solve day19_part1_2022: Failed after maximum attempts\n",
      "Progress: 77.5%\n"
     ]
    },
    {
     "name": "stderr",
     "output_type": "stream",
     "text": [
      "python(7208) MallocStackLogging: can't turn off malloc stack logging because it was not enabled.\n"
     ]
    },
    {
     "name": "stdout",
     "output_type": "stream",
     "text": [
      "Failed to find a valid solution after multiple attempts.\n",
      "Failed to solve day19_part2_2022: Failed after maximum attempts\n",
      "Progress: 77.9%\n"
     ]
    },
    {
     "name": "stderr",
     "output_type": "stream",
     "text": [
      "python(7274) MallocStackLogging: can't turn off malloc stack logging because it was not enabled.\n"
     ]
    },
    {
     "name": "stdout",
     "output_type": "stream",
     "text": [
      "Failed to find a valid solution after multiple attempts.\n",
      "Failed to solve day20_part1_2022: Failed after maximum attempts\n",
      "Progress: 78.4%\n"
     ]
    },
    {
     "name": "stderr",
     "output_type": "stream",
     "text": [
      "python(7324) MallocStackLogging: can't turn off malloc stack logging because it was not enabled.\n"
     ]
    },
    {
     "name": "stdout",
     "output_type": "stream",
     "text": [
      "Failed to find a valid solution after multiple attempts.\n",
      "Failed to solve day20_part2_2022: Failed after maximum attempts\n",
      "Progress: 78.8%\n"
     ]
    },
    {
     "name": "stderr",
     "output_type": "stream",
     "text": [
      "python(7422) MallocStackLogging: can't turn off malloc stack logging because it was not enabled.\n"
     ]
    },
    {
     "name": "stdout",
     "output_type": "stream",
     "text": [
      "Failed to find a valid solution after multiple attempts.\n",
      "Failed to solve day21_part2_2022: Failed after maximum attempts\n",
      "Progress: 79.2%\n"
     ]
    },
    {
     "name": "stderr",
     "output_type": "stream",
     "text": [
      "python(7520) MallocStackLogging: can't turn off malloc stack logging because it was not enabled.\n"
     ]
    },
    {
     "name": "stdout",
     "output_type": "stream",
     "text": [
      "Failed to find a valid solution after multiple attempts.\n",
      "Failed to solve day22_part1_2022: Failed after maximum attempts\n",
      "Progress: 79.7%\n"
     ]
    },
    {
     "name": "stderr",
     "output_type": "stream",
     "text": [
      "python(7668) MallocStackLogging: can't turn off malloc stack logging because it was not enabled.\n"
     ]
    },
    {
     "name": "stdout",
     "output_type": "stream",
     "text": [
      "Failed to find a valid solution after multiple attempts.\n",
      "Failed to solve day22_part2_2022: Failed after maximum attempts\n",
      "Progress: 80.1%\n"
     ]
    },
    {
     "name": "stderr",
     "output_type": "stream",
     "text": [
      "python(7767) MallocStackLogging: can't turn off malloc stack logging because it was not enabled.\n"
     ]
    },
    {
     "name": "stdout",
     "output_type": "stream",
     "text": [
      "Failed to find a valid solution after multiple attempts.\n",
      "Failed to solve day23_part1_2022: Failed after maximum attempts\n",
      "Progress: 80.5%\n"
     ]
    },
    {
     "name": "stderr",
     "output_type": "stream",
     "text": [
      "python(7865) MallocStackLogging: can't turn off malloc stack logging because it was not enabled.\n"
     ]
    },
    {
     "name": "stdout",
     "output_type": "stream",
     "text": [
      "Failed to find a valid solution after multiple attempts.\n",
      "Failed to solve day23_part2_2022: Failed after maximum attempts\n",
      "Progress: 81.0%\n"
     ]
    },
    {
     "name": "stderr",
     "output_type": "stream",
     "text": [
      "python(7963) MallocStackLogging: can't turn off malloc stack logging because it was not enabled.\n"
     ]
    },
    {
     "name": "stdout",
     "output_type": "stream",
     "text": [
      "Failed to find a valid solution after multiple attempts.\n",
      "Failed to solve day24_part1_2022: Failed after maximum attempts\n",
      "Progress: 81.4%\n"
     ]
    },
    {
     "name": "stderr",
     "output_type": "stream",
     "text": [
      "python(8029) MallocStackLogging: can't turn off malloc stack logging because it was not enabled.\n"
     ]
    },
    {
     "name": "stdout",
     "output_type": "stream",
     "text": [
      "Failed to find a valid solution after multiple attempts.\n",
      "Failed to solve day24_part2_2022: Failed after maximum attempts\n",
      "Progress: 81.8%\n"
     ]
    },
    {
     "name": "stderr",
     "output_type": "stream",
     "text": [
      "python(8083) MallocStackLogging: can't turn off malloc stack logging because it was not enabled.\n"
     ]
    },
    {
     "name": "stdout",
     "output_type": "stream",
     "text": [
      "Failed to find a valid solution after multiple attempts.\n",
      "Failed to solve day25_part1_2022: Failed after maximum attempts\n",
      "Progress: 82.3%\n"
     ]
    },
    {
     "name": "stderr",
     "output_type": "stream",
     "text": [
      "python(8138) MallocStackLogging: can't turn off malloc stack logging because it was not enabled.\n"
     ]
    },
    {
     "name": "stdout",
     "output_type": "stream",
     "text": [
      "Failed to find a valid solution after multiple attempts.\n",
      "Failed to solve day2_part2_2023: Failed after maximum attempts\n",
      "Progress: 82.7%\n"
     ]
    },
    {
     "name": "stderr",
     "output_type": "stream",
     "text": [
      "python(8209) MallocStackLogging: can't turn off malloc stack logging because it was not enabled.\n"
     ]
    },
    {
     "name": "stdout",
     "output_type": "stream",
     "text": [
      "Failed to find a valid solution after multiple attempts.\n",
      "Failed to solve day3_part1_2023: Failed after maximum attempts\n",
      "Progress: 83.1%\n"
     ]
    },
    {
     "name": "stderr",
     "output_type": "stream",
     "text": [
      "python(8296) MallocStackLogging: can't turn off malloc stack logging because it was not enabled.\n"
     ]
    },
    {
     "name": "stdout",
     "output_type": "stream",
     "text": [
      "Failed to find a valid solution after multiple attempts.\n",
      "Failed to solve day3_part2_2023: Failed after maximum attempts\n",
      "Progress: 83.5%\n"
     ]
    },
    {
     "name": "stderr",
     "output_type": "stream",
     "text": [
      "python(8349) MallocStackLogging: can't turn off malloc stack logging because it was not enabled.\n"
     ]
    },
    {
     "name": "stdout",
     "output_type": "stream",
     "text": [
      "Failed to find a valid solution after multiple attempts.\n",
      "Failed to solve day4_part2_2023: Failed after maximum attempts\n",
      "Progress: 84.0%\n"
     ]
    },
    {
     "name": "stderr",
     "output_type": "stream",
     "text": [
      "python(8421) MallocStackLogging: can't turn off malloc stack logging because it was not enabled.\n"
     ]
    },
    {
     "name": "stdout",
     "output_type": "stream",
     "text": [
      "Failed to find a valid solution after multiple attempts.\n",
      "Failed to solve day5_part1_2023: Failed after maximum attempts\n",
      "Progress: 84.4%\n"
     ]
    },
    {
     "name": "stderr",
     "output_type": "stream",
     "text": [
      "python(8511) MallocStackLogging: can't turn off malloc stack logging because it was not enabled.\n"
     ]
    },
    {
     "name": "stdout",
     "output_type": "stream",
     "text": [
      "Failed to find a valid solution after multiple attempts.\n",
      "Failed to solve day5_part2_2023: Failed after maximum attempts\n",
      "Progress: 84.8%\n"
     ]
    },
    {
     "name": "stderr",
     "output_type": "stream",
     "text": [
      "python(8550) MallocStackLogging: can't turn off malloc stack logging because it was not enabled.\n"
     ]
    },
    {
     "name": "stdout",
     "output_type": "stream",
     "text": [
      "Failed to find a valid solution after multiple attempts.\n",
      "Failed to solve day6_part1_2023: Failed after maximum attempts\n",
      "Progress: 85.3%\n"
     ]
    },
    {
     "name": "stderr",
     "output_type": "stream",
     "text": [
      "python(8589) MallocStackLogging: can't turn off malloc stack logging because it was not enabled.\n"
     ]
    },
    {
     "name": "stdout",
     "output_type": "stream",
     "text": [
      "Failed to find a valid solution after multiple attempts.\n",
      "Failed to solve day6_part2_2023: Failed after maximum attempts\n",
      "Progress: 85.7%\n"
     ]
    },
    {
     "name": "stderr",
     "output_type": "stream",
     "text": [
      "python(8671) MallocStackLogging: can't turn off malloc stack logging because it was not enabled.\n"
     ]
    },
    {
     "name": "stdout",
     "output_type": "stream",
     "text": [
      "Failed to find a valid solution after multiple attempts.\n",
      "Failed to solve day7_part1_2023: Failed after maximum attempts\n",
      "Progress: 86.1%\n"
     ]
    },
    {
     "name": "stderr",
     "output_type": "stream",
     "text": [
      "python(8754) MallocStackLogging: can't turn off malloc stack logging because it was not enabled.\n"
     ]
    },
    {
     "name": "stdout",
     "output_type": "stream",
     "text": [
      "Failed to find a valid solution after multiple attempts.\n",
      "Failed to solve day7_part2_2023: Failed after maximum attempts\n",
      "Progress: 86.6%\n"
     ]
    },
    {
     "name": "stderr",
     "output_type": "stream",
     "text": [
      "python(8788) MallocStackLogging: can't turn off malloc stack logging because it was not enabled.\n"
     ]
    },
    {
     "name": "stdout",
     "output_type": "stream",
     "text": [
      "Failed to find a valid solution after multiple attempts.\n",
      "Failed to solve day8_part1_2023: Failed after maximum attempts\n",
      "Progress: 87.0%\n"
     ]
    },
    {
     "name": "stderr",
     "output_type": "stream",
     "text": [
      "python(8875) MallocStackLogging: can't turn off malloc stack logging because it was not enabled.\n"
     ]
    },
    {
     "name": "stdout",
     "output_type": "stream",
     "text": [
      "Failed to find a valid solution after multiple attempts.\n",
      "Failed to solve day8_part2_2023: Failed after maximum attempts\n",
      "Progress: 87.4%\n"
     ]
    },
    {
     "name": "stderr",
     "output_type": "stream",
     "text": [
      "python(9006) MallocStackLogging: can't turn off malloc stack logging because it was not enabled.\n"
     ]
    },
    {
     "name": "stdout",
     "output_type": "stream",
     "text": [
      "Failed to find a valid solution after multiple attempts.\n",
      "Failed to solve day10_part1_2023: Failed after maximum attempts\n",
      "Progress: 87.9%\n"
     ]
    },
    {
     "name": "stderr",
     "output_type": "stream",
     "text": [
      "python(9185) MallocStackLogging: can't turn off malloc stack logging because it was not enabled.\n"
     ]
    },
    {
     "name": "stdout",
     "output_type": "stream",
     "text": [
      "Failed to find a valid solution after multiple attempts.\n",
      "Failed to solve day10_part2_2023: Failed after maximum attempts\n",
      "Progress: 88.3%\n"
     ]
    },
    {
     "name": "stderr",
     "output_type": "stream",
     "text": [
      "python(9268) MallocStackLogging: can't turn off malloc stack logging because it was not enabled.\n"
     ]
    },
    {
     "name": "stdout",
     "output_type": "stream",
     "text": [
      "Failed to find a valid solution after multiple attempts.\n",
      "Failed to solve day11_part1_2023: Failed after maximum attempts\n",
      "Progress: 88.7%\n"
     ]
    },
    {
     "name": "stderr",
     "output_type": "stream",
     "text": [
      "python(9381) MallocStackLogging: can't turn off malloc stack logging because it was not enabled.\n"
     ]
    },
    {
     "name": "stdout",
     "output_type": "stream",
     "text": [
      "Failed to find a valid solution after multiple attempts.\n",
      "Failed to solve day11_part2_2023: Failed after maximum attempts\n",
      "Progress: 89.2%\n"
     ]
    },
    {
     "name": "stderr",
     "output_type": "stream",
     "text": [
      "python(9453) MallocStackLogging: can't turn off malloc stack logging because it was not enabled.\n"
     ]
    },
    {
     "name": "stdout",
     "output_type": "stream",
     "text": [
      "Failed to find a valid solution after multiple attempts.\n",
      "Failed to solve day12_part1_2023: Failed after maximum attempts\n",
      "Progress: 89.6%\n"
     ]
    },
    {
     "name": "stderr",
     "output_type": "stream",
     "text": [
      "python(9551) MallocStackLogging: can't turn off malloc stack logging because it was not enabled.\n"
     ]
    },
    {
     "name": "stdout",
     "output_type": "stream",
     "text": [
      "Failed to find a valid solution after multiple attempts.\n",
      "Failed to solve day12_part2_2023: Failed after maximum attempts\n",
      "Progress: 90.0%\n"
     ]
    },
    {
     "name": "stderr",
     "output_type": "stream",
     "text": [
      "python(9649) MallocStackLogging: can't turn off malloc stack logging because it was not enabled.\n"
     ]
    },
    {
     "name": "stdout",
     "output_type": "stream",
     "text": [
      "Failed to find a valid solution after multiple attempts.\n",
      "Failed to solve day13_part1_2023: Failed after maximum attempts\n",
      "Progress: 90.5%\n"
     ]
    },
    {
     "name": "stderr",
     "output_type": "stream",
     "text": [
      "python(9769) MallocStackLogging: can't turn off malloc stack logging because it was not enabled.\n"
     ]
    },
    {
     "name": "stdout",
     "output_type": "stream",
     "text": [
      "Failed to find a valid solution after multiple attempts.\n",
      "Failed to solve day14_part1_2023: Failed after maximum attempts\n",
      "Progress: 90.9%\n"
     ]
    },
    {
     "name": "stderr",
     "output_type": "stream",
     "text": [
      "python(9895) MallocStackLogging: can't turn off malloc stack logging because it was not enabled.\n"
     ]
    },
    {
     "name": "stdout",
     "output_type": "stream",
     "text": [
      "Failed to find a valid solution after multiple attempts.\n",
      "Failed to solve day14_part2_2023: Failed after maximum attempts\n",
      "Progress: 91.3%\n"
     ]
    },
    {
     "name": "stderr",
     "output_type": "stream",
     "text": [
      "python(9982) MallocStackLogging: can't turn off malloc stack logging because it was not enabled.\n"
     ]
    },
    {
     "name": "stdout",
     "output_type": "stream",
     "text": [
      "Failed to find a valid solution after multiple attempts.\n",
      "Failed to solve day15_part2_2023: Failed after maximum attempts\n",
      "Progress: 91.8%\n"
     ]
    },
    {
     "name": "stderr",
     "output_type": "stream",
     "text": [
      "python(10167) MallocStackLogging: can't turn off malloc stack logging because it was not enabled.\n"
     ]
    },
    {
     "name": "stdout",
     "output_type": "stream",
     "text": [
      "Failed to find a valid solution after multiple attempts.\n",
      "Failed to solve day16_part1_2023: Failed after maximum attempts\n",
      "Progress: 92.2%\n"
     ]
    },
    {
     "name": "stderr",
     "output_type": "stream",
     "text": [
      "python(10302) MallocStackLogging: can't turn off malloc stack logging because it was not enabled.\n"
     ]
    },
    {
     "name": "stdout",
     "output_type": "stream",
     "text": [
      "Failed to find a valid solution after multiple attempts.\n",
      "Failed to solve day16_part2_2023: Failed after maximum attempts\n",
      "Progress: 92.6%\n"
     ]
    },
    {
     "name": "stderr",
     "output_type": "stream",
     "text": [
      "python(10422) MallocStackLogging: can't turn off malloc stack logging because it was not enabled.\n"
     ]
    },
    {
     "name": "stdout",
     "output_type": "stream",
     "text": [
      "Failed to find a valid solution after multiple attempts.\n",
      "Failed to solve day17_part1_2023: Failed after maximum attempts\n",
      "Progress: 93.1%\n"
     ]
    },
    {
     "name": "stderr",
     "output_type": "stream",
     "text": [
      "python(10558) MallocStackLogging: can't turn off malloc stack logging because it was not enabled.\n"
     ]
    },
    {
     "name": "stdout",
     "output_type": "stream",
     "text": [
      "Failed to find a valid solution after multiple attempts.\n",
      "Failed to solve day17_part2_2023: Failed after maximum attempts\n",
      "Progress: 93.5%\n"
     ]
    },
    {
     "name": "stderr",
     "output_type": "stream",
     "text": [
      "python(10624) MallocStackLogging: can't turn off malloc stack logging because it was not enabled.\n"
     ]
    },
    {
     "name": "stdout",
     "output_type": "stream",
     "text": [
      "Failed to find a valid solution after multiple attempts.\n",
      "Failed to solve day18_part1_2023: Failed after maximum attempts\n",
      "Progress: 93.9%\n"
     ]
    },
    {
     "name": "stderr",
     "output_type": "stream",
     "text": [
      "python(10712) MallocStackLogging: can't turn off malloc stack logging because it was not enabled.\n"
     ]
    },
    {
     "name": "stdout",
     "output_type": "stream",
     "text": [
      "Failed to find a valid solution after multiple attempts.\n",
      "Failed to solve day18_part2_2023: Failed after maximum attempts\n",
      "Progress: 94.4%\n"
     ]
    },
    {
     "name": "stderr",
     "output_type": "stream",
     "text": [
      "python(10837) MallocStackLogging: can't turn off malloc stack logging because it was not enabled.\n"
     ]
    },
    {
     "name": "stdout",
     "output_type": "stream",
     "text": [
      "Failed to find a valid solution after multiple attempts.\n",
      "Failed to solve day19_part1_2023: Failed after maximum attempts\n",
      "Progress: 94.8%\n"
     ]
    },
    {
     "name": "stderr",
     "output_type": "stream",
     "text": [
      "python(10975) MallocStackLogging: can't turn off malloc stack logging because it was not enabled.\n"
     ]
    },
    {
     "name": "stdout",
     "output_type": "stream",
     "text": [
      "Failed to find a valid solution after multiple attempts.\n",
      "Failed to solve day19_part2_2023: Failed after maximum attempts\n",
      "Progress: 95.2%\n"
     ]
    },
    {
     "name": "stderr",
     "output_type": "stream",
     "text": [
      "python(11077) MallocStackLogging: can't turn off malloc stack logging because it was not enabled.\n"
     ]
    },
    {
     "name": "stdout",
     "output_type": "stream",
     "text": [
      "Failed to find a valid solution after multiple attempts.\n",
      "Failed to solve day20_part1_2023: Failed after maximum attempts\n",
      "Progress: 95.7%\n"
     ]
    },
    {
     "name": "stderr",
     "output_type": "stream",
     "text": [
      "python(11275) MallocStackLogging: can't turn off malloc stack logging because it was not enabled.\n"
     ]
    },
    {
     "name": "stdout",
     "output_type": "stream",
     "text": [
      "Failed to find a valid solution after multiple attempts.\n",
      "Failed to solve day20_part2_2023: Failed after maximum attempts\n",
      "Progress: 96.1%\n"
     ]
    },
    {
     "name": "stderr",
     "output_type": "stream",
     "text": [
      "python(11376) MallocStackLogging: can't turn off malloc stack logging because it was not enabled.\n"
     ]
    },
    {
     "name": "stdout",
     "output_type": "stream",
     "text": [
      "Failed to find a valid solution after multiple attempts.\n",
      "Failed to solve day21_part1_2023: Failed after maximum attempts\n",
      "Progress: 96.5%\n"
     ]
    },
    {
     "name": "stderr",
     "output_type": "stream",
     "text": [
      "python(11471) MallocStackLogging: can't turn off malloc stack logging because it was not enabled.\n"
     ]
    },
    {
     "name": "stdout",
     "output_type": "stream",
     "text": [
      "Failed to find a valid solution after multiple attempts.\n",
      "Failed to solve day21_part2_2023: Failed after maximum attempts\n",
      "Progress: 97.0%\n"
     ]
    },
    {
     "name": "stderr",
     "output_type": "stream",
     "text": [
      "python(11553) MallocStackLogging: can't turn off malloc stack logging because it was not enabled.\n"
     ]
    },
    {
     "name": "stdout",
     "output_type": "stream",
     "text": [
      "Failed to find a valid solution after multiple attempts.\n",
      "Failed to solve day22_part1_2023: Failed after maximum attempts\n",
      "Progress: 97.4%\n"
     ]
    },
    {
     "name": "stderr",
     "output_type": "stream",
     "text": [
      "python(11673) MallocStackLogging: can't turn off malloc stack logging because it was not enabled.\n"
     ]
    },
    {
     "name": "stdout",
     "output_type": "stream",
     "text": [
      "Failed to find a valid solution after multiple attempts.\n",
      "Failed to solve day22_part2_2023: Failed after maximum attempts\n",
      "Progress: 97.8%\n"
     ]
    },
    {
     "name": "stderr",
     "output_type": "stream",
     "text": [
      "python(11839) MallocStackLogging: can't turn off malloc stack logging because it was not enabled.\n"
     ]
    },
    {
     "name": "stdout",
     "output_type": "stream",
     "text": [
      "Failed to find a valid solution after multiple attempts.\n",
      "Failed to solve day23_part1_2023: Failed after maximum attempts\n",
      "Progress: 98.3%\n"
     ]
    },
    {
     "name": "stderr",
     "output_type": "stream",
     "text": [
      "python(12001) MallocStackLogging: can't turn off malloc stack logging because it was not enabled.\n"
     ]
    },
    {
     "name": "stdout",
     "output_type": "stream",
     "text": [
      "Failed to find a valid solution after multiple attempts.\n",
      "Failed to solve day23_part2_2023: Failed after maximum attempts\n",
      "Progress: 98.7%\n"
     ]
    },
    {
     "name": "stderr",
     "output_type": "stream",
     "text": [
      "python(12067) MallocStackLogging: can't turn off malloc stack logging because it was not enabled.\n"
     ]
    },
    {
     "name": "stdout",
     "output_type": "stream",
     "text": [
      "Failed to find a valid solution after multiple attempts.\n",
      "Failed to solve day24_part1_2023: Failed after maximum attempts\n",
      "Progress: 99.1%\n"
     ]
    },
    {
     "name": "stderr",
     "output_type": "stream",
     "text": [
      "python(12182) MallocStackLogging: can't turn off malloc stack logging because it was not enabled.\n"
     ]
    },
    {
     "name": "stdout",
     "output_type": "stream",
     "text": [
      "Failed to find a valid solution after multiple attempts.\n",
      "Failed to solve day24_part2_2023: Failed after maximum attempts\n",
      "Progress: 99.6%\n"
     ]
    },
    {
     "name": "stderr",
     "output_type": "stream",
     "text": [
      "python(12337) MallocStackLogging: can't turn off malloc stack logging because it was not enabled.\n"
     ]
    },
    {
     "name": "stdout",
     "output_type": "stream",
     "text": [
      "Failed to find a valid solution after multiple attempts.\n",
      "Failed to solve day25_part1_2023: Failed after maximum attempts\n",
      "Progress: 100.0%\n"
     ]
    }
   ],
   "source": [
    "import os\n",
    "import time\n",
    "from datasets import load_dataset\n",
    "from pathlib import Path\n",
    "\n",
    "def get_existing_solutions(language):\n",
    "    home_dir = str(Path.home())\n",
    "    solutions_dir = os.path.join(home_dir, \"code\", \"advent_generated\", \"crystal\")\n",
    "    solutions = os.listdir(solutions_dir)\n",
    "    return [os.path.splitext(solution)[0] for solution in solutions if solution.endswith(f\".{language}\")]\n",
    "\n",
    "def run_max_times(func, max_attempts=1):\n",
    "    for _ in range(max_attempts):\n",
    "        success, result = func()\n",
    "        if success:\n",
    "            return True, result\n",
    "    return False, \"Failed after maximum attempts\"\n",
    "\n",
    "def main():\n",
    "    target_language = 'crystal'  # Change this to 'awk' or any other language as needed\n",
    "\n",
    "    dataset = load_dataset(\"isavita/advent-of-code\")\n",
    "    go_solutions = dataset['train'].filter(lambda example: example['solution_lang'] == 'go')\n",
    "\n",
    "    existing_solutions = get_existing_solutions('cr')\n",
    "    unsolved_challenges = [challenge for challenge in go_solutions if challenge['name'] not in existing_solutions]\n",
    "\n",
    "    llm_wrapper = LLMWrapper(\"gpt-4o-mini\")  # You can change this to your preferred model\n",
    "    solver = ChallengeSolver(\"gpt-4o-mini\", llm_wrapper, language=target_language)\n",
    "\n",
    "    total_challenges = len(unsolved_challenges)\n",
    "    print(f\"Total unsolved challenges: {total_challenges}\")\n",
    "\n",
    "    for i, challenge in enumerate(unsolved_challenges, 1):\n",
    "        def solve_attempt():\n",
    "            success, result = solver.solve(challenge, use_go_solution=True)\n",
    "            print(result)\n",
    "            if \"Timeout\" in result:\n",
    "                print(f\"Challenge {challenge['name']} timed out.\")\n",
    "                return False, result\n",
    "            return success, result\n",
    "\n",
    "        success, result = run_max_times(solve_attempt, max_attempts=1)\n",
    "\n",
    "        if success:\n",
    "            print(f\"Solved {challenge['name']} successfully!\")\n",
    "        else:\n",
    "            print(f\"Failed to solve {challenge['name']}: {result}\")\n",
    "\n",
    "        progress = (i / total_challenges) * 100\n",
    "        print(f\"Progress: {progress:.1f}%\")\n",
    "        \n",
    "        time.sleep(1)  # Sleep for 15 seconds between attempts\n",
    "\n",
    "if __name__ == \"__main__\":\n",
    "    main()"
   ]
  },
  {
   "cell_type": "code",
   "execution_count": null,
   "id": "300a750e-71fa-4f57-9696-1ffaeda535fc",
   "metadata": {},
   "outputs": [],
   "source": []
  }
 ],
 "metadata": {
  "kernelspec": {
   "display_name": "Python 3 (ipykernel)",
   "language": "python",
   "name": "python3"
  },
  "language_info": {
   "codemirror_mode": {
    "name": "ipython",
    "version": 3
   },
   "file_extension": ".py",
   "mimetype": "text/x-python",
   "name": "python",
   "nbconvert_exporter": "python",
   "pygments_lexer": "ipython3",
   "version": "3.12.3"
  }
 },
 "nbformat": 4,
 "nbformat_minor": 5
}
