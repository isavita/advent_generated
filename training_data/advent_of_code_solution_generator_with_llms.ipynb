{
 "cells": [
  {
   "cell_type": "code",
   "execution_count": 20,
   "id": "d388c7c8-1415-47e4-a99d-fa711aeffcaf",
   "metadata": {},
   "outputs": [
    {
     "name": "stderr",
     "output_type": "stream",
     "text": [
      "python(22460) MallocStackLogging: can't turn off malloc stack logging because it was not enabled.\n"
     ]
    },
    {
     "name": "stdout",
     "output_type": "stream",
     "text": [
      "Requirement already satisfied: litellm in /Users/isavita/anaconda3/envs/nb/lib/python3.12/site-packages (1.41.24)\n",
      "Requirement already satisfied: transformers in /Users/isavita/anaconda3/envs/nb/lib/python3.12/site-packages (4.42.4)\n",
      "Requirement already satisfied: datasets in /Users/isavita/anaconda3/envs/nb/lib/python3.12/site-packages (2.20.0)\n",
      "Requirement already satisfied: aiohttp in /Users/isavita/anaconda3/envs/nb/lib/python3.12/site-packages (from litellm) (3.9.5)\n",
      "Requirement already satisfied: click in /Users/isavita/anaconda3/envs/nb/lib/python3.12/site-packages (from litellm) (8.1.7)\n",
      "Requirement already satisfied: importlib-metadata>=6.8.0 in /Users/isavita/anaconda3/envs/nb/lib/python3.12/site-packages (from litellm) (7.0.0)\n",
      "Requirement already satisfied: jinja2<4.0.0,>=3.1.2 in /Users/isavita/anaconda3/envs/nb/lib/python3.12/site-packages (from litellm) (3.1.3)\n",
      "Requirement already satisfied: jsonschema<5.0.0,>=4.22.0 in /Users/isavita/anaconda3/envs/nb/lib/python3.12/site-packages (from litellm) (4.23.0)\n",
      "Requirement already satisfied: openai>=1.27.0 in /Users/isavita/anaconda3/envs/nb/lib/python3.12/site-packages (from litellm) (1.35.15)\n",
      "Requirement already satisfied: pydantic<3.0.0,>=2.0.0 in /Users/isavita/anaconda3/envs/nb/lib/python3.12/site-packages (from litellm) (2.7.1)\n",
      "Requirement already satisfied: python-dotenv>=0.2.0 in /Users/isavita/anaconda3/envs/nb/lib/python3.12/site-packages (from litellm) (1.0.1)\n",
      "Requirement already satisfied: requests<3.0.0,>=2.31.0 in /Users/isavita/anaconda3/envs/nb/lib/python3.12/site-packages (from litellm) (2.32.3)\n",
      "Requirement already satisfied: tiktoken>=0.7.0 in /Users/isavita/anaconda3/envs/nb/lib/python3.12/site-packages (from litellm) (0.7.0)\n",
      "Requirement already satisfied: tokenizers in /Users/isavita/anaconda3/envs/nb/lib/python3.12/site-packages (from litellm) (0.19.1)\n",
      "Requirement already satisfied: filelock in /Users/isavita/anaconda3/envs/nb/lib/python3.12/site-packages (from transformers) (3.13.4)\n",
      "Requirement already satisfied: huggingface-hub<1.0,>=0.23.2 in /Users/isavita/anaconda3/envs/nb/lib/python3.12/site-packages (from transformers) (0.24.0)\n",
      "Requirement already satisfied: numpy<2.0,>=1.17 in /Users/isavita/anaconda3/envs/nb/lib/python3.12/site-packages (from transformers) (1.26.4)\n",
      "Requirement already satisfied: packaging>=20.0 in /Users/isavita/anaconda3/envs/nb/lib/python3.12/site-packages (from transformers) (23.2)\n",
      "Requirement already satisfied: pyyaml>=5.1 in /Users/isavita/anaconda3/envs/nb/lib/python3.12/site-packages (from transformers) (6.0.1)\n",
      "Requirement already satisfied: regex!=2019.12.17 in /Users/isavita/anaconda3/envs/nb/lib/python3.12/site-packages (from transformers) (2024.4.16)\n",
      "Requirement already satisfied: safetensors>=0.4.1 in /Users/isavita/anaconda3/envs/nb/lib/python3.12/site-packages (from transformers) (0.4.3)\n",
      "Requirement already satisfied: tqdm>=4.27 in /Users/isavita/anaconda3/envs/nb/lib/python3.12/site-packages (from transformers) (4.66.4)\n",
      "Requirement already satisfied: pyarrow>=15.0.0 in /Users/isavita/anaconda3/envs/nb/lib/python3.12/site-packages (from datasets) (16.1.0)\n",
      "Requirement already satisfied: pyarrow-hotfix in /Users/isavita/anaconda3/envs/nb/lib/python3.12/site-packages (from datasets) (0.6)\n",
      "Requirement already satisfied: dill<0.3.9,>=0.3.0 in /Users/isavita/anaconda3/envs/nb/lib/python3.12/site-packages (from datasets) (0.3.8)\n",
      "Requirement already satisfied: pandas in /Users/isavita/anaconda3/envs/nb/lib/python3.12/site-packages (from datasets) (2.2.2)\n",
      "Requirement already satisfied: xxhash in /Users/isavita/anaconda3/envs/nb/lib/python3.12/site-packages (from datasets) (3.4.1)\n",
      "Requirement already satisfied: multiprocess in /Users/isavita/anaconda3/envs/nb/lib/python3.12/site-packages (from datasets) (0.70.16)\n",
      "Requirement already satisfied: fsspec<=2024.5.0,>=2023.1.0 in /Users/isavita/anaconda3/envs/nb/lib/python3.12/site-packages (from fsspec[http]<=2024.5.0,>=2023.1.0->datasets) (2024.3.1)\n",
      "Requirement already satisfied: aiosignal>=1.1.2 in /Users/isavita/anaconda3/envs/nb/lib/python3.12/site-packages (from aiohttp->litellm) (1.3.1)\n",
      "Requirement already satisfied: attrs>=17.3.0 in /Users/isavita/anaconda3/envs/nb/lib/python3.12/site-packages (from aiohttp->litellm) (23.1.0)\n",
      "Requirement already satisfied: frozenlist>=1.1.1 in /Users/isavita/anaconda3/envs/nb/lib/python3.12/site-packages (from aiohttp->litellm) (1.4.1)\n",
      "Requirement already satisfied: multidict<7.0,>=4.5 in /Users/isavita/anaconda3/envs/nb/lib/python3.12/site-packages (from aiohttp->litellm) (6.0.5)\n",
      "Requirement already satisfied: yarl<2.0,>=1.0 in /Users/isavita/anaconda3/envs/nb/lib/python3.12/site-packages (from aiohttp->litellm) (1.9.4)\n",
      "Requirement already satisfied: typing-extensions>=3.7.4.3 in /Users/isavita/anaconda3/envs/nb/lib/python3.12/site-packages (from huggingface-hub<1.0,>=0.23.2->transformers) (4.9.0)\n",
      "Requirement already satisfied: zipp>=0.5 in /Users/isavita/anaconda3/envs/nb/lib/python3.12/site-packages (from importlib-metadata>=6.8.0->litellm) (3.18.1)\n",
      "Requirement already satisfied: MarkupSafe>=2.0 in /Users/isavita/anaconda3/envs/nb/lib/python3.12/site-packages (from jinja2<4.0.0,>=3.1.2->litellm) (2.1.3)\n",
      "Requirement already satisfied: jsonschema-specifications>=2023.03.6 in /Users/isavita/anaconda3/envs/nb/lib/python3.12/site-packages (from jsonschema<5.0.0,>=4.22.0->litellm) (2023.7.1)\n",
      "Requirement already satisfied: referencing>=0.28.4 in /Users/isavita/anaconda3/envs/nb/lib/python3.12/site-packages (from jsonschema<5.0.0,>=4.22.0->litellm) (0.30.2)\n",
      "Requirement already satisfied: rpds-py>=0.7.1 in /Users/isavita/anaconda3/envs/nb/lib/python3.12/site-packages (from jsonschema<5.0.0,>=4.22.0->litellm) (0.10.6)\n",
      "Requirement already satisfied: anyio<5,>=3.5.0 in /Users/isavita/anaconda3/envs/nb/lib/python3.12/site-packages (from openai>=1.27.0->litellm) (4.2.0)\n",
      "Requirement already satisfied: distro<2,>=1.7.0 in /Users/isavita/anaconda3/envs/nb/lib/python3.12/site-packages (from openai>=1.27.0->litellm) (1.9.0)\n",
      "Requirement already satisfied: httpx<1,>=0.23.0 in /Users/isavita/anaconda3/envs/nb/lib/python3.12/site-packages (from openai>=1.27.0->litellm) (0.27.0)\n",
      "Requirement already satisfied: sniffio in /Users/isavita/anaconda3/envs/nb/lib/python3.12/site-packages (from openai>=1.27.0->litellm) (1.3.0)\n",
      "Requirement already satisfied: annotated-types>=0.4.0 in /Users/isavita/anaconda3/envs/nb/lib/python3.12/site-packages (from pydantic<3.0.0,>=2.0.0->litellm) (0.6.0)\n",
      "Requirement already satisfied: pydantic-core==2.18.2 in /Users/isavita/anaconda3/envs/nb/lib/python3.12/site-packages (from pydantic<3.0.0,>=2.0.0->litellm) (2.18.2)\n",
      "Requirement already satisfied: charset-normalizer<4,>=2 in /Users/isavita/anaconda3/envs/nb/lib/python3.12/site-packages (from requests<3.0.0,>=2.31.0->litellm) (2.0.4)\n",
      "Requirement already satisfied: idna<4,>=2.5 in /Users/isavita/anaconda3/envs/nb/lib/python3.12/site-packages (from requests<3.0.0,>=2.31.0->litellm) (3.4)\n",
      "Requirement already satisfied: urllib3<3,>=1.21.1 in /Users/isavita/anaconda3/envs/nb/lib/python3.12/site-packages (from requests<3.0.0,>=2.31.0->litellm) (2.1.0)\n",
      "Requirement already satisfied: certifi>=2017.4.17 in /Users/isavita/anaconda3/envs/nb/lib/python3.12/site-packages (from requests<3.0.0,>=2.31.0->litellm) (2024.2.2)\n",
      "Requirement already satisfied: python-dateutil>=2.8.2 in /Users/isavita/anaconda3/envs/nb/lib/python3.12/site-packages (from pandas->datasets) (2.8.2)\n",
      "Requirement already satisfied: pytz>=2020.1 in /Users/isavita/anaconda3/envs/nb/lib/python3.12/site-packages (from pandas->datasets) (2024.1)\n",
      "Requirement already satisfied: tzdata>=2022.7 in /Users/isavita/anaconda3/envs/nb/lib/python3.12/site-packages (from pandas->datasets) (2024.1)\n",
      "Requirement already satisfied: httpcore==1.* in /Users/isavita/anaconda3/envs/nb/lib/python3.12/site-packages (from httpx<1,>=0.23.0->openai>=1.27.0->litellm) (1.0.5)\n",
      "Requirement already satisfied: h11<0.15,>=0.13 in /Users/isavita/anaconda3/envs/nb/lib/python3.12/site-packages (from httpcore==1.*->httpx<1,>=0.23.0->openai>=1.27.0->litellm) (0.14.0)\n",
      "Requirement already satisfied: six>=1.5 in /Users/isavita/anaconda3/envs/nb/lib/python3.12/site-packages (from python-dateutil>=2.8.2->pandas->datasets) (1.16.0)\n",
      "Dependencies installed and libraries imported successfully.\n"
     ]
    }
   ],
   "source": [
    "# Install required packages\n",
    "!pip install litellm transformers datasets\n",
    "\n",
    "# Import necessary libraries\n",
    "import os\n",
    "import subprocess\n",
    "import sys\n",
    "import tempfile\n",
    "from datasets import load_dataset\n",
    "\n",
    "print(\"Dependencies installed and libraries imported successfully.\")"
   ]
  },
  {
   "cell_type": "code",
   "execution_count": 2,
   "id": "d4f1d33c-8193-4180-9ecf-152aa7e594f2",
   "metadata": {},
   "outputs": [
    {
     "data": {
      "application/vnd.jupyter.widget-view+json": {
       "model_id": "e8ac8165e5724f4cb6dbd981a3765425",
       "version_major": 2,
       "version_minor": 0
      },
      "text/plain": [
       "Filter:   0%|          | 0/8106 [00:00<?, ? examples/s]"
      ]
     },
     "metadata": {},
     "output_type": "display_data"
    },
    {
     "name": "stdout",
     "output_type": "stream",
     "text": [
      "Loaded 441 Go solutions from the dataset.\n"
     ]
    }
   ],
   "source": [
    "# Load the dataset from Hugging Face\n",
    "dataset = load_dataset(\"isavita/advent-of-code\")\n",
    "\n",
    "# Filter the dataset for Go solutions\n",
    "go_solutions = dataset['train'].filter(lambda example: example['solution_lang'] == 'go')\n",
    "\n",
    "print(f\"Loaded {len(go_solutions)} Go solutions from the dataset.\")"
   ]
  },
  {
   "cell_type": "code",
   "execution_count": 65,
   "id": "d53c8549-872c-4688-befe-2f5aa2da16cb",
   "metadata": {},
   "outputs": [
    {
     "name": "stdout",
     "output_type": "stream",
     "text": [
      "Go constants class defined.\n"
     ]
    }
   ],
   "source": [
    "class Constants:\n",
    "    @staticmethod\n",
    "    def file_ext():\n",
    "        return \"clj\"\n",
    "    \n",
    "    @staticmethod\n",
    "    def lang():\n",
    "        return \"clojure\"\n",
    "    \n",
    "    @staticmethod\n",
    "    def compiler():\n",
    "        return \"/opt/homebrew/bin/clojure\"\n",
    "    \n",
    "    @staticmethod\n",
    "    def runtime():\n",
    "        return \"/opt/homebrew/bin/clojure -M\"\n",
    "\n",
    "print(\"Go constants class defined.\")"
   ]
  },
  {
   "cell_type": "code",
   "execution_count": 67,
   "id": "8c2d5f3d-6717-42cb-9fc6-eb1badaaa5a1",
   "metadata": {},
   "outputs": [
    {
     "name": "stderr",
     "output_type": "stream",
     "text": [
      "python(65170) MallocStackLogging: can't turn off malloc stack logging because it was not enabled.\n"
     ]
    },
    {
     "name": "stdout",
     "output_type": "stream",
     "text": [
      "Program executed successfully.\n",
      "Output: Hello, World!\n"
     ]
    }
   ],
   "source": [
    "import tempfile\n",
    "import subprocess\n",
    "import os\n",
    "\n",
    "def test_go_execution():\n",
    "    # Hello World program in Go\n",
    "    code = '''\n",
    "(println \"Hello, World!\")\n",
    "'''\n",
    "    \n",
    "    # Create a temporary file\n",
    "    with tempfile.NamedTemporaryFile(suffix=f'.{Constants.file_ext()}', delete=False, mode='w') as temp_file:\n",
    "        temp_file.write(code)\n",
    "        temp_file_path = temp_file.name\n",
    "    \n",
    "    try:\n",
    "        # Run the program\n",
    "        result = subprocess.run(f\"{Constants.runtime()} {temp_file_path}\", shell=True, capture_output=True, text=True)\n",
    "        \n",
    "        if result.returncode == 0:\n",
    "            print(\"Program executed successfully.\")\n",
    "            print(\"Output:\", result.stdout.strip())\n",
    "        else:\n",
    "            print(\"Error executing program:\")\n",
    "            print(result.stderr)\n",
    "    finally:\n",
    "        # Clean up the temporary file\n",
    "        os.unlink(temp_file_path)\n",
    "\n",
    "# Run the test\n",
    "test_go_execution()"
   ]
  },
  {
   "cell_type": "code",
   "execution_count": 51,
   "id": "0ade8d45-af33-43b4-b85e-343d8c498aa1",
   "metadata": {},
   "outputs": [],
   "source": [
    "import litellm\n",
    "import warnings\n",
    "\n",
    "# Suppress the specific warning\n",
    "warnings.filterwarnings(\"ignore\", message=\"Field .* has conflict with protected namespace .*\")\n",
    "\n",
    "class LLMWrapper:\n",
    "    def __init__(self, model_name, api_base=None):\n",
    "        self.model_name = model_name\n",
    "        self.api_base = api_base\n",
    "        self.temperature = 0.3  # Hardcoded temperature as specified\n",
    "\n",
    "    def generate(self, system_prompt, user_prompt):\n",
    "        try:\n",
    "            completion_params = {\n",
    "                \"model\": self.model_name,\n",
    "                \"messages\": [\n",
    "                    {\"role\": \"system\", \"content\": system_prompt},\n",
    "                    {\"role\": \"user\", \"content\": user_prompt}\n",
    "                ],\n",
    "                \"temperature\": self.temperature,\n",
    "            }\n",
    "            \n",
    "            if self.api_base:\n",
    "                completion_params[\"api_base\"] = self.api_base\n",
    "\n",
    "            response = litellm.completion(**completion_params)\n",
    "            return response.choices[0].message.content\n",
    "        except Exception as e:\n",
    "            print(f\"Error in LLM API call: {str(e)}\")\n",
    "            return None\n",
    "\n",
    "# Test the LLMWrapper with the local Ollama model\n",
    "def test_llm_wrapper():\n",
    "    wrapper = LLMWrapper(\"ollama/llama3:8b-instruct-q5_K_M\", api_base=\"http://localhost:11434\")\n",
    "    \n",
    "    system_prompt = \"You are a helpful assistant.\"\n",
    "    user_prompt = \"Tell me a short joke about programming.\"\n",
    "    \n",
    "    print(\"Testing with local Ollama model:\")\n",
    "    response = wrapper.generate(system_prompt, user_prompt)\n",
    "    if response:\n",
    "        print(\"Local LLM Response:\")\n",
    "        print(response)\n",
    "    else:\n",
    "        print(\"Failed to get a response from the local LLM.\")\n",
    "\n",
    "# Run the test\n",
    "# test_llm_wrapper()"
   ]
  },
  {
   "cell_type": "code",
   "execution_count": 68,
   "id": "3f86a61d-2fd9-4a08-860f-db267ece8fcb",
   "metadata": {},
   "outputs": [
    {
     "name": "stdout",
     "output_type": "stream",
     "text": [
      "Testing quick function (should complete):\n",
      "Quick function completed\n",
      "\n",
      "Testing slow function (should timeout):\n",
      "None\n"
     ]
    }
   ],
   "source": [
    "import threading\n",
    "import time\n",
    "import queue\n",
    "\n",
    "class TimeoutRunner:\n",
    "    @staticmethod\n",
    "    def run_with_timeout(func, args=(), kwargs={}, timeout_duration=10):\n",
    "        result_queue = queue.Queue()\n",
    "\n",
    "        def wrapper():\n",
    "            try:\n",
    "                result = func(*args, **kwargs)\n",
    "                result_queue.put(result)\n",
    "            except Exception as e:\n",
    "                result_queue.put(e)\n",
    "\n",
    "        thread = threading.Thread(target=wrapper)\n",
    "        thread.daemon = True\n",
    "        thread.start()\n",
    "        \n",
    "        try:\n",
    "            return result_queue.get(timeout=timeout_duration)\n",
    "        except queue.Empty:\n",
    "            return None\n",
    "\n",
    "# Test the TimeoutRunner\n",
    "def test_timeout_runner():\n",
    "    def quick_function():\n",
    "        return \"Quick function completed\"\n",
    "\n",
    "    def slow_function():\n",
    "        time.sleep(5)\n",
    "        return \"Slow function completed\"\n",
    "\n",
    "    runner = TimeoutRunner()\n",
    "\n",
    "    print(\"Testing quick function (should complete):\")\n",
    "    result = runner.run_with_timeout(quick_function, timeout_duration=2)\n",
    "    print(result)\n",
    "\n",
    "    print(\"\\nTesting slow function (should timeout):\")\n",
    "    result = runner.run_with_timeout(slow_function, timeout_duration=2)\n",
    "    print(result)\n",
    "\n",
    "# Run the test\n",
    "test_timeout_runner()"
   ]
  },
  {
   "cell_type": "code",
   "execution_count": 53,
   "id": "693e4840-a1a2-4669-ae3c-d9ceebeb814f",
   "metadata": {},
   "outputs": [
    {
     "name": "stderr",
     "output_type": "stream",
     "text": [
      "python(61897) MallocStackLogging: can't turn off malloc stack logging because it was not enabled.\n"
     ]
    },
    {
     "name": "stdout",
     "output_type": "stream",
     "text": [
      "Evaluation result:\n",
      "Runtime error: WARNING: Implicit use of clojure.main with options is deprecated, use -M\n",
      "Execution error (ClassCastException) at user/eval1 (main.clj:2).\n",
      "class java.lang.String cannot be cast to class clojure.lang.IFn (java.lang.String is in module java.base of loader 'bootstrap'; clojure.lang.IFn is in unnamed module of loader 'app')\n",
      "\n",
      "Full report at:\n",
      "/var/folders/46/6lz6t86n4n10lwsyj3pyzd6h0000gn/T/clojure-16955934614950454329.edn\n",
      "\n"
     ]
    }
   ],
   "source": [
    "import os\n",
    "import tempfile\n",
    "import subprocess\n",
    "\n",
    "class EvaluateCode:\n",
    "    def __init__(self, code, input_data):\n",
    "        self.code = code\n",
    "        self.input_data = input_data\n",
    "\n",
    "    def run(self):\n",
    "        with tempfile.TemporaryDirectory() as temp_dir:\n",
    "            # Save code to a file using the extension from Constants\n",
    "            code_file = os.path.join(temp_dir, f\"main.{Constants.file_ext()}\")\n",
    "            with open(code_file, 'w') as f:\n",
    "                f.write(self.code)\n",
    "\n",
    "            # Save input to a file\n",
    "            input_file = os.path.join(temp_dir, \"input.txt\")\n",
    "            with open(input_file, 'w') as f:\n",
    "                f.write(self.input_data)\n",
    "\n",
    "            # Directly run the file\n",
    "            run_command = f\"{Constants.runtime()} {code_file} < {input_file}\"\n",
    "\n",
    "            # Run the command in the temporary directory\n",
    "            run_result = subprocess.run(\n",
    "                run_command,\n",
    "                shell=True,\n",
    "                capture_output=True,\n",
    "                text=True,\n",
    "                cwd=temp_dir  # Set the working directory to the temporary directory\n",
    "            )\n",
    "\n",
    "            if run_result.returncode != 0:\n",
    "                return f\"Runtime error: {run_result.stderr}\"\n",
    "\n",
    "            return run_result.stdout\n",
    "\n",
    "# Test the EvaluateCode class\n",
    "def test_evaluate_code():\n",
    "    code = '''\n",
    "print(\"Enter a number:\")\n",
    "n = io.read(\"*n\")\n",
    "print(\"The number is: \" .. n)\n",
    "'''\n",
    "    input_data = \"43\"\n",
    "\n",
    "    evaluator = EvaluateCode(code, input_data)\n",
    "    result = evaluator.run()\n",
    "    print(\"Evaluation result:\")\n",
    "    print(result)\n",
    "\n",
    "# Run the test\n",
    "test_evaluate_code()"
   ]
  },
  {
   "cell_type": "code",
   "execution_count": 69,
   "id": "6fe66aba-1aaa-43a9-b269-31eadfb94e13",
   "metadata": {},
   "outputs": [
    {
     "name": "stdout",
     "output_type": "stream",
     "text": [
      "Testing with task description:\n"
     ]
    },
    {
     "name": "stderr",
     "output_type": "stream",
     "text": [
      "python(65246) MallocStackLogging: can't turn off malloc stack logging because it was not enabled.\n"
     ]
    },
    {
     "name": "stdout",
     "output_type": "stream",
     "text": [
      "Solution found: True\n",
      "Result: Runtime error: Syntax error compiling at (/var/folders/46/6lz6t86n4n10lwsyj3pyzd6h0000gn/T/tmpl08zwaam/main.clj:0:0).\n",
      "Unable to resolve symbol: with in this context\n",
      "\n",
      "Full report at:\n",
      "/var/folders/46/6lz6t86n4n10lwsyj3pyzd6h0000gn/T/clojure-17654121501450259068.edn\n",
      "\n",
      "\n",
      "Testing with Go solution conversion:\n"
     ]
    },
    {
     "name": "stderr",
     "output_type": "stream",
     "text": [
      "python(65256) MallocStackLogging: can't turn off malloc stack logging because it was not enabled.\n"
     ]
    },
    {
     "name": "stdout",
     "output_type": "stream",
     "text": [
      "Solution found: True\n",
      "Result: Runtime error: Syntax error compiling at (/var/folders/46/6lz6t86n4n10lwsyj3pyzd6h0000gn/T/tmp6be43232/main.clj:0:0).\n",
      "Unable to resolve symbol: with in this context\n",
      "\n",
      "Full report at:\n",
      "/var/folders/46/6lz6t86n4n10lwsyj3pyzd6h0000gn/T/clojure-6368518634571599110.edn\n",
      "\n"
     ]
    }
   ],
   "source": [
    "import re\n",
    "import os\n",
    "import signal\n",
    "import time\n",
    "from pathlib import Path\n",
    "\n",
    "class TimeoutException(Exception):\n",
    "    pass\n",
    "\n",
    "def timeout_handler(signum, frame):\n",
    "    raise TimeoutException(\"Execution timed out\")\n",
    "\n",
    "class ChallengeSolver:\n",
    "    def __init__(self, model_name, llm_wrapper, language='julia'):\n",
    "        self.model_name = model_name\n",
    "        self.llm_wrapper = llm_wrapper\n",
    "        self.language = language\n",
    "\n",
    "    def extract_code(self, input_text):\n",
    "        pattern = rf\"```(?:{self.language})?(.*?)```\"\n",
    "        matches = re.findall(pattern, input_text, re.DOTALL)\n",
    "        return matches[0] if matches else input_text\n",
    "\n",
    "    def valid_solution(self, result, answer):\n",
    "        special_cases = [\n",
    "            \".##..####.###..#..#.###..####.###....##.###...###.\",\n",
    "            \" ##  #### ###  #  # ###  #### ###    ## ###   ### \",\n",
    "            \"#....#..#....#.....###..######....##....#....#....##....######\",\n",
    "            \"#    #  #    #     ###  ######    ##    #    #    ##    ######\",\n",
    "            \"3.465154e+06\", \"3.465154e+6\",\n",
    "            \"####.###..####.#..#.###..\\n#....#..#....#.#..#.#..#.\",\n",
    "            \"#### ###  #### #  # ###  \\n#    #  #    # #  # #  # \",\n",
    "            \".#....###....##.#..#.####.#..#.#....#..#.\\n\",\n",
    "            \" #    ###    ## #  # #### #  # #    #  # \\n\",\n",
    "            \" █    ███    ██ █  █ ████ █  █ █    █  █ \\n\",\n",
    "            \"#..#.#..#.#..#.#..#.#..#.#..#.#..#....#\",\n",
    "            \"#  # #  # #  # #  # #  # #  # #  #    #\",\n",
    "            \"###..###..###...##..###...##...##..####.\",\n",
    "            \"###  ###  ###   ##  ###   ##   ##  #### \"\n",
    "        ]\n",
    "        return answer in result or any(case in result for case in special_cases)\n",
    "\n",
    "    def solve(self, challenge_data, use_go_solution=False):\n",
    "        if use_go_solution:\n",
    "            system_prompt = f\"\"\"\n",
    "            You are an expert programmer that writes simple, concise code and no comments or explanation.\n",
    "            Given this golang program write a {self.language} version that it reads its input from a file \"input.txt\" and solve the following task.\n",
    "            The program should print the answer.\n",
    "\n",
    "            **NOTE:** Golang is faster language than {self.language}, thus you have to try more efficient solution in {self.language}!\n",
    "\n",
    "            Golang Solution:\n",
    "            {challenge_data['solution']}\n",
    "            \"\"\"\n",
    "            user_prompt = f\"Convert the above Go solution to {self.language} and optimize it if possible.\"\n",
    "        else:\n",
    "            system_prompt = f\"\"\"\n",
    "            Write a {self.language} program that reads input from a file called input.txt and prints the output to standard output.\n",
    "            Focus on writing clean, efficient code that demonstrates your programming skills by concisely solving the challenge.\n",
    "            {\"**NOTE:** DO NOT forget to add at the top of the code #!/usr/bin/awk\" if self.language == 'awk' else \"\"}\n",
    "\n",
    "            Coding challenge:\n",
    "            \"\"\"\n",
    "            user_prompt = challenge_data['task']\n",
    "\n",
    "        start_time = time.time()\n",
    "        timeout = 40  # 40 seconds timeout\n",
    "\n",
    "        # Set the signal handler and a 40-second alarm\n",
    "        signal.signal(signal.SIGALRM, timeout_handler)\n",
    "        signal.alarm(timeout)\n",
    "\n",
    "        try:\n",
    "            max_attempts = 1\n",
    "            for attempt in range(max_attempts):\n",
    "                if time.time() - start_time > timeout:\n",
    "                    raise TimeoutException(\"Execution timed out\")\n",
    "\n",
    "                response = self.llm_wrapper.generate(system_prompt, user_prompt)\n",
    "                code = self.extract_code(response)\n",
    "\n",
    "                evaluator = EvaluateCode(code, challenge_data['input'])\n",
    "                result = evaluator.run()\n",
    "\n",
    "                if self.valid_solution(result, challenge_data['answer']):\n",
    "                    self.save_solution(challenge_data, code)\n",
    "                    return True, result\n",
    "\n",
    "            return False, \"Failed to find a valid solution after multiple attempts.\"\n",
    "\n",
    "        except TimeoutException:\n",
    "            return False, \"Execution timed out after 40 seconds.\"\n",
    "\n",
    "        finally:\n",
    "            # Cancel the alarm\n",
    "            signal.alarm(0)\n",
    "\n",
    "    def save_solution(self, challenge_data, code):\n",
    "        home_dir = str(Path.home())\n",
    "        file_path = f\"{home_dir}/code/advent_generated/{challenge_data['name']}.{self.get_file_extension()}\"\n",
    "        os.makedirs(os.path.dirname(file_path), exist_ok=True)\n",
    "        with open(file_path, 'w') as f:\n",
    "            f.write(code)\n",
    "\n",
    "    def get_file_extension(self):\n",
    "        extensions = {\n",
    "            'go': 'go',\n",
    "            'python': 'py',\n",
    "            'awk': 'awk',\n",
    "            'zig': 'zig',\n",
    "            'ruby': 'rb',\n",
    "            'lua': 'lua',\n",
    "            'julia': 'jl',\n",
    "            'php': 'php',\n",
    "            'elixir': 'exs',\n",
    "            'perl': 'pl',\n",
    "            'crystal': 'cr',\n",
    "            'dart': 'dart',\n",
    "            'nim': 'nim',\n",
    "            'clojure': 'clj',\n",
    "            # Add more languages and their extensions as needed\n",
    "        }\n",
    "        return extensions.get(self.language, '')\n",
    "\n",
    "# Example usage and test\n",
    "def test_challenge_solver():\n",
    "    class MockLLMWrapper:\n",
    "        def generate(self, system_prompt, user_prompt):\n",
    "            return '''Here's a Python solution for the problem:\n",
    "\n",
    "```python\n",
    "#!/usr/bin/env python3\n",
    "with open('input.txt', 'r') as f:\n",
    "    data = f.read().strip()\n",
    "\n",
    "sum = 0\n",
    "for i in range(len(data)):\n",
    "    if data[i] == data[(i + 1) % len(data)]:\n",
    "        sum += int(data[i])\n",
    "\n",
    "print(sum)\n",
    "```'''\n",
    "\n",
    "    # Sample challenge data\n",
    "    challenge_data = {\n",
    "        \"name\": \"day1_part1_2017\",\n",
    "        \"task\": \"Find the sum of all digits that match the next digit in the list. The list is circular, so the digit after the last digit is the first digit in the list.\",\n",
    "        \"input\": \"1122\",\n",
    "        \"answer\": \"3\",\n",
    "        \"solution\": \"package main\\n\\nimport (\\n\\t\\\"fmt\\\"\\n\\t\\\"os\\\"\\n\\t\\\"strings\\\"\\n)\\n\\nfunc main() {\\n\\tdata, _ := os.ReadFile(\\\"input.txt\\\")\\n\\tinput := strings.TrimSpace(string(data))\\n\\tsum := 0\\n\\tfor i := 0; i < len(input); i++ {\\n\\t\\tif input[i] == input[(i+1)%len(input)] {\\n\\t\\t\\tsum += int(input[i] - '0')\\n\\t\\t}\\n\\t}\\n\\tfmt.Println(sum)\\n}\",\n",
    "        \"solution_lang\": \"go\",\n",
    "        \"year\": 2017\n",
    "    }\n",
    "\n",
    "    solver = ChallengeSolver(\"gpt-3.5-turbo\", MockLLMWrapper(), language='python')\n",
    "    \n",
    "    print(\"Testing with task description:\")\n",
    "    success, result = solver.solve(challenge_data, use_go_solution=False)\n",
    "    print(f\"Solution found: {success}\")\n",
    "    print(f\"Result: {result}\")\n",
    "\n",
    "    print(\"\\nTesting with Go solution conversion:\")\n",
    "    success, result = solver.solve(challenge_data, use_go_solution=True)\n",
    "    print(f\"Solution found: {success}\")\n",
    "    print(f\"Result: {result}\")\n",
    "\n",
    "# Run the test\n",
    "test_challenge_solver()"
   ]
  },
  {
   "cell_type": "code",
   "execution_count": 72,
   "id": "113eaa30-2b2f-495d-9422-11a1a6b0e3ab",
   "metadata": {},
   "outputs": [
    {
     "name": "stdout",
     "output_type": "stream",
     "text": [
      "Total unsolved challenges: 313\n"
     ]
    },
    {
     "name": "stderr",
     "output_type": "stream",
     "text": [
      "python(46961) MallocStackLogging: can't turn off malloc stack logging because it was not enabled.\n"
     ]
    },
    {
     "name": "stdout",
     "output_type": "stream",
     "text": [
      "Failed to find a valid solution after multiple attempts.\n",
      "Failed to solve day7_part1_2015: Failed after maximum attempts\n",
      "Progress: 0.3%\n"
     ]
    },
    {
     "name": "stderr",
     "output_type": "stream",
     "text": [
      "python(47082) MallocStackLogging: can't turn off malloc stack logging because it was not enabled.\n"
     ]
    },
    {
     "name": "stdout",
     "output_type": "stream",
     "text": [
      "Failed to find a valid solution after multiple attempts.\n",
      "Failed to solve day7_part2_2015: Failed after maximum attempts\n",
      "Progress: 0.6%\n"
     ]
    },
    {
     "name": "stderr",
     "output_type": "stream",
     "text": [
      "python(47126) MallocStackLogging: can't turn off malloc stack logging because it was not enabled.\n"
     ]
    },
    {
     "name": "stdout",
     "output_type": "stream",
     "text": [
      "Failed to find a valid solution after multiple attempts.\n",
      "Failed to solve day9_part1_2015: Failed after maximum attempts\n",
      "Progress: 1.0%\n"
     ]
    },
    {
     "name": "stderr",
     "output_type": "stream",
     "text": [
      "python(47203) MallocStackLogging: can't turn off malloc stack logging because it was not enabled.\n"
     ]
    },
    {
     "name": "stdout",
     "output_type": "stream",
     "text": [
      "736\n",
      "\n",
      "Solved day9_part2_2015 successfully!\n",
      "Progress: 1.3%\n"
     ]
    },
    {
     "name": "stderr",
     "output_type": "stream",
     "text": [
      "python(47277) MallocStackLogging: can't turn off malloc stack logging because it was not enabled.\n"
     ]
    },
    {
     "name": "stdout",
     "output_type": "stream",
     "text": [
      "Failed to find a valid solution after multiple attempts.\n",
      "Failed to solve day11_part1_2015: Failed after maximum attempts\n",
      "Progress: 1.6%\n"
     ]
    },
    {
     "name": "stderr",
     "output_type": "stream",
     "text": [
      "python(47341) MallocStackLogging: can't turn off malloc stack logging because it was not enabled.\n"
     ]
    },
    {
     "name": "stdout",
     "output_type": "stream",
     "text": [
      "Failed to find a valid solution after multiple attempts.\n",
      "Failed to solve day12_part1_2015: Failed after maximum attempts\n",
      "Progress: 1.9%\n"
     ]
    },
    {
     "name": "stderr",
     "output_type": "stream",
     "text": [
      "python(47399) MallocStackLogging: can't turn off malloc stack logging because it was not enabled.\n"
     ]
    },
    {
     "name": "stdout",
     "output_type": "stream",
     "text": [
      "Failed to find a valid solution after multiple attempts.\n",
      "Failed to solve day12_part2_2015: Failed after maximum attempts\n",
      "Progress: 2.2%\n"
     ]
    },
    {
     "name": "stderr",
     "output_type": "stream",
     "text": [
      "python(47473) MallocStackLogging: can't turn off malloc stack logging because it was not enabled.\n"
     ]
    },
    {
     "name": "stdout",
     "output_type": "stream",
     "text": [
      "Failed to find a valid solution after multiple attempts.\n",
      "Failed to solve day13_part1_2015: Failed after maximum attempts\n",
      "Progress: 2.6%\n"
     ]
    },
    {
     "name": "stderr",
     "output_type": "stream",
     "text": [
      "python(47531) MallocStackLogging: can't turn off malloc stack logging because it was not enabled.\n"
     ]
    },
    {
     "name": "stdout",
     "output_type": "stream",
     "text": [
      "Failed to find a valid solution after multiple attempts.\n",
      "Failed to solve day13_part2_2015: Failed after maximum attempts\n",
      "Progress: 2.9%\n"
     ]
    },
    {
     "name": "stderr",
     "output_type": "stream",
     "text": [
      "python(47621) MallocStackLogging: can't turn off malloc stack logging because it was not enabled.\n"
     ]
    },
    {
     "name": "stdout",
     "output_type": "stream",
     "text": [
      "Failed to find a valid solution after multiple attempts.\n",
      "Failed to solve day14_part2_2015: Failed after maximum attempts\n",
      "Progress: 3.2%\n"
     ]
    },
    {
     "name": "stderr",
     "output_type": "stream",
     "text": [
      "python(47695) MallocStackLogging: can't turn off malloc stack logging because it was not enabled.\n"
     ]
    },
    {
     "name": "stdout",
     "output_type": "stream",
     "text": [
      "Failed to find a valid solution after multiple attempts.\n",
      "Failed to solve day15_part1_2015: Failed after maximum attempts\n",
      "Progress: 3.5%\n"
     ]
    },
    {
     "name": "stderr",
     "output_type": "stream",
     "text": [
      "python(47770) MallocStackLogging: can't turn off malloc stack logging because it was not enabled.\n"
     ]
    },
    {
     "name": "stdout",
     "output_type": "stream",
     "text": [
      "Failed to find a valid solution after multiple attempts.\n",
      "Failed to solve day15_part2_2015: Failed after maximum attempts\n",
      "Progress: 3.8%\n"
     ]
    },
    {
     "name": "stderr",
     "output_type": "stream",
     "text": [
      "python(47828) MallocStackLogging: can't turn off malloc stack logging because it was not enabled.\n"
     ]
    },
    {
     "name": "stdout",
     "output_type": "stream",
     "text": [
      "Failed to find a valid solution after multiple attempts.\n",
      "Failed to solve day16_part2_2015: Failed after maximum attempts\n",
      "Progress: 4.2%\n"
     ]
    },
    {
     "name": "stderr",
     "output_type": "stream",
     "text": [
      "python(47887) MallocStackLogging: can't turn off malloc stack logging because it was not enabled.\n"
     ]
    },
    {
     "name": "stdout",
     "output_type": "stream",
     "text": [
      "814\n",
      "\n",
      "Solved day18_part1_2015 successfully!\n",
      "Progress: 4.5%\n"
     ]
    },
    {
     "name": "stderr",
     "output_type": "stream",
     "text": [
      "python(47977) MallocStackLogging: can't turn off malloc stack logging because it was not enabled.\n"
     ]
    },
    {
     "name": "stdout",
     "output_type": "stream",
     "text": [
      "Failed to find a valid solution after multiple attempts.\n",
      "Failed to solve day18_part2_2015: Failed after maximum attempts\n",
      "Progress: 4.8%\n"
     ]
    },
    {
     "name": "stderr",
     "output_type": "stream",
     "text": [
      "python(48051) MallocStackLogging: can't turn off malloc stack logging because it was not enabled.\n"
     ]
    },
    {
     "name": "stdout",
     "output_type": "stream",
     "text": [
      "Failed to find a valid solution after multiple attempts.\n",
      "Failed to solve day19_part2_2015: Failed after maximum attempts\n",
      "Progress: 5.1%\n"
     ]
    },
    {
     "name": "stderr",
     "output_type": "stream",
     "text": [
      "python(48093) MallocStackLogging: can't turn off malloc stack logging because it was not enabled.\n"
     ]
    },
    {
     "name": "stdout",
     "output_type": "stream",
     "text": [
      "Failed to find a valid solution after multiple attempts.\n",
      "Failed to solve day20_part1_2015: Failed after maximum attempts\n",
      "Progress: 5.4%\n"
     ]
    },
    {
     "name": "stderr",
     "output_type": "stream",
     "text": [
      "python(48135) MallocStackLogging: can't turn off malloc stack logging because it was not enabled.\n"
     ]
    },
    {
     "name": "stdout",
     "output_type": "stream",
     "text": [
      "Failed to find a valid solution after multiple attempts.\n",
      "Failed to solve day20_part2_2015: Failed after maximum attempts\n",
      "Progress: 5.8%\n"
     ]
    },
    {
     "name": "stderr",
     "output_type": "stream",
     "text": [
      "python(48225) MallocStackLogging: can't turn off malloc stack logging because it was not enabled.\n"
     ]
    },
    {
     "name": "stdout",
     "output_type": "stream",
     "text": [
      "Failed to find a valid solution after multiple attempts.\n",
      "Failed to solve day21_part1_2015: Failed after maximum attempts\n",
      "Progress: 6.1%\n"
     ]
    },
    {
     "name": "stderr",
     "output_type": "stream",
     "text": [
      "python(48317) MallocStackLogging: can't turn off malloc stack logging because it was not enabled.\n"
     ]
    },
    {
     "name": "stdout",
     "output_type": "stream",
     "text": [
      "Failed to find a valid solution after multiple attempts.\n",
      "Failed to solve day22_part1_2015: Failed after maximum attempts\n",
      "Progress: 6.4%\n"
     ]
    },
    {
     "name": "stderr",
     "output_type": "stream",
     "text": [
      "python(48455) MallocStackLogging: can't turn off malloc stack logging because it was not enabled.\n"
     ]
    },
    {
     "name": "stdout",
     "output_type": "stream",
     "text": [
      "Failed to find a valid solution after multiple attempts.\n",
      "Failed to solve day22_part2_2015: Failed after maximum attempts\n",
      "Progress: 6.7%\n"
     ]
    },
    {
     "name": "stderr",
     "output_type": "stream",
     "text": [
      "python(48513) MallocStackLogging: can't turn off malloc stack logging because it was not enabled.\n"
     ]
    },
    {
     "name": "stdout",
     "output_type": "stream",
     "text": [
      "Failed to find a valid solution after multiple attempts.\n",
      "Failed to solve day23_part1_2015: Failed after maximum attempts\n",
      "Progress: 7.0%\n"
     ]
    },
    {
     "name": "stderr",
     "output_type": "stream",
     "text": [
      "python(48571) MallocStackLogging: can't turn off malloc stack logging because it was not enabled.\n"
     ]
    },
    {
     "name": "stdout",
     "output_type": "stream",
     "text": [
      "Failed to find a valid solution after multiple attempts.\n",
      "Failed to solve day23_part2_2015: Failed after maximum attempts\n",
      "Progress: 7.3%\n"
     ]
    },
    {
     "name": "stderr",
     "output_type": "stream",
     "text": [
      "python(48629) MallocStackLogging: can't turn off malloc stack logging because it was not enabled.\n"
     ]
    },
    {
     "name": "stdout",
     "output_type": "stream",
     "text": [
      "Failed to find a valid solution after multiple attempts.\n",
      "Failed to solve day24_part1_2015: Failed after maximum attempts\n",
      "Progress: 7.7%\n"
     ]
    },
    {
     "name": "stderr",
     "output_type": "stream",
     "text": [
      "python(48703) MallocStackLogging: can't turn off malloc stack logging because it was not enabled.\n"
     ]
    },
    {
     "name": "stdout",
     "output_type": "stream",
     "text": [
      "Failed to find a valid solution after multiple attempts.\n",
      "Failed to solve day24_part2_2015: Failed after maximum attempts\n",
      "Progress: 8.0%\n"
     ]
    },
    {
     "name": "stderr",
     "output_type": "stream",
     "text": [
      "python(48747) MallocStackLogging: can't turn off malloc stack logging because it was not enabled.\n"
     ]
    },
    {
     "name": "stdout",
     "output_type": "stream",
     "text": [
      "Failed to find a valid solution after multiple attempts.\n",
      "Failed to solve day25_part1_2015: Failed after maximum attempts\n",
      "Progress: 8.3%\n"
     ]
    },
    {
     "name": "stderr",
     "output_type": "stream",
     "text": [
      "python(48809) MallocStackLogging: can't turn off malloc stack logging because it was not enabled.\n"
     ]
    },
    {
     "name": "stdout",
     "output_type": "stream",
     "text": [
      "Failed to find a valid solution after multiple attempts.\n",
      "Failed to solve day1_part1_2016: Failed after maximum attempts\n",
      "Progress: 8.6%\n"
     ]
    },
    {
     "name": "stderr",
     "output_type": "stream",
     "text": [
      "python(48886) MallocStackLogging: can't turn off malloc stack logging because it was not enabled.\n"
     ]
    },
    {
     "name": "stdout",
     "output_type": "stream",
     "text": [
      "Failed to find a valid solution after multiple attempts.\n",
      "Failed to solve day1_part2_2016: Failed after maximum attempts\n",
      "Progress: 8.9%\n"
     ]
    },
    {
     "name": "stderr",
     "output_type": "stream",
     "text": [
      "python(48944) MallocStackLogging: can't turn off malloc stack logging because it was not enabled.\n"
     ]
    },
    {
     "name": "stdout",
     "output_type": "stream",
     "text": [
      "516DD\n",
      "\n",
      "Solved day2_part2_2016 successfully!\n",
      "Progress: 9.3%\n"
     ]
    },
    {
     "name": "stderr",
     "output_type": "stream",
     "text": [
      "python(48986) MallocStackLogging: can't turn off malloc stack logging because it was not enabled.\n"
     ]
    },
    {
     "name": "stdout",
     "output_type": "stream",
     "text": [
      "Failed to find a valid solution after multiple attempts.\n",
      "Failed to solve day3_part1_2016: Failed after maximum attempts\n",
      "Progress: 9.6%\n"
     ]
    },
    {
     "name": "stderr",
     "output_type": "stream",
     "text": [
      "python(49028) MallocStackLogging: can't turn off malloc stack logging because it was not enabled.\n"
     ]
    },
    {
     "name": "stdout",
     "output_type": "stream",
     "text": [
      "Failed to find a valid solution after multiple attempts.\n",
      "Failed to solve day3_part2_2016: Failed after maximum attempts\n",
      "Progress: 9.9%\n"
     ]
    },
    {
     "name": "stderr",
     "output_type": "stream",
     "text": [
      "python(49102) MallocStackLogging: can't turn off malloc stack logging because it was not enabled.\n"
     ]
    },
    {
     "name": "stdout",
     "output_type": "stream",
     "text": [
      "Failed to find a valid solution after multiple attempts.\n",
      "Failed to solve day4_part2_2016: Failed after maximum attempts\n",
      "Progress: 10.2%\n"
     ]
    },
    {
     "name": "stderr",
     "output_type": "stream",
     "text": [
      "python(49144) MallocStackLogging: can't turn off malloc stack logging because it was not enabled.\n"
     ]
    },
    {
     "name": "stdout",
     "output_type": "stream",
     "text": [
      "Failed to find a valid solution after multiple attempts.\n",
      "Failed to solve day5_part1_2016: Failed after maximum attempts\n",
      "Progress: 10.5%\n"
     ]
    },
    {
     "name": "stderr",
     "output_type": "stream",
     "text": [
      "python(49202) MallocStackLogging: can't turn off malloc stack logging because it was not enabled.\n"
     ]
    },
    {
     "name": "stdout",
     "output_type": "stream",
     "text": [
      "Failed to find a valid solution after multiple attempts.\n",
      "Failed to solve day5_part2_2016: Failed after maximum attempts\n",
      "Progress: 10.9%\n"
     ]
    },
    {
     "name": "stderr",
     "output_type": "stream",
     "text": [
      "python(49279) MallocStackLogging: can't turn off malloc stack logging because it was not enabled.\n"
     ]
    },
    {
     "name": "stdout",
     "output_type": "stream",
     "text": [
      "Failed to find a valid solution after multiple attempts.\n",
      "Failed to solve day8_part2_2016: Failed after maximum attempts\n",
      "Progress: 11.2%\n"
     ]
    },
    {
     "name": "stderr",
     "output_type": "stream",
     "text": [
      "python(49412) MallocStackLogging: can't turn off malloc stack logging because it was not enabled.\n"
     ]
    },
    {
     "name": "stdout",
     "output_type": "stream",
     "text": [
      "Failed to find a valid solution after multiple attempts.\n",
      "Failed to solve day9_part1_2016: Failed after maximum attempts\n",
      "Progress: 11.5%\n"
     ]
    },
    {
     "name": "stderr",
     "output_type": "stream",
     "text": [
      "python(49454) MallocStackLogging: can't turn off malloc stack logging because it was not enabled.\n"
     ]
    },
    {
     "name": "stdout",
     "output_type": "stream",
     "text": [
      "Failed to find a valid solution after multiple attempts.\n",
      "Failed to solve day9_part2_2016: Failed after maximum attempts\n",
      "Progress: 11.8%\n"
     ]
    },
    {
     "name": "stderr",
     "output_type": "stream",
     "text": [
      "python(49529) MallocStackLogging: can't turn off malloc stack logging because it was not enabled.\n"
     ]
    },
    {
     "name": "stdout",
     "output_type": "stream",
     "text": [
      "Failed to find a valid solution after multiple attempts.\n",
      "Failed to solve day10_part2_2016: Failed after maximum attempts\n",
      "Progress: 12.1%\n"
     ]
    },
    {
     "name": "stderr",
     "output_type": "stream",
     "text": [
      "python(49651) MallocStackLogging: can't turn off malloc stack logging because it was not enabled.\n"
     ]
    },
    {
     "name": "stdout",
     "output_type": "stream",
     "text": [
      "Failed to find a valid solution after multiple attempts.\n",
      "Failed to solve day11_part1_2016: Failed after maximum attempts\n",
      "Progress: 12.5%\n"
     ]
    },
    {
     "name": "stderr",
     "output_type": "stream",
     "text": [
      "python(49726) MallocStackLogging: can't turn off malloc stack logging because it was not enabled.\n"
     ]
    },
    {
     "name": "stdout",
     "output_type": "stream",
     "text": [
      "Failed to find a valid solution after multiple attempts.\n",
      "Failed to solve day12_part2_2016: Failed after maximum attempts\n",
      "Progress: 12.8%\n"
     ]
    },
    {
     "name": "stderr",
     "output_type": "stream",
     "text": [
      "python(49787) MallocStackLogging: can't turn off malloc stack logging because it was not enabled.\n"
     ]
    },
    {
     "name": "stdout",
     "output_type": "stream",
     "text": [
      "Failed to find a valid solution after multiple attempts.\n",
      "Failed to solve day13_part1_2016: Failed after maximum attempts\n",
      "Progress: 13.1%\n"
     ]
    },
    {
     "name": "stderr",
     "output_type": "stream",
     "text": [
      "python(49860) MallocStackLogging: can't turn off malloc stack logging because it was not enabled.\n"
     ]
    },
    {
     "name": "stdout",
     "output_type": "stream",
     "text": [
      "Failed to find a valid solution after multiple attempts.\n",
      "Failed to solve day13_part2_2016: Failed after maximum attempts\n",
      "Progress: 13.4%\n"
     ]
    },
    {
     "name": "stderr",
     "output_type": "stream",
     "text": [
      "python(49918) MallocStackLogging: can't turn off malloc stack logging because it was not enabled.\n"
     ]
    },
    {
     "name": "stdout",
     "output_type": "stream",
     "text": [
      "Failed to find a valid solution after multiple attempts.\n",
      "Failed to solve day14_part1_2016: Failed after maximum attempts\n",
      "Progress: 13.7%\n"
     ]
    },
    {
     "name": "stderr",
     "output_type": "stream",
     "text": [
      "python(49976) MallocStackLogging: can't turn off malloc stack logging because it was not enabled.\n"
     ]
    },
    {
     "name": "stdout",
     "output_type": "stream",
     "text": [
      "Failed to find a valid solution after multiple attempts.\n",
      "Failed to solve day14_part2_2016: Failed after maximum attempts\n",
      "Progress: 14.1%\n"
     ]
    },
    {
     "name": "stderr",
     "output_type": "stream",
     "text": [
      "python(50019) MallocStackLogging: can't turn off malloc stack logging because it was not enabled.\n"
     ]
    },
    {
     "name": "stdout",
     "output_type": "stream",
     "text": [
      "Failed to find a valid solution after multiple attempts.\n",
      "Failed to solve day15_part2_2016: Failed after maximum attempts\n",
      "Progress: 14.4%\n"
     ]
    },
    {
     "name": "stderr",
     "output_type": "stream",
     "text": [
      "python(50141) MallocStackLogging: can't turn off malloc stack logging because it was not enabled.\n"
     ]
    },
    {
     "name": "stdout",
     "output_type": "stream",
     "text": [
      "Failed to find a valid solution after multiple attempts.\n",
      "Failed to solve day17_part1_2016: Failed after maximum attempts\n",
      "Progress: 14.7%\n"
     ]
    },
    {
     "name": "stderr",
     "output_type": "stream",
     "text": [
      "python(50199) MallocStackLogging: can't turn off malloc stack logging because it was not enabled.\n"
     ]
    },
    {
     "name": "stdout",
     "output_type": "stream",
     "text": [
      "Failed to find a valid solution after multiple attempts.\n",
      "Failed to solve day17_part2_2016: Failed after maximum attempts\n",
      "Progress: 15.0%\n"
     ]
    },
    {
     "name": "stderr",
     "output_type": "stream",
     "text": [
      "python(50257) MallocStackLogging: can't turn off malloc stack logging because it was not enabled.\n"
     ]
    },
    {
     "name": "stdout",
     "output_type": "stream",
     "text": [
      "Failed to find a valid solution after multiple attempts.\n",
      "Failed to solve day18_part1_2016: Failed after maximum attempts\n",
      "Progress: 15.3%\n"
     ]
    },
    {
     "name": "stderr",
     "output_type": "stream",
     "text": [
      "python(50315) MallocStackLogging: can't turn off malloc stack logging because it was not enabled.\n"
     ]
    },
    {
     "name": "stdout",
     "output_type": "stream",
     "text": [
      "Execution timed out after 40 seconds.\n",
      "Failed to solve day19_part2_2016: Failed after maximum attempts\n",
      "Progress: 15.7%\n"
     ]
    },
    {
     "name": "stderr",
     "output_type": "stream",
     "text": [
      "python(50678) MallocStackLogging: can't turn off malloc stack logging because it was not enabled.\n"
     ]
    },
    {
     "name": "stdout",
     "output_type": "stream",
     "text": [
      "Failed to find a valid solution after multiple attempts.\n",
      "Failed to solve day20_part1_2016: Failed after maximum attempts\n",
      "Progress: 16.0%\n"
     ]
    },
    {
     "name": "stderr",
     "output_type": "stream",
     "text": [
      "python(50754) MallocStackLogging: can't turn off malloc stack logging because it was not enabled.\n"
     ]
    },
    {
     "name": "stdout",
     "output_type": "stream",
     "text": [
      "Failed to find a valid solution after multiple attempts.\n",
      "Failed to solve day21_part1_2016: Failed after maximum attempts\n",
      "Progress: 16.3%\n"
     ]
    },
    {
     "name": "stderr",
     "output_type": "stream",
     "text": [
      "python(50876) MallocStackLogging: can't turn off malloc stack logging because it was not enabled.\n"
     ]
    },
    {
     "name": "stdout",
     "output_type": "stream",
     "text": [
      "Failed to find a valid solution after multiple attempts.\n",
      "Failed to solve day21_part2_2016: Failed after maximum attempts\n",
      "Progress: 16.6%\n"
     ]
    },
    {
     "name": "stderr",
     "output_type": "stream",
     "text": [
      "python(50934) MallocStackLogging: can't turn off malloc stack logging because it was not enabled.\n"
     ]
    },
    {
     "name": "stdout",
     "output_type": "stream",
     "text": [
      "Failed to find a valid solution after multiple attempts.\n",
      "Failed to solve day22_part1_2016: Failed after maximum attempts\n",
      "Progress: 16.9%\n"
     ]
    },
    {
     "name": "stderr",
     "output_type": "stream",
     "text": [
      "python(51008) MallocStackLogging: can't turn off malloc stack logging because it was not enabled.\n"
     ]
    },
    {
     "name": "stdout",
     "output_type": "stream",
     "text": [
      "Failed to find a valid solution after multiple attempts.\n",
      "Failed to solve day22_part2_2016: Failed after maximum attempts\n",
      "Progress: 17.3%\n"
     ]
    },
    {
     "name": "stderr",
     "output_type": "stream",
     "text": [
      "python(51083) MallocStackLogging: can't turn off malloc stack logging because it was not enabled.\n"
     ]
    },
    {
     "name": "stdout",
     "output_type": "stream",
     "text": [
      "Failed to find a valid solution after multiple attempts.\n",
      "Failed to solve day23_part1_2016: Failed after maximum attempts\n",
      "Progress: 17.6%\n"
     ]
    },
    {
     "name": "stderr",
     "output_type": "stream",
     "text": [
      "python(51141) MallocStackLogging: can't turn off malloc stack logging because it was not enabled.\n"
     ]
    },
    {
     "name": "stdout",
     "output_type": "stream",
     "text": [
      "Failed to find a valid solution after multiple attempts.\n",
      "Failed to solve day23_part2_2016: Failed after maximum attempts\n",
      "Progress: 17.9%\n"
     ]
    },
    {
     "name": "stderr",
     "output_type": "stream",
     "text": [
      "python(51215) MallocStackLogging: can't turn off malloc stack logging because it was not enabled.\n"
     ]
    },
    {
     "name": "stdout",
     "output_type": "stream",
     "text": [
      "Failed to find a valid solution after multiple attempts.\n",
      "Failed to solve day24_part1_2016: Failed after maximum attempts\n",
      "Progress: 18.2%\n"
     ]
    },
    {
     "name": "stderr",
     "output_type": "stream",
     "text": [
      "python(51305) MallocStackLogging: can't turn off malloc stack logging because it was not enabled.\n"
     ]
    },
    {
     "name": "stdout",
     "output_type": "stream",
     "text": [
      "Failed to find a valid solution after multiple attempts.\n",
      "Failed to solve day24_part2_2016: Failed after maximum attempts\n",
      "Progress: 18.5%\n"
     ]
    },
    {
     "name": "stderr",
     "output_type": "stream",
     "text": [
      "python(51363) MallocStackLogging: can't turn off malloc stack logging because it was not enabled.\n"
     ]
    },
    {
     "name": "stdout",
     "output_type": "stream",
     "text": [
      "Failed to find a valid solution after multiple attempts.\n",
      "Failed to solve day3_part2_2017: Failed after maximum attempts\n",
      "Progress: 18.8%\n"
     ]
    },
    {
     "name": "stderr",
     "output_type": "stream",
     "text": [
      "python(51433) MallocStackLogging: can't turn off malloc stack logging because it was not enabled.\n"
     ]
    },
    {
     "name": "stdout",
     "output_type": "stream",
     "text": [
      "Failed to find a valid solution after multiple attempts.\n",
      "Failed to solve day6_part1_2017: Failed after maximum attempts\n",
      "Progress: 19.2%\n"
     ]
    },
    {
     "name": "stderr",
     "output_type": "stream",
     "text": [
      "python(51492) MallocStackLogging: can't turn off malloc stack logging because it was not enabled.\n"
     ]
    },
    {
     "name": "stdout",
     "output_type": "stream",
     "text": [
      "Failed to find a valid solution after multiple attempts.\n",
      "Failed to solve day6_part2_2017: Failed after maximum attempts\n",
      "Progress: 19.5%\n"
     ]
    },
    {
     "name": "stderr",
     "output_type": "stream",
     "text": [
      "python(51545) MallocStackLogging: can't turn off malloc stack logging because it was not enabled.\n"
     ]
    },
    {
     "name": "stdout",
     "output_type": "stream",
     "text": [
      "Failed to find a valid solution after multiple attempts.\n",
      "Failed to solve day7_part2_2017: Failed after maximum attempts\n",
      "Progress: 19.8%\n"
     ]
    },
    {
     "name": "stderr",
     "output_type": "stream",
     "text": [
      "python(51619) MallocStackLogging: can't turn off malloc stack logging because it was not enabled.\n"
     ]
    },
    {
     "name": "stdout",
     "output_type": "stream",
     "text": [
      "6611\n",
      "\n",
      "Solved day8_part1_2017 successfully!\n",
      "Progress: 20.1%\n"
     ]
    },
    {
     "name": "stderr",
     "output_type": "stream",
     "text": [
      "python(51693) MallocStackLogging: can't turn off malloc stack logging because it was not enabled.\n"
     ]
    },
    {
     "name": "stdout",
     "output_type": "stream",
     "text": [
      "Failed to find a valid solution after multiple attempts.\n",
      "Failed to solve day9_part2_2017: Failed after maximum attempts\n",
      "Progress: 20.4%\n"
     ]
    },
    {
     "name": "stderr",
     "output_type": "stream",
     "text": [
      "python(51753) MallocStackLogging: can't turn off malloc stack logging because it was not enabled.\n"
     ]
    },
    {
     "name": "stdout",
     "output_type": "stream",
     "text": [
      "Failed to find a valid solution after multiple attempts.\n",
      "Failed to solve day10_part2_2017: Failed after maximum attempts\n",
      "Progress: 20.8%\n"
     ]
    },
    {
     "name": "stderr",
     "output_type": "stream",
     "text": [
      "python(51811) MallocStackLogging: can't turn off malloc stack logging because it was not enabled.\n"
     ]
    },
    {
     "name": "stdout",
     "output_type": "stream",
     "text": [
      "Failed to find a valid solution after multiple attempts.\n",
      "Failed to solve day11_part1_2017: Failed after maximum attempts\n",
      "Progress: 21.1%\n"
     ]
    },
    {
     "name": "stderr",
     "output_type": "stream",
     "text": [
      "python(51853) MallocStackLogging: can't turn off malloc stack logging because it was not enabled.\n"
     ]
    },
    {
     "name": "stdout",
     "output_type": "stream",
     "text": [
      "Failed to find a valid solution after multiple attempts.\n",
      "Failed to solve day11_part2_2017: Failed after maximum attempts\n",
      "Progress: 21.4%\n"
     ]
    },
    {
     "name": "stderr",
     "output_type": "stream",
     "text": [
      "python(51913) MallocStackLogging: can't turn off malloc stack logging because it was not enabled.\n"
     ]
    },
    {
     "name": "stdout",
     "output_type": "stream",
     "text": [
      "Failed to find a valid solution after multiple attempts.\n",
      "Failed to solve day12_part2_2017: Failed after maximum attempts\n",
      "Progress: 21.7%\n"
     ]
    },
    {
     "name": "stderr",
     "output_type": "stream",
     "text": [
      "python(52004) MallocStackLogging: can't turn off malloc stack logging because it was not enabled.\n"
     ]
    },
    {
     "name": "stdout",
     "output_type": "stream",
     "text": [
      "Failed to find a valid solution after multiple attempts.\n",
      "Failed to solve day14_part1_2017: Failed after maximum attempts\n",
      "Progress: 22.0%\n"
     ]
    },
    {
     "name": "stderr",
     "output_type": "stream",
     "text": [
      "python(52085) MallocStackLogging: can't turn off malloc stack logging because it was not enabled.\n"
     ]
    },
    {
     "name": "stdout",
     "output_type": "stream",
     "text": [
      "Failed to find a valid solution after multiple attempts.\n",
      "Failed to solve day14_part2_2017: Failed after maximum attempts\n",
      "Progress: 22.4%\n"
     ]
    },
    {
     "name": "stderr",
     "output_type": "stream",
     "text": [
      "python(52161) MallocStackLogging: can't turn off malloc stack logging because it was not enabled.\n"
     ]
    },
    {
     "name": "stdout",
     "output_type": "stream",
     "text": [
      "Failed to find a valid solution after multiple attempts.\n",
      "Failed to solve day15_part2_2017: Failed after maximum attempts\n",
      "Progress: 22.7%\n"
     ]
    },
    {
     "name": "stderr",
     "output_type": "stream",
     "text": [
      "python(52236) MallocStackLogging: can't turn off malloc stack logging because it was not enabled.\n"
     ]
    },
    {
     "name": "stdout",
     "output_type": "stream",
     "text": [
      "Failed to find a valid solution after multiple attempts.\n",
      "Failed to solve day16_part1_2017: Failed after maximum attempts\n",
      "Progress: 23.0%\n"
     ]
    },
    {
     "name": "stderr",
     "output_type": "stream",
     "text": [
      "python(52294) MallocStackLogging: can't turn off malloc stack logging because it was not enabled.\n"
     ]
    },
    {
     "name": "stdout",
     "output_type": "stream",
     "text": [
      "Failed to find a valid solution after multiple attempts.\n",
      "Failed to solve day16_part2_2017: Failed after maximum attempts\n",
      "Progress: 23.3%\n"
     ]
    },
    {
     "name": "stderr",
     "output_type": "stream",
     "text": [
      "python(52337) MallocStackLogging: can't turn off malloc stack logging because it was not enabled.\n"
     ]
    },
    {
     "name": "stdout",
     "output_type": "stream",
     "text": [
      "Failed to find a valid solution after multiple attempts.\n",
      "Failed to solve day17_part1_2017: Failed after maximum attempts\n",
      "Progress: 23.6%\n"
     ]
    },
    {
     "name": "stderr",
     "output_type": "stream",
     "text": [
      "python(52396) MallocStackLogging: can't turn off malloc stack logging because it was not enabled.\n"
     ]
    },
    {
     "name": "stdout",
     "output_type": "stream",
     "text": [
      "Failed to find a valid solution after multiple attempts.\n",
      "Failed to solve day18_part1_2017: Failed after maximum attempts\n",
      "Progress: 24.0%\n"
     ]
    },
    {
     "name": "stderr",
     "output_type": "stream",
     "text": [
      "python(52486) MallocStackLogging: can't turn off malloc stack logging because it was not enabled.\n"
     ]
    },
    {
     "name": "stdout",
     "output_type": "stream",
     "text": [
      "Execution timed out after 40 seconds.\n",
      "Failed to solve day18_part2_2017: Failed after maximum attempts\n",
      "Progress: 24.3%\n"
     ]
    },
    {
     "name": "stderr",
     "output_type": "stream",
     "text": [
      "python(52784) MallocStackLogging: can't turn off malloc stack logging because it was not enabled.\n"
     ]
    },
    {
     "name": "stdout",
     "output_type": "stream",
     "text": [
      "Failed to find a valid solution after multiple attempts.\n",
      "Failed to solve day19_part1_2017: Failed after maximum attempts\n",
      "Progress: 24.6%\n"
     ]
    },
    {
     "name": "stderr",
     "output_type": "stream",
     "text": [
      "python(52874) MallocStackLogging: can't turn off malloc stack logging because it was not enabled.\n"
     ]
    },
    {
     "name": "stdout",
     "output_type": "stream",
     "text": [
      "Failed to find a valid solution after multiple attempts.\n",
      "Failed to solve day19_part2_2017: Failed after maximum attempts\n",
      "Progress: 24.9%\n"
     ]
    },
    {
     "name": "stderr",
     "output_type": "stream",
     "text": [
      "python(52916) MallocStackLogging: can't turn off malloc stack logging because it was not enabled.\n"
     ]
    },
    {
     "name": "stdout",
     "output_type": "stream",
     "text": [
      "Failed to find a valid solution after multiple attempts.\n",
      "Failed to solve day20_part1_2017: Failed after maximum attempts\n",
      "Progress: 25.2%\n"
     ]
    },
    {
     "name": "stderr",
     "output_type": "stream",
     "text": [
      "python(52990) MallocStackLogging: can't turn off malloc stack logging because it was not enabled.\n"
     ]
    },
    {
     "name": "stdout",
     "output_type": "stream",
     "text": [
      "Failed to find a valid solution after multiple attempts.\n",
      "Failed to solve day20_part2_2017: Failed after maximum attempts\n",
      "Progress: 25.6%\n"
     ]
    },
    {
     "name": "stderr",
     "output_type": "stream",
     "text": [
      "python(53080) MallocStackLogging: can't turn off malloc stack logging because it was not enabled.\n"
     ]
    },
    {
     "name": "stdout",
     "output_type": "stream",
     "text": [
      "Failed to find a valid solution after multiple attempts.\n",
      "Failed to solve day21_part1_2017: Failed after maximum attempts\n",
      "Progress: 25.9%\n"
     ]
    },
    {
     "name": "stderr",
     "output_type": "stream",
     "text": [
      "python(53154) MallocStackLogging: can't turn off malloc stack logging because it was not enabled.\n"
     ]
    },
    {
     "name": "stdout",
     "output_type": "stream",
     "text": [
      "Failed to find a valid solution after multiple attempts.\n",
      "Failed to solve day21_part2_2017: Failed after maximum attempts\n",
      "Progress: 26.2%\n"
     ]
    },
    {
     "name": "stderr",
     "output_type": "stream",
     "text": [
      "python(53212) MallocStackLogging: can't turn off malloc stack logging because it was not enabled.\n"
     ]
    },
    {
     "name": "stdout",
     "output_type": "stream",
     "text": [
      "Failed to find a valid solution after multiple attempts.\n",
      "Failed to solve day22_part1_2017: Failed after maximum attempts\n",
      "Progress: 26.5%\n"
     ]
    },
    {
     "name": "stderr",
     "output_type": "stream",
     "text": [
      "python(53286) MallocStackLogging: can't turn off malloc stack logging because it was not enabled.\n"
     ]
    },
    {
     "name": "stdout",
     "output_type": "stream",
     "text": [
      "Failed to find a valid solution after multiple attempts.\n",
      "Failed to solve day22_part2_2017: Failed after maximum attempts\n",
      "Progress: 26.8%\n"
     ]
    },
    {
     "name": "stderr",
     "output_type": "stream",
     "text": [
      "python(53344) MallocStackLogging: can't turn off malloc stack logging because it was not enabled.\n"
     ]
    },
    {
     "name": "stdout",
     "output_type": "stream",
     "text": [
      "Failed to find a valid solution after multiple attempts.\n",
      "Failed to solve day23_part1_2017: Failed after maximum attempts\n",
      "Progress: 27.2%\n"
     ]
    },
    {
     "name": "stderr",
     "output_type": "stream",
     "text": [
      "python(53423) MallocStackLogging: can't turn off malloc stack logging because it was not enabled.\n"
     ]
    },
    {
     "name": "stdout",
     "output_type": "stream",
     "text": [
      "Failed to find a valid solution after multiple attempts.\n",
      "Failed to solve day24_part2_2017: Failed after maximum attempts\n",
      "Progress: 27.5%\n"
     ]
    },
    {
     "name": "stderr",
     "output_type": "stream",
     "text": [
      "python(53497) MallocStackLogging: can't turn off malloc stack logging because it was not enabled.\n"
     ]
    },
    {
     "name": "stdout",
     "output_type": "stream",
     "text": [
      "Failed to find a valid solution after multiple attempts.\n",
      "Failed to solve day25_part1_2017: Failed after maximum attempts\n",
      "Progress: 27.8%\n"
     ]
    },
    {
     "name": "stderr",
     "output_type": "stream",
     "text": [
      "python(53571) MallocStackLogging: can't turn off malloc stack logging because it was not enabled.\n"
     ]
    },
    {
     "name": "stdout",
     "output_type": "stream",
     "text": [
      "Failed to find a valid solution after multiple attempts.\n",
      "Failed to solve day3_part2_2018: Failed after maximum attempts\n",
      "Progress: 28.1%\n"
     ]
    },
    {
     "name": "stderr",
     "output_type": "stream",
     "text": [
      "python(53645) MallocStackLogging: can't turn off malloc stack logging because it was not enabled.\n"
     ]
    },
    {
     "name": "stdout",
     "output_type": "stream",
     "text": [
      "Failed to find a valid solution after multiple attempts.\n",
      "Failed to solve day4_part1_2018: Failed after maximum attempts\n",
      "Progress: 28.4%\n"
     ]
    },
    {
     "name": "stderr",
     "output_type": "stream",
     "text": [
      "python(53735) MallocStackLogging: can't turn off malloc stack logging because it was not enabled.\n"
     ]
    },
    {
     "name": "stdout",
     "output_type": "stream",
     "text": [
      "Failed to find a valid solution after multiple attempts.\n",
      "Failed to solve day4_part2_2018: Failed after maximum attempts\n",
      "Progress: 28.8%\n"
     ]
    },
    {
     "name": "stderr",
     "output_type": "stream",
     "text": [
      "python(53777) MallocStackLogging: can't turn off malloc stack logging because it was not enabled.\n"
     ]
    },
    {
     "name": "stdout",
     "output_type": "stream",
     "text": [
      "Execution timed out after 40 seconds.\n",
      "Failed to solve day5_part1_2018: Failed after maximum attempts\n",
      "Progress: 29.1%\n"
     ]
    },
    {
     "name": "stderr",
     "output_type": "stream",
     "text": [
      "python(54141) MallocStackLogging: can't turn off malloc stack logging because it was not enabled.\n"
     ]
    },
    {
     "name": "stdout",
     "output_type": "stream",
     "text": [
      "Failed to find a valid solution after multiple attempts.\n",
      "Failed to solve day6_part1_2018: Failed after maximum attempts\n",
      "Progress: 29.4%\n"
     ]
    },
    {
     "name": "stderr",
     "output_type": "stream",
     "text": [
      "python(54199) MallocStackLogging: can't turn off malloc stack logging because it was not enabled.\n"
     ]
    },
    {
     "name": "stdout",
     "output_type": "stream",
     "text": [
      "Failed to find a valid solution after multiple attempts.\n",
      "Failed to solve day6_part2_2018: Failed after maximum attempts\n",
      "Progress: 29.7%\n"
     ]
    },
    {
     "name": "stderr",
     "output_type": "stream",
     "text": [
      "python(54257) MallocStackLogging: can't turn off malloc stack logging because it was not enabled.\n"
     ]
    },
    {
     "name": "stdout",
     "output_type": "stream",
     "text": [
      "Failed to find a valid solution after multiple attempts.\n",
      "Failed to solve day7_part1_2018: Failed after maximum attempts\n",
      "Progress: 30.0%\n"
     ]
    },
    {
     "name": "stderr",
     "output_type": "stream",
     "text": [
      "python(54332) MallocStackLogging: can't turn off malloc stack logging because it was not enabled.\n"
     ]
    },
    {
     "name": "stdout",
     "output_type": "stream",
     "text": [
      "Failed to find a valid solution after multiple attempts.\n",
      "Failed to solve day7_part2_2018: Failed after maximum attempts\n",
      "Progress: 30.4%\n"
     ]
    },
    {
     "name": "stderr",
     "output_type": "stream",
     "text": [
      "python(54390) MallocStackLogging: can't turn off malloc stack logging because it was not enabled.\n"
     ]
    },
    {
     "name": "stdout",
     "output_type": "stream",
     "text": [
      "Failed to find a valid solution after multiple attempts.\n",
      "Failed to solve day8_part2_2018: Failed after maximum attempts\n",
      "Progress: 30.7%\n"
     ]
    },
    {
     "name": "stderr",
     "output_type": "stream",
     "text": [
      "python(54449) MallocStackLogging: can't turn off malloc stack logging because it was not enabled.\n"
     ]
    },
    {
     "name": "stdout",
     "output_type": "stream",
     "text": [
      "Failed to find a valid solution after multiple attempts.\n",
      "Failed to solve day9_part1_2018: Failed after maximum attempts\n",
      "Progress: 31.0%\n"
     ]
    },
    {
     "name": "stderr",
     "output_type": "stream",
     "text": [
      "python(54524) MallocStackLogging: can't turn off malloc stack logging because it was not enabled.\n"
     ]
    },
    {
     "name": "stdout",
     "output_type": "stream",
     "text": [
      "Failed to find a valid solution after multiple attempts.\n",
      "Failed to solve day9_part2_2018: Failed after maximum attempts\n",
      "Progress: 31.3%\n"
     ]
    },
    {
     "name": "stderr",
     "output_type": "stream",
     "text": [
      "python(54618) MallocStackLogging: can't turn off malloc stack logging because it was not enabled.\n"
     ]
    },
    {
     "name": "stdout",
     "output_type": "stream",
     "text": [
      "Failed to find a valid solution after multiple attempts.\n",
      "Failed to solve day10_part1_2018: Failed after maximum attempts\n",
      "Progress: 31.6%\n"
     ]
    },
    {
     "name": "stderr",
     "output_type": "stream",
     "text": [
      "python(54772) MallocStackLogging: can't turn off malloc stack logging because it was not enabled.\n"
     ]
    },
    {
     "name": "stdout",
     "output_type": "stream",
     "text": [
      "Failed to find a valid solution after multiple attempts.\n",
      "Failed to solve day10_part2_2018: Failed after maximum attempts\n",
      "Progress: 31.9%\n"
     ]
    },
    {
     "name": "stderr",
     "output_type": "stream",
     "text": [
      "python(54830) MallocStackLogging: can't turn off malloc stack logging because it was not enabled.\n"
     ]
    },
    {
     "name": "stdout",
     "output_type": "stream",
     "text": [
      "Failed to find a valid solution after multiple attempts.\n",
      "Failed to solve day11_part2_2018: Failed after maximum attempts\n",
      "Progress: 32.3%\n"
     ]
    },
    {
     "name": "stderr",
     "output_type": "stream",
     "text": [
      "python(54904) MallocStackLogging: can't turn off malloc stack logging because it was not enabled.\n"
     ]
    },
    {
     "name": "stdout",
     "output_type": "stream",
     "text": [
      "Failed to find a valid solution after multiple attempts.\n",
      "Failed to solve day12_part1_2018: Failed after maximum attempts\n",
      "Progress: 32.6%\n"
     ]
    },
    {
     "name": "stderr",
     "output_type": "stream",
     "text": [
      "python(54978) MallocStackLogging: can't turn off malloc stack logging because it was not enabled.\n"
     ]
    },
    {
     "name": "stdout",
     "output_type": "stream",
     "text": [
      "Failed to find a valid solution after multiple attempts.\n",
      "Failed to solve day12_part2_2018: Failed after maximum attempts\n",
      "Progress: 32.9%\n"
     ]
    },
    {
     "name": "stderr",
     "output_type": "stream",
     "text": [
      "python(55052) MallocStackLogging: can't turn off malloc stack logging because it was not enabled.\n"
     ]
    },
    {
     "name": "stdout",
     "output_type": "stream",
     "text": [
      "Execution timed out after 40 seconds.\n",
      "Failed to solve day13_part1_2018: Failed after maximum attempts\n",
      "Progress: 33.2%\n"
     ]
    },
    {
     "name": "stderr",
     "output_type": "stream",
     "text": [
      "python(55400) MallocStackLogging: can't turn off malloc stack logging because it was not enabled.\n"
     ]
    },
    {
     "name": "stdout",
     "output_type": "stream",
     "text": [
      "Failed to find a valid solution after multiple attempts.\n",
      "Failed to solve day13_part2_2018: Failed after maximum attempts\n",
      "Progress: 33.5%\n"
     ]
    },
    {
     "name": "stderr",
     "output_type": "stream",
     "text": [
      "python(55458) MallocStackLogging: can't turn off malloc stack logging because it was not enabled.\n"
     ]
    },
    {
     "name": "stdout",
     "output_type": "stream",
     "text": [
      "Failed to find a valid solution after multiple attempts.\n",
      "Failed to solve day14_part1_2018: Failed after maximum attempts\n",
      "Progress: 33.9%\n"
     ]
    },
    {
     "name": "stderr",
     "output_type": "stream",
     "text": [
      "python(55518) MallocStackLogging: can't turn off malloc stack logging because it was not enabled.\n"
     ]
    },
    {
     "name": "stdout",
     "output_type": "stream",
     "text": [
      "Failed to find a valid solution after multiple attempts.\n",
      "Failed to solve day14_part2_2018: Failed after maximum attempts\n",
      "Progress: 34.2%\n"
     ]
    },
    {
     "name": "stderr",
     "output_type": "stream",
     "text": [
      "python(55642) MallocStackLogging: can't turn off malloc stack logging because it was not enabled.\n"
     ]
    },
    {
     "name": "stdout",
     "output_type": "stream",
     "text": [
      "Failed to find a valid solution after multiple attempts.\n",
      "Failed to solve day15_part1_2018: Failed after maximum attempts\n",
      "Progress: 34.5%\n"
     ]
    },
    {
     "name": "stderr",
     "output_type": "stream",
     "text": [
      "python(55828) MallocStackLogging: can't turn off malloc stack logging because it was not enabled.\n"
     ]
    },
    {
     "name": "stdout",
     "output_type": "stream",
     "text": [
      "Failed to find a valid solution after multiple attempts.\n",
      "Failed to solve day15_part2_2018: Failed after maximum attempts\n",
      "Progress: 34.8%\n"
     ]
    },
    {
     "name": "stderr",
     "output_type": "stream",
     "text": [
      "python(55902) MallocStackLogging: can't turn off malloc stack logging because it was not enabled.\n"
     ]
    },
    {
     "name": "stdout",
     "output_type": "stream",
     "text": [
      "Failed to find a valid solution after multiple attempts.\n",
      "Failed to solve day16_part1_2018: Failed after maximum attempts\n",
      "Progress: 35.1%\n"
     ]
    },
    {
     "name": "stderr",
     "output_type": "stream",
     "text": [
      "python(56041) MallocStackLogging: can't turn off malloc stack logging because it was not enabled.\n"
     ]
    },
    {
     "name": "stdout",
     "output_type": "stream",
     "text": [
      "Failed to find a valid solution after multiple attempts.\n",
      "Failed to solve day16_part2_2018: Failed after maximum attempts\n",
      "Progress: 35.5%\n"
     ]
    },
    {
     "name": "stderr",
     "output_type": "stream",
     "text": [
      "python(56181) MallocStackLogging: can't turn off malloc stack logging because it was not enabled.\n"
     ]
    },
    {
     "name": "stdout",
     "output_type": "stream",
     "text": [
      "Failed to find a valid solution after multiple attempts.\n",
      "Failed to solve day17_part1_2018: Failed after maximum attempts\n",
      "Progress: 35.8%\n"
     ]
    },
    {
     "name": "stderr",
     "output_type": "stream",
     "text": [
      "python(56271) MallocStackLogging: can't turn off malloc stack logging because it was not enabled.\n"
     ]
    },
    {
     "name": "stdout",
     "output_type": "stream",
     "text": [
      "Failed to find a valid solution after multiple attempts.\n",
      "Failed to solve day17_part2_2018: Failed after maximum attempts\n",
      "Progress: 36.1%\n"
     ]
    },
    {
     "name": "stderr",
     "output_type": "stream",
     "text": [
      "python(56361) MallocStackLogging: can't turn off malloc stack logging because it was not enabled.\n"
     ]
    },
    {
     "name": "stdout",
     "output_type": "stream",
     "text": [
      "Failed to find a valid solution after multiple attempts.\n",
      "Failed to solve day18_part1_2018: Failed after maximum attempts\n",
      "Progress: 36.4%\n"
     ]
    },
    {
     "name": "stderr",
     "output_type": "stream",
     "text": [
      "python(56483) MallocStackLogging: can't turn off malloc stack logging because it was not enabled.\n"
     ]
    },
    {
     "name": "stdout",
     "output_type": "stream",
     "text": [
      "Failed to find a valid solution after multiple attempts.\n",
      "Failed to solve day18_part2_2018: Failed after maximum attempts\n",
      "Progress: 36.7%\n"
     ]
    },
    {
     "name": "stderr",
     "output_type": "stream",
     "text": [
      "python(56574) MallocStackLogging: can't turn off malloc stack logging because it was not enabled.\n"
     ]
    },
    {
     "name": "stdout",
     "output_type": "stream",
     "text": [
      "Failed to find a valid solution after multiple attempts.\n",
      "Failed to solve day19_part1_2018: Failed after maximum attempts\n",
      "Progress: 37.1%\n"
     ]
    },
    {
     "name": "stderr",
     "output_type": "stream",
     "text": [
      "python(56696) MallocStackLogging: can't turn off malloc stack logging because it was not enabled.\n"
     ]
    },
    {
     "name": "stdout",
     "output_type": "stream",
     "text": [
      "Failed to find a valid solution after multiple attempts.\n",
      "Failed to solve day19_part2_2018: Failed after maximum attempts\n",
      "Progress: 37.4%\n"
     ]
    },
    {
     "name": "stderr",
     "output_type": "stream",
     "text": [
      "python(56776) MallocStackLogging: can't turn off malloc stack logging because it was not enabled.\n"
     ]
    },
    {
     "name": "stdout",
     "output_type": "stream",
     "text": [
      "Failed to find a valid solution after multiple attempts.\n",
      "Failed to solve day20_part1_2018: Failed after maximum attempts\n",
      "Progress: 37.7%\n"
     ]
    },
    {
     "name": "stderr",
     "output_type": "stream",
     "text": [
      "python(56866) MallocStackLogging: can't turn off malloc stack logging because it was not enabled.\n"
     ]
    },
    {
     "name": "stdout",
     "output_type": "stream",
     "text": [
      "Failed to find a valid solution after multiple attempts.\n",
      "Failed to solve day20_part2_2018: Failed after maximum attempts\n",
      "Progress: 38.0%\n"
     ]
    },
    {
     "name": "stderr",
     "output_type": "stream",
     "text": [
      "python(56940) MallocStackLogging: can't turn off malloc stack logging because it was not enabled.\n"
     ]
    },
    {
     "name": "stdout",
     "output_type": "stream",
     "text": [
      "Failed to find a valid solution after multiple attempts.\n",
      "Failed to solve day21_part1_2018: Failed after maximum attempts\n",
      "Progress: 38.3%\n"
     ]
    },
    {
     "name": "stderr",
     "output_type": "stream",
     "text": [
      "python(57078) MallocStackLogging: can't turn off malloc stack logging because it was not enabled.\n"
     ]
    },
    {
     "name": "stdout",
     "output_type": "stream",
     "text": [
      "Failed to find a valid solution after multiple attempts.\n",
      "Failed to solve day21_part2_2018: Failed after maximum attempts\n",
      "Progress: 38.7%\n"
     ]
    },
    {
     "name": "stderr",
     "output_type": "stream",
     "text": [
      "python(57136) MallocStackLogging: can't turn off malloc stack logging because it was not enabled.\n"
     ]
    },
    {
     "name": "stdout",
     "output_type": "stream",
     "text": [
      "Failed to find a valid solution after multiple attempts.\n",
      "Failed to solve day22_part1_2018: Failed after maximum attempts\n",
      "Progress: 39.0%\n"
     ]
    },
    {
     "name": "stderr",
     "output_type": "stream",
     "text": [
      "python(57258) MallocStackLogging: can't turn off malloc stack logging because it was not enabled.\n"
     ]
    },
    {
     "name": "stdout",
     "output_type": "stream",
     "text": [
      "Failed to find a valid solution after multiple attempts.\n",
      "Failed to solve day22_part2_2018: Failed after maximum attempts\n",
      "Progress: 39.3%\n"
     ]
    },
    {
     "name": "stderr",
     "output_type": "stream",
     "text": [
      "python(57364) MallocStackLogging: can't turn off malloc stack logging because it was not enabled.\n"
     ]
    },
    {
     "name": "stdout",
     "output_type": "stream",
     "text": [
      "Failed to find a valid solution after multiple attempts.\n",
      "Failed to solve day23_part2_2018: Failed after maximum attempts\n",
      "Progress: 39.6%\n"
     ]
    },
    {
     "name": "stderr",
     "output_type": "stream",
     "text": [
      "python(57502) MallocStackLogging: can't turn off malloc stack logging because it was not enabled.\n"
     ]
    },
    {
     "name": "stdout",
     "output_type": "stream",
     "text": [
      "Failed to find a valid solution after multiple attempts.\n",
      "Failed to solve day24_part1_2018: Failed after maximum attempts\n",
      "Progress: 39.9%\n"
     ]
    },
    {
     "name": "stderr",
     "output_type": "stream",
     "text": [
      "python(57727) MallocStackLogging: can't turn off malloc stack logging because it was not enabled.\n"
     ]
    },
    {
     "name": "stdout",
     "output_type": "stream",
     "text": [
      "Failed to find a valid solution after multiple attempts.\n",
      "Failed to solve day24_part2_2018: Failed after maximum attempts\n",
      "Progress: 40.3%\n"
     ]
    },
    {
     "name": "stderr",
     "output_type": "stream",
     "text": [
      "python(57801) MallocStackLogging: can't turn off malloc stack logging because it was not enabled.\n"
     ]
    },
    {
     "name": "stdout",
     "output_type": "stream",
     "text": [
      "Failed to find a valid solution after multiple attempts.\n",
      "Failed to solve day2_part2_2019: Failed after maximum attempts\n",
      "Progress: 40.6%\n"
     ]
    },
    {
     "name": "stderr",
     "output_type": "stream",
     "text": [
      "python(57875) MallocStackLogging: can't turn off malloc stack logging because it was not enabled.\n"
     ]
    },
    {
     "name": "stdout",
     "output_type": "stream",
     "text": [
      "56410\n",
      "\n",
      "Solved day3_part2_2019 successfully!\n",
      "Progress: 40.9%\n"
     ]
    },
    {
     "name": "stderr",
     "output_type": "stream",
     "text": [
      "python(57917) MallocStackLogging: can't turn off malloc stack logging because it was not enabled.\n"
     ]
    },
    {
     "name": "stdout",
     "output_type": "stream",
     "text": [
      "Failed to find a valid solution after multiple attempts.\n",
      "Failed to solve day4_part2_2019: Failed after maximum attempts\n",
      "Progress: 41.2%\n"
     ]
    },
    {
     "name": "stderr",
     "output_type": "stream",
     "text": [
      "python(58007) MallocStackLogging: can't turn off malloc stack logging because it was not enabled.\n"
     ]
    },
    {
     "name": "stdout",
     "output_type": "stream",
     "text": [
      "Failed to find a valid solution after multiple attempts.\n",
      "Failed to solve day5_part2_2019: Failed after maximum attempts\n",
      "Progress: 41.5%\n"
     ]
    },
    {
     "name": "stderr",
     "output_type": "stream",
     "text": [
      "python(58081) MallocStackLogging: can't turn off malloc stack logging because it was not enabled.\n"
     ]
    },
    {
     "name": "stdout",
     "output_type": "stream",
     "text": [
      "Failed to find a valid solution after multiple attempts.\n",
      "Failed to solve day6_part2_2019: Failed after maximum attempts\n",
      "Progress: 41.9%\n"
     ]
    },
    {
     "name": "stderr",
     "output_type": "stream",
     "text": [
      "python(58139) MallocStackLogging: can't turn off malloc stack logging because it was not enabled.\n"
     ]
    },
    {
     "name": "stdout",
     "output_type": "stream",
     "text": [
      "Failed to find a valid solution after multiple attempts.\n",
      "Failed to solve day7_part1_2019: Failed after maximum attempts\n",
      "Progress: 42.2%\n"
     ]
    },
    {
     "name": "stderr",
     "output_type": "stream",
     "text": [
      "python(58261) MallocStackLogging: can't turn off malloc stack logging because it was not enabled.\n"
     ]
    },
    {
     "name": "stdout",
     "output_type": "stream",
     "text": [
      "Failed to find a valid solution after multiple attempts.\n",
      "Failed to solve day7_part2_2019: Failed after maximum attempts\n",
      "Progress: 42.5%\n"
     ]
    },
    {
     "name": "stderr",
     "output_type": "stream",
     "text": [
      "python(58319) MallocStackLogging: can't turn off malloc stack logging because it was not enabled.\n"
     ]
    },
    {
     "name": "stdout",
     "output_type": "stream",
     "text": [
      "Failed to find a valid solution after multiple attempts.\n",
      "Failed to solve day8_part2_2019: Failed after maximum attempts\n",
      "Progress: 42.8%\n"
     ]
    },
    {
     "name": "stderr",
     "output_type": "stream",
     "text": [
      "python(58473) MallocStackLogging: can't turn off malloc stack logging because it was not enabled.\n"
     ]
    },
    {
     "name": "stdout",
     "output_type": "stream",
     "text": [
      "Failed to find a valid solution after multiple attempts.\n",
      "Failed to solve day9_part1_2019: Failed after maximum attempts\n",
      "Progress: 43.1%\n"
     ]
    },
    {
     "name": "stderr",
     "output_type": "stream",
     "text": [
      "python(58563) MallocStackLogging: can't turn off malloc stack logging because it was not enabled.\n"
     ]
    },
    {
     "name": "stdout",
     "output_type": "stream",
     "text": [
      "Failed to find a valid solution after multiple attempts.\n",
      "Failed to solve day9_part2_2019: Failed after maximum attempts\n",
      "Progress: 43.5%\n"
     ]
    },
    {
     "name": "stderr",
     "output_type": "stream",
     "text": [
      "python(58670) MallocStackLogging: can't turn off malloc stack logging because it was not enabled.\n"
     ]
    },
    {
     "name": "stdout",
     "output_type": "stream",
     "text": [
      "Failed to find a valid solution after multiple attempts.\n",
      "Failed to solve day10_part2_2019: Failed after maximum attempts\n",
      "Progress: 43.8%\n"
     ]
    },
    {
     "name": "stderr",
     "output_type": "stream",
     "text": [
      "python(58809) MallocStackLogging: can't turn off malloc stack logging because it was not enabled.\n"
     ]
    },
    {
     "name": "stdout",
     "output_type": "stream",
     "text": [
      "Failed to find a valid solution after multiple attempts.\n",
      "Failed to solve day11_part1_2019: Failed after maximum attempts\n",
      "Progress: 44.1%\n"
     ]
    },
    {
     "name": "stderr",
     "output_type": "stream",
     "text": [
      "python(59048) MallocStackLogging: can't turn off malloc stack logging because it was not enabled.\n"
     ]
    },
    {
     "name": "stdout",
     "output_type": "stream",
     "text": [
      "Failed to find a valid solution after multiple attempts.\n",
      "Failed to solve day11_part2_2019: Failed after maximum attempts\n",
      "Progress: 44.4%\n"
     ]
    },
    {
     "name": "stderr",
     "output_type": "stream",
     "text": [
      "python(59154) MallocStackLogging: can't turn off malloc stack logging because it was not enabled.\n"
     ]
    },
    {
     "name": "stdout",
     "output_type": "stream",
     "text": [
      "Failed to find a valid solution after multiple attempts.\n",
      "Failed to solve day12_part1_2019: Failed after maximum attempts\n",
      "Progress: 44.7%\n"
     ]
    },
    {
     "name": "stderr",
     "output_type": "stream",
     "text": [
      "python(59228) MallocStackLogging: can't turn off malloc stack logging because it was not enabled.\n"
     ]
    },
    {
     "name": "stdout",
     "output_type": "stream",
     "text": [
      "Failed to find a valid solution after multiple attempts.\n",
      "Failed to solve day12_part2_2019: Failed after maximum attempts\n",
      "Progress: 45.0%\n"
     ]
    },
    {
     "name": "stderr",
     "output_type": "stream",
     "text": [
      "python(59399) MallocStackLogging: can't turn off malloc stack logging because it was not enabled.\n"
     ]
    },
    {
     "name": "stdout",
     "output_type": "stream",
     "text": [
      "Failed to find a valid solution after multiple attempts.\n",
      "Failed to solve day13_part1_2019: Failed after maximum attempts\n",
      "Progress: 45.4%\n"
     ]
    },
    {
     "name": "stderr",
     "output_type": "stream",
     "text": [
      "python(59575) MallocStackLogging: can't turn off malloc stack logging because it was not enabled.\n"
     ]
    },
    {
     "name": "stdout",
     "output_type": "stream",
     "text": [
      "Failed to find a valid solution after multiple attempts.\n",
      "Failed to solve day13_part2_2019: Failed after maximum attempts\n",
      "Progress: 45.7%\n"
     ]
    },
    {
     "name": "stderr",
     "output_type": "stream",
     "text": [
      "python(59650) MallocStackLogging: can't turn off malloc stack logging because it was not enabled.\n"
     ]
    },
    {
     "name": "stdout",
     "output_type": "stream",
     "text": [
      "Failed to find a valid solution after multiple attempts.\n",
      "Failed to solve day14_part1_2019: Failed after maximum attempts\n",
      "Progress: 46.0%\n"
     ]
    },
    {
     "name": "stderr",
     "output_type": "stream",
     "text": [
      "python(59727) MallocStackLogging: can't turn off malloc stack logging because it was not enabled.\n"
     ]
    },
    {
     "name": "stdout",
     "output_type": "stream",
     "text": [
      "Failed to find a valid solution after multiple attempts.\n",
      "Failed to solve day14_part2_2019: Failed after maximum attempts\n",
      "Progress: 46.3%\n"
     ]
    },
    {
     "name": "stderr",
     "output_type": "stream",
     "text": [
      "python(59947) MallocStackLogging: can't turn off malloc stack logging because it was not enabled.\n"
     ]
    },
    {
     "name": "stdout",
     "output_type": "stream",
     "text": [
      "Failed to find a valid solution after multiple attempts.\n",
      "Failed to solve day15_part1_2019: Failed after maximum attempts\n",
      "Progress: 46.6%\n"
     ]
    },
    {
     "name": "stderr",
     "output_type": "stream",
     "text": [
      "python(60101) MallocStackLogging: can't turn off malloc stack logging because it was not enabled.\n"
     ]
    },
    {
     "name": "stdout",
     "output_type": "stream",
     "text": [
      "Failed to find a valid solution after multiple attempts.\n",
      "Failed to solve day15_part2_2019: Failed after maximum attempts\n",
      "Progress: 47.0%\n"
     ]
    },
    {
     "name": "stderr",
     "output_type": "stream",
     "text": [
      "python(60175) MallocStackLogging: can't turn off malloc stack logging because it was not enabled.\n"
     ]
    },
    {
     "name": "stdout",
     "output_type": "stream",
     "text": [
      "Failed to find a valid solution after multiple attempts.\n",
      "Failed to solve day16_part1_2019: Failed after maximum attempts\n",
      "Progress: 47.3%\n"
     ]
    },
    {
     "name": "stderr",
     "output_type": "stream",
     "text": [
      "python(60250) MallocStackLogging: can't turn off malloc stack logging because it was not enabled.\n"
     ]
    },
    {
     "name": "stdout",
     "output_type": "stream",
     "text": [
      "80284420\n",
      "\n",
      "Solved day16_part2_2019 successfully!\n",
      "Progress: 47.6%\n"
     ]
    },
    {
     "name": "stderr",
     "output_type": "stream",
     "text": [
      "python(60388) MallocStackLogging: can't turn off malloc stack logging because it was not enabled.\n"
     ]
    },
    {
     "name": "stdout",
     "output_type": "stream",
     "text": [
      "Failed to find a valid solution after multiple attempts.\n",
      "Failed to solve day17_part1_2019: Failed after maximum attempts\n",
      "Progress: 47.9%\n"
     ]
    },
    {
     "name": "stderr",
     "output_type": "stream",
     "text": [
      "python(60622) MallocStackLogging: can't turn off malloc stack logging because it was not enabled.\n"
     ]
    },
    {
     "name": "stdout",
     "output_type": "stream",
     "text": [
      "Failed to find a valid solution after multiple attempts.\n",
      "Failed to solve day17_part2_2019: Failed after maximum attempts\n",
      "Progress: 48.2%\n"
     ]
    },
    {
     "name": "stderr",
     "output_type": "stream",
     "text": [
      "python(60714) MallocStackLogging: can't turn off malloc stack logging because it was not enabled.\n"
     ]
    },
    {
     "name": "stdout",
     "output_type": "stream",
     "text": [
      "Failed to find a valid solution after multiple attempts.\n",
      "Failed to solve day18_part1_2019: Failed after maximum attempts\n",
      "Progress: 48.6%\n"
     ]
    },
    {
     "name": "stderr",
     "output_type": "stream",
     "text": [
      "python(60805) MallocStackLogging: can't turn off malloc stack logging because it was not enabled.\n"
     ]
    },
    {
     "name": "stdout",
     "output_type": "stream",
     "text": [
      "Failed to find a valid solution after multiple attempts.\n",
      "Failed to solve day18_part2_2019: Failed after maximum attempts\n",
      "Progress: 48.9%\n"
     ]
    },
    {
     "name": "stderr",
     "output_type": "stream",
     "text": [
      "python(60914) MallocStackLogging: can't turn off malloc stack logging because it was not enabled.\n"
     ]
    },
    {
     "name": "stdout",
     "output_type": "stream",
     "text": [
      "Failed to find a valid solution after multiple attempts.\n",
      "Failed to solve day19_part1_2019: Failed after maximum attempts\n",
      "Progress: 49.2%\n"
     ]
    },
    {
     "name": "stderr",
     "output_type": "stream",
     "text": [
      "python(61036) MallocStackLogging: can't turn off malloc stack logging because it was not enabled.\n"
     ]
    },
    {
     "name": "stdout",
     "output_type": "stream",
     "text": [
      "Failed to find a valid solution after multiple attempts.\n",
      "Failed to solve day19_part2_2019: Failed after maximum attempts\n",
      "Progress: 49.5%\n"
     ]
    },
    {
     "name": "stderr",
     "output_type": "stream",
     "text": [
      "python(61206) MallocStackLogging: can't turn off malloc stack logging because it was not enabled.\n"
     ]
    },
    {
     "name": "stdout",
     "output_type": "stream",
     "text": [
      "Failed to find a valid solution after multiple attempts.\n",
      "Failed to solve day20_part1_2019: Failed after maximum attempts\n",
      "Progress: 49.8%\n"
     ]
    },
    {
     "name": "stderr",
     "output_type": "stream",
     "text": [
      "python(61360) MallocStackLogging: can't turn off malloc stack logging because it was not enabled.\n"
     ]
    },
    {
     "name": "stdout",
     "output_type": "stream",
     "text": [
      "Failed to find a valid solution after multiple attempts.\n",
      "Failed to solve day20_part2_2019: Failed after maximum attempts\n",
      "Progress: 50.2%\n"
     ]
    },
    {
     "name": "stderr",
     "output_type": "stream",
     "text": [
      "python(61482) MallocStackLogging: can't turn off malloc stack logging because it was not enabled.\n"
     ]
    },
    {
     "name": "stdout",
     "output_type": "stream",
     "text": [
      "Failed to find a valid solution after multiple attempts.\n",
      "Failed to solve day21_part1_2019: Failed after maximum attempts\n",
      "Progress: 50.5%\n"
     ]
    },
    {
     "name": "stderr",
     "output_type": "stream",
     "text": [
      "python(61573) MallocStackLogging: can't turn off malloc stack logging because it was not enabled.\n"
     ]
    },
    {
     "name": "stdout",
     "output_type": "stream",
     "text": [
      "Failed to find a valid solution after multiple attempts.\n",
      "Failed to solve day21_part2_2019: Failed after maximum attempts\n",
      "Progress: 50.8%\n"
     ]
    },
    {
     "name": "stderr",
     "output_type": "stream",
     "text": [
      "python(61647) MallocStackLogging: can't turn off malloc stack logging because it was not enabled.\n"
     ]
    },
    {
     "name": "stdout",
     "output_type": "stream",
     "text": [
      "Failed to find a valid solution after multiple attempts.\n",
      "Failed to solve day22_part1_2019: Failed after maximum attempts\n",
      "Progress: 51.1%\n"
     ]
    },
    {
     "name": "stderr",
     "output_type": "stream",
     "text": [
      "python(61737) MallocStackLogging: can't turn off malloc stack logging because it was not enabled.\n"
     ]
    },
    {
     "name": "stdout",
     "output_type": "stream",
     "text": [
      "Failed to find a valid solution after multiple attempts.\n",
      "Failed to solve day22_part2_2019: Failed after maximum attempts\n",
      "Progress: 51.4%\n"
     ]
    },
    {
     "name": "stderr",
     "output_type": "stream",
     "text": [
      "python(61879) MallocStackLogging: can't turn off malloc stack logging because it was not enabled.\n"
     ]
    },
    {
     "name": "stdout",
     "output_type": "stream",
     "text": [
      "Failed to find a valid solution after multiple attempts.\n",
      "Failed to solve day23_part1_2019: Failed after maximum attempts\n",
      "Progress: 51.8%\n"
     ]
    },
    {
     "name": "stderr",
     "output_type": "stream",
     "text": [
      "python(62034) MallocStackLogging: can't turn off malloc stack logging because it was not enabled.\n"
     ]
    },
    {
     "name": "stdout",
     "output_type": "stream",
     "text": [
      "Failed to find a valid solution after multiple attempts.\n",
      "Failed to solve day23_part2_2019: Failed after maximum attempts\n",
      "Progress: 52.1%\n"
     ]
    },
    {
     "name": "stderr",
     "output_type": "stream",
     "text": [
      "python(62092) MallocStackLogging: can't turn off malloc stack logging because it was not enabled.\n"
     ]
    },
    {
     "name": "stdout",
     "output_type": "stream",
     "text": [
      "Failed to find a valid solution after multiple attempts.\n",
      "Failed to solve day24_part1_2019: Failed after maximum attempts\n",
      "Progress: 52.4%\n"
     ]
    },
    {
     "name": "stderr",
     "output_type": "stream",
     "text": [
      "python(62214) MallocStackLogging: can't turn off malloc stack logging because it was not enabled.\n"
     ]
    },
    {
     "name": "stdout",
     "output_type": "stream",
     "text": [
      "Failed to find a valid solution after multiple attempts.\n",
      "Failed to solve day24_part2_2019: Failed after maximum attempts\n",
      "Progress: 52.7%\n"
     ]
    },
    {
     "name": "stderr",
     "output_type": "stream",
     "text": [
      "python(62304) MallocStackLogging: can't turn off malloc stack logging because it was not enabled.\n"
     ]
    },
    {
     "name": "stdout",
     "output_type": "stream",
     "text": [
      "Failed to find a valid solution after multiple attempts.\n",
      "Failed to solve day25_part1_2019: Failed after maximum attempts\n",
      "Progress: 53.0%\n"
     ]
    },
    {
     "name": "stderr",
     "output_type": "stream",
     "text": [
      "python(62364) MallocStackLogging: can't turn off malloc stack logging because it was not enabled.\n"
     ]
    },
    {
     "name": "stdout",
     "output_type": "stream",
     "text": [
      "Failed to find a valid solution after multiple attempts.\n",
      "Failed to solve day5_part1_2020: Failed after maximum attempts\n",
      "Progress: 53.4%\n"
     ]
    },
    {
     "name": "stderr",
     "output_type": "stream",
     "text": [
      "python(62422) MallocStackLogging: can't turn off malloc stack logging because it was not enabled.\n"
     ]
    },
    {
     "name": "stdout",
     "output_type": "stream",
     "text": [
      "Failed to find a valid solution after multiple attempts.\n",
      "Failed to solve day7_part1_2020: Failed after maximum attempts\n",
      "Progress: 53.7%\n"
     ]
    },
    {
     "name": "stderr",
     "output_type": "stream",
     "text": [
      "python(62496) MallocStackLogging: can't turn off malloc stack logging because it was not enabled.\n"
     ]
    },
    {
     "name": "stdout",
     "output_type": "stream",
     "text": [
      "Failed to find a valid solution after multiple attempts.\n",
      "Failed to solve day8_part2_2020: Failed after maximum attempts\n",
      "Progress: 54.0%\n"
     ]
    },
    {
     "name": "stderr",
     "output_type": "stream",
     "text": [
      "python(62538) MallocStackLogging: can't turn off malloc stack logging because it was not enabled.\n"
     ]
    },
    {
     "name": "stdout",
     "output_type": "stream",
     "text": [
      "Failed to find a valid solution after multiple attempts.\n",
      "Failed to solve day9_part1_2020: Failed after maximum attempts\n",
      "Progress: 54.3%\n"
     ]
    },
    {
     "name": "stderr",
     "output_type": "stream",
     "text": [
      "python(62596) MallocStackLogging: can't turn off malloc stack logging because it was not enabled.\n"
     ]
    },
    {
     "name": "stdout",
     "output_type": "stream",
     "text": [
      "Failed to find a valid solution after multiple attempts.\n",
      "Failed to solve day9_part2_2020: Failed after maximum attempts\n",
      "Progress: 54.6%\n"
     ]
    },
    {
     "name": "stderr",
     "output_type": "stream",
     "text": [
      "python(62638) MallocStackLogging: can't turn off malloc stack logging because it was not enabled.\n"
     ]
    },
    {
     "name": "stdout",
     "output_type": "stream",
     "text": [
      "Failed to find a valid solution after multiple attempts.\n",
      "Failed to solve day10_part2_2020: Failed after maximum attempts\n",
      "Progress: 55.0%\n"
     ]
    },
    {
     "name": "stderr",
     "output_type": "stream",
     "text": [
      "python(62728) MallocStackLogging: can't turn off malloc stack logging because it was not enabled.\n"
     ]
    },
    {
     "name": "stdout",
     "output_type": "stream",
     "text": [
      "Failed to find a valid solution after multiple attempts.\n",
      "Failed to solve day11_part1_2020: Failed after maximum attempts\n",
      "Progress: 55.3%\n"
     ]
    },
    {
     "name": "stderr",
     "output_type": "stream",
     "text": [
      "python(62818) MallocStackLogging: can't turn off malloc stack logging because it was not enabled.\n"
     ]
    },
    {
     "name": "stdout",
     "output_type": "stream",
     "text": [
      "Failed to find a valid solution after multiple attempts.\n",
      "Failed to solve day11_part2_2020: Failed after maximum attempts\n",
      "Progress: 55.6%\n"
     ]
    },
    {
     "name": "stderr",
     "output_type": "stream",
     "text": [
      "python(62888) MallocStackLogging: can't turn off malloc stack logging because it was not enabled.\n"
     ]
    },
    {
     "name": "stdout",
     "output_type": "stream",
     "text": [
      "381\n",
      "\n",
      "Solved day12_part1_2020 successfully!\n",
      "Progress: 55.9%\n"
     ]
    },
    {
     "name": "stderr",
     "output_type": "stream",
     "text": [
      "python(62946) MallocStackLogging: can't turn off malloc stack logging because it was not enabled.\n"
     ]
    },
    {
     "name": "stdout",
     "output_type": "stream",
     "text": [
      "Failed to find a valid solution after multiple attempts.\n",
      "Failed to solve day13_part2_2020: Failed after maximum attempts\n",
      "Progress: 56.2%\n"
     ]
    },
    {
     "name": "stderr",
     "output_type": "stream",
     "text": [
      "python(63006) MallocStackLogging: can't turn off malloc stack logging because it was not enabled.\n"
     ]
    },
    {
     "name": "stdout",
     "output_type": "stream",
     "text": [
      "Failed to find a valid solution after multiple attempts.\n",
      "Failed to solve day14_part2_2020: Failed after maximum attempts\n",
      "Progress: 56.5%\n"
     ]
    },
    {
     "name": "stderr",
     "output_type": "stream",
     "text": [
      "python(63064) MallocStackLogging: can't turn off malloc stack logging because it was not enabled.\n"
     ]
    },
    {
     "name": "stdout",
     "output_type": "stream",
     "text": [
      "Failed to find a valid solution after multiple attempts.\n",
      "Failed to solve day15_part2_2020: Failed after maximum attempts\n",
      "Progress: 56.9%\n"
     ]
    },
    {
     "name": "stderr",
     "output_type": "stream",
     "text": [
      "python(63139) MallocStackLogging: can't turn off malloc stack logging because it was not enabled.\n"
     ]
    },
    {
     "name": "stdout",
     "output_type": "stream",
     "text": [
      "Failed to find a valid solution after multiple attempts.\n",
      "Failed to solve day16_part1_2020: Failed after maximum attempts\n",
      "Progress: 57.2%\n"
     ]
    },
    {
     "name": "stderr",
     "output_type": "stream",
     "text": [
      "python(63263) MallocStackLogging: can't turn off malloc stack logging because it was not enabled.\n"
     ]
    },
    {
     "name": "stdout",
     "output_type": "stream",
     "text": [
      "Failed to find a valid solution after multiple attempts.\n",
      "Failed to solve day16_part2_2020: Failed after maximum attempts\n",
      "Progress: 57.5%\n"
     ]
    },
    {
     "name": "stderr",
     "output_type": "stream",
     "text": [
      "python(63337) MallocStackLogging: can't turn off malloc stack logging because it was not enabled.\n"
     ]
    },
    {
     "name": "stdout",
     "output_type": "stream",
     "text": [
      "271\n",
      "\n",
      "Solved day17_part1_2020 successfully!\n",
      "Progress: 57.8%\n"
     ]
    },
    {
     "name": "stderr",
     "output_type": "stream",
     "text": [
      "python(63395) MallocStackLogging: can't turn off malloc stack logging because it was not enabled.\n"
     ]
    },
    {
     "name": "stdout",
     "output_type": "stream",
     "text": [
      "Failed to find a valid solution after multiple attempts.\n",
      "Failed to solve day18_part1_2020: Failed after maximum attempts\n",
      "Progress: 58.1%\n"
     ]
    },
    {
     "name": "stderr",
     "output_type": "stream",
     "text": [
      "python(63485) MallocStackLogging: can't turn off malloc stack logging because it was not enabled.\n"
     ]
    },
    {
     "name": "stdout",
     "output_type": "stream",
     "text": [
      "Failed to find a valid solution after multiple attempts.\n",
      "Failed to solve day18_part2_2020: Failed after maximum attempts\n",
      "Progress: 58.5%\n"
     ]
    },
    {
     "name": "stderr",
     "output_type": "stream",
     "text": [
      "python(63545) MallocStackLogging: can't turn off malloc stack logging because it was not enabled.\n"
     ]
    },
    {
     "name": "stdout",
     "output_type": "stream",
     "text": [
      "Failed to find a valid solution after multiple attempts.\n",
      "Failed to solve day19_part1_2020: Failed after maximum attempts\n",
      "Progress: 58.8%\n"
     ]
    },
    {
     "name": "stderr",
     "output_type": "stream",
     "text": [
      "python(63608) MallocStackLogging: can't turn off malloc stack logging because it was not enabled.\n"
     ]
    },
    {
     "name": "stdout",
     "output_type": "stream",
     "text": [
      "Failed to find a valid solution after multiple attempts.\n",
      "Failed to solve day19_part2_2020: Failed after maximum attempts\n",
      "Progress: 59.1%\n"
     ]
    },
    {
     "name": "stderr",
     "output_type": "stream",
     "text": [
      "python(63714) MallocStackLogging: can't turn off malloc stack logging because it was not enabled.\n"
     ]
    },
    {
     "name": "stdout",
     "output_type": "stream",
     "text": [
      "Failed to find a valid solution after multiple attempts.\n",
      "Failed to solve day20_part1_2020: Failed after maximum attempts\n",
      "Progress: 59.4%\n"
     ]
    },
    {
     "name": "stderr",
     "output_type": "stream",
     "text": [
      "python(63836) MallocStackLogging: can't turn off malloc stack logging because it was not enabled.\n"
     ]
    },
    {
     "name": "stdout",
     "output_type": "stream",
     "text": [
      "Failed to find a valid solution after multiple attempts.\n",
      "Failed to solve day20_part2_2020: Failed after maximum attempts\n",
      "Progress: 59.7%\n"
     ]
    },
    {
     "name": "stderr",
     "output_type": "stream",
     "text": [
      "python(63895) MallocStackLogging: can't turn off malloc stack logging because it was not enabled.\n"
     ]
    },
    {
     "name": "stdout",
     "output_type": "stream",
     "text": [
      "Failed to find a valid solution after multiple attempts.\n",
      "Failed to solve day21_part1_2020: Failed after maximum attempts\n",
      "Progress: 60.1%\n"
     ]
    },
    {
     "name": "stderr",
     "output_type": "stream",
     "text": [
      "python(63953) MallocStackLogging: can't turn off malloc stack logging because it was not enabled.\n"
     ]
    },
    {
     "name": "stdout",
     "output_type": "stream",
     "text": [
      "Execution timed out after 40 seconds.\n",
      "Failed to solve day21_part2_2020: Failed after maximum attempts\n",
      "Progress: 60.4%\n"
     ]
    },
    {
     "name": "stderr",
     "output_type": "stream",
     "text": [
      "python(64285) MallocStackLogging: can't turn off malloc stack logging because it was not enabled.\n"
     ]
    },
    {
     "name": "stdout",
     "output_type": "stream",
     "text": [
      "Failed to find a valid solution after multiple attempts.\n",
      "Failed to solve day22_part1_2020: Failed after maximum attempts\n",
      "Progress: 60.7%\n"
     ]
    },
    {
     "name": "stderr",
     "output_type": "stream",
     "text": [
      "python(64360) MallocStackLogging: can't turn off malloc stack logging because it was not enabled.\n"
     ]
    },
    {
     "name": "stdout",
     "output_type": "stream",
     "text": [
      "Failed to find a valid solution after multiple attempts.\n",
      "Failed to solve day22_part2_2020: Failed after maximum attempts\n",
      "Progress: 61.0%\n"
     ]
    },
    {
     "name": "stderr",
     "output_type": "stream",
     "text": [
      "python(64434) MallocStackLogging: can't turn off malloc stack logging because it was not enabled.\n"
     ]
    },
    {
     "name": "stdout",
     "output_type": "stream",
     "text": [
      "Failed to find a valid solution after multiple attempts.\n",
      "Failed to solve day23_part1_2020: Failed after maximum attempts\n",
      "Progress: 61.3%\n"
     ]
    },
    {
     "name": "stderr",
     "output_type": "stream",
     "text": [
      "python(64493) MallocStackLogging: can't turn off malloc stack logging because it was not enabled.\n"
     ]
    },
    {
     "name": "stdout",
     "output_type": "stream",
     "text": [
      "Failed to find a valid solution after multiple attempts.\n",
      "Failed to solve day23_part2_2020: Failed after maximum attempts\n",
      "Progress: 61.7%\n"
     ]
    },
    {
     "name": "stderr",
     "output_type": "stream",
     "text": [
      "python(64568) MallocStackLogging: can't turn off malloc stack logging because it was not enabled.\n"
     ]
    },
    {
     "name": "stdout",
     "output_type": "stream",
     "text": [
      "Failed to find a valid solution after multiple attempts.\n",
      "Failed to solve day24_part1_2020: Failed after maximum attempts\n",
      "Progress: 62.0%\n"
     ]
    },
    {
     "name": "stderr",
     "output_type": "stream",
     "text": [
      "python(64659) MallocStackLogging: can't turn off malloc stack logging because it was not enabled.\n"
     ]
    },
    {
     "name": "stdout",
     "output_type": "stream",
     "text": [
      "Failed to find a valid solution after multiple attempts.\n",
      "Failed to solve day24_part2_2020: Failed after maximum attempts\n",
      "Progress: 62.3%\n"
     ]
    },
    {
     "name": "stderr",
     "output_type": "stream",
     "text": [
      "python(64733) MallocStackLogging: can't turn off malloc stack logging because it was not enabled.\n"
     ]
    },
    {
     "name": "stdout",
     "output_type": "stream",
     "text": [
      "Failed to find a valid solution after multiple attempts.\n",
      "Failed to solve day4_part1_2021: Failed after maximum attempts\n",
      "Progress: 62.6%\n"
     ]
    },
    {
     "name": "stderr",
     "output_type": "stream",
     "text": [
      "python(64809) MallocStackLogging: can't turn off malloc stack logging because it was not enabled.\n"
     ]
    },
    {
     "name": "stdout",
     "output_type": "stream",
     "text": [
      "Failed to find a valid solution after multiple attempts.\n",
      "Failed to solve day4_part2_2021: Failed after maximum attempts\n",
      "Progress: 62.9%\n"
     ]
    },
    {
     "name": "stderr",
     "output_type": "stream",
     "text": [
      "python(64867) MallocStackLogging: can't turn off malloc stack logging because it was not enabled.\n"
     ]
    },
    {
     "name": "stdout",
     "output_type": "stream",
     "text": [
      "Failed to find a valid solution after multiple attempts.\n",
      "Failed to solve day6_part1_2021: Failed after maximum attempts\n",
      "Progress: 63.3%\n"
     ]
    },
    {
     "name": "stderr",
     "output_type": "stream",
     "text": [
      "python(64989) MallocStackLogging: can't turn off malloc stack logging because it was not enabled.\n"
     ]
    },
    {
     "name": "stdout",
     "output_type": "stream",
     "text": [
      "Failed to find a valid solution after multiple attempts.\n",
      "Failed to solve day8_part2_2021: Failed after maximum attempts\n",
      "Progress: 63.6%\n"
     ]
    },
    {
     "name": "stderr",
     "output_type": "stream",
     "text": [
      "python(65047) MallocStackLogging: can't turn off malloc stack logging because it was not enabled.\n"
     ]
    },
    {
     "name": "stdout",
     "output_type": "stream",
     "text": [
      "Failed to find a valid solution after multiple attempts.\n",
      "Failed to solve day9_part1_2021: Failed after maximum attempts\n",
      "Progress: 63.9%\n"
     ]
    },
    {
     "name": "stderr",
     "output_type": "stream",
     "text": [
      "python(65122) MallocStackLogging: can't turn off malloc stack logging because it was not enabled.\n"
     ]
    },
    {
     "name": "stdout",
     "output_type": "stream",
     "text": [
      "Failed to find a valid solution after multiple attempts.\n",
      "Failed to solve day9_part2_2021: Failed after maximum attempts\n",
      "Progress: 64.2%\n"
     ]
    },
    {
     "name": "stderr",
     "output_type": "stream",
     "text": [
      "python(65180) MallocStackLogging: can't turn off malloc stack logging because it was not enabled.\n"
     ]
    },
    {
     "name": "stdout",
     "output_type": "stream",
     "text": [
      "Failed to find a valid solution after multiple attempts.\n",
      "Failed to solve day10_part1_2021: Failed after maximum attempts\n",
      "Progress: 64.5%\n"
     ]
    },
    {
     "name": "stderr",
     "output_type": "stream",
     "text": [
      "python(65239) MallocStackLogging: can't turn off malloc stack logging because it was not enabled.\n"
     ]
    },
    {
     "name": "stdout",
     "output_type": "stream",
     "text": [
      "Failed to find a valid solution after multiple attempts.\n",
      "Failed to solve day11_part1_2021: Failed after maximum attempts\n",
      "Progress: 64.9%\n"
     ]
    },
    {
     "name": "stderr",
     "output_type": "stream",
     "text": [
      "python(65329) MallocStackLogging: can't turn off malloc stack logging because it was not enabled.\n"
     ]
    },
    {
     "name": "stdout",
     "output_type": "stream",
     "text": [
      "Failed to find a valid solution after multiple attempts.\n",
      "Failed to solve day11_part2_2021: Failed after maximum attempts\n",
      "Progress: 65.2%\n"
     ]
    },
    {
     "name": "stderr",
     "output_type": "stream",
     "text": [
      "python(65387) MallocStackLogging: can't turn off malloc stack logging because it was not enabled.\n"
     ]
    },
    {
     "name": "stdout",
     "output_type": "stream",
     "text": [
      "Failed to find a valid solution after multiple attempts.\n",
      "Failed to solve day12_part1_2021: Failed after maximum attempts\n",
      "Progress: 65.5%\n"
     ]
    },
    {
     "name": "stderr",
     "output_type": "stream",
     "text": [
      "python(65446) MallocStackLogging: can't turn off malloc stack logging because it was not enabled.\n"
     ]
    },
    {
     "name": "stdout",
     "output_type": "stream",
     "text": [
      "Failed to find a valid solution after multiple attempts.\n",
      "Failed to solve day12_part2_2021: Failed after maximum attempts\n",
      "Progress: 65.8%\n"
     ]
    },
    {
     "name": "stderr",
     "output_type": "stream",
     "text": [
      "python(65520) MallocStackLogging: can't turn off malloc stack logging because it was not enabled.\n"
     ]
    },
    {
     "name": "stdout",
     "output_type": "stream",
     "text": [
      "Failed to find a valid solution after multiple attempts.\n",
      "Failed to solve day13_part1_2021: Failed after maximum attempts\n",
      "Progress: 66.1%\n"
     ]
    },
    {
     "name": "stderr",
     "output_type": "stream",
     "text": [
      "python(65595) MallocStackLogging: can't turn off malloc stack logging because it was not enabled.\n"
     ]
    },
    {
     "name": "stdout",
     "output_type": "stream",
     "text": [
      "Failed to find a valid solution after multiple attempts.\n",
      "Failed to solve day13_part2_2021: Failed after maximum attempts\n",
      "Progress: 66.5%\n"
     ]
    },
    {
     "name": "stderr",
     "output_type": "stream",
     "text": [
      "python(65670) MallocStackLogging: can't turn off malloc stack logging because it was not enabled.\n"
     ]
    },
    {
     "name": "stdout",
     "output_type": "stream",
     "text": [
      "Failed to find a valid solution after multiple attempts.\n",
      "Failed to solve day14_part1_2021: Failed after maximum attempts\n",
      "Progress: 66.8%\n"
     ]
    },
    {
     "name": "stderr",
     "output_type": "stream",
     "text": [
      "python(65746) MallocStackLogging: can't turn off malloc stack logging because it was not enabled.\n"
     ]
    },
    {
     "name": "stdout",
     "output_type": "stream",
     "text": [
      "Failed to find a valid solution after multiple attempts.\n",
      "Failed to solve day14_part2_2021: Failed after maximum attempts\n",
      "Progress: 67.1%\n"
     ]
    },
    {
     "name": "stderr",
     "output_type": "stream",
     "text": [
      "python(65807) MallocStackLogging: can't turn off malloc stack logging because it was not enabled.\n"
     ]
    },
    {
     "name": "stdout",
     "output_type": "stream",
     "text": [
      "Failed to find a valid solution after multiple attempts.\n",
      "Failed to solve day15_part1_2021: Failed after maximum attempts\n",
      "Progress: 67.4%\n"
     ]
    },
    {
     "name": "stderr",
     "output_type": "stream",
     "text": [
      "python(65882) MallocStackLogging: can't turn off malloc stack logging because it was not enabled.\n"
     ]
    },
    {
     "name": "stdout",
     "output_type": "stream",
     "text": [
      "Failed to find a valid solution after multiple attempts.\n",
      "Failed to solve day15_part2_2021: Failed after maximum attempts\n",
      "Progress: 67.7%\n"
     ]
    },
    {
     "name": "stderr",
     "output_type": "stream",
     "text": [
      "python(65971) MallocStackLogging: can't turn off malloc stack logging because it was not enabled.\n"
     ]
    },
    {
     "name": "stdout",
     "output_type": "stream",
     "text": [
      "Failed to find a valid solution after multiple attempts.\n",
      "Failed to solve day16_part1_2021: Failed after maximum attempts\n",
      "Progress: 68.1%\n"
     ]
    },
    {
     "name": "stderr",
     "output_type": "stream",
     "text": [
      "python(66063) MallocStackLogging: can't turn off malloc stack logging because it was not enabled.\n"
     ]
    },
    {
     "name": "stdout",
     "output_type": "stream",
     "text": [
      "Failed to find a valid solution after multiple attempts.\n",
      "Failed to solve day16_part2_2021: Failed after maximum attempts\n",
      "Progress: 68.4%\n"
     ]
    },
    {
     "name": "stderr",
     "output_type": "stream",
     "text": [
      "python(66153) MallocStackLogging: can't turn off malloc stack logging because it was not enabled.\n"
     ]
    },
    {
     "name": "stdout",
     "output_type": "stream",
     "text": [
      "Failed to find a valid solution after multiple attempts.\n",
      "Failed to solve day17_part1_2021: Failed after maximum attempts\n",
      "Progress: 68.7%\n"
     ]
    },
    {
     "name": "stderr",
     "output_type": "stream",
     "text": [
      "python(66229) MallocStackLogging: can't turn off malloc stack logging because it was not enabled.\n"
     ]
    },
    {
     "name": "stdout",
     "output_type": "stream",
     "text": [
      "Failed to find a valid solution after multiple attempts.\n",
      "Failed to solve day17_part2_2021: Failed after maximum attempts\n",
      "Progress: 69.0%\n"
     ]
    },
    {
     "name": "stderr",
     "output_type": "stream",
     "text": [
      "python(66353) MallocStackLogging: can't turn off malloc stack logging because it was not enabled.\n"
     ]
    },
    {
     "name": "stdout",
     "output_type": "stream",
     "text": [
      "Failed to find a valid solution after multiple attempts.\n",
      "Failed to solve day18_part1_2021: Failed after maximum attempts\n",
      "Progress: 69.3%\n"
     ]
    },
    {
     "name": "stderr",
     "output_type": "stream",
     "text": [
      "python(66474) MallocStackLogging: can't turn off malloc stack logging because it was not enabled.\n"
     ]
    },
    {
     "name": "stdout",
     "output_type": "stream",
     "text": [
      "Failed to find a valid solution after multiple attempts.\n",
      "Failed to solve day18_part2_2021: Failed after maximum attempts\n",
      "Progress: 69.6%\n"
     ]
    },
    {
     "name": "stderr",
     "output_type": "stream",
     "text": [
      "python(66582) MallocStackLogging: can't turn off malloc stack logging because it was not enabled.\n"
     ]
    },
    {
     "name": "stdout",
     "output_type": "stream",
     "text": [
      "Failed to find a valid solution after multiple attempts.\n",
      "Failed to solve day19_part1_2021: Failed after maximum attempts\n",
      "Progress: 70.0%\n"
     ]
    },
    {
     "name": "stderr",
     "output_type": "stream",
     "text": [
      "python(66704) MallocStackLogging: can't turn off malloc stack logging because it was not enabled.\n"
     ]
    },
    {
     "name": "stdout",
     "output_type": "stream",
     "text": [
      "Failed to find a valid solution after multiple attempts.\n",
      "Failed to solve day19_part2_2021: Failed after maximum attempts\n",
      "Progress: 70.3%\n"
     ]
    },
    {
     "name": "stderr",
     "output_type": "stream",
     "text": [
      "python(66779) MallocStackLogging: can't turn off malloc stack logging because it was not enabled.\n"
     ]
    },
    {
     "name": "stdout",
     "output_type": "stream",
     "text": [
      "Failed to find a valid solution after multiple attempts.\n",
      "Failed to solve day20_part1_2021: Failed after maximum attempts\n",
      "Progress: 70.6%\n"
     ]
    },
    {
     "name": "stderr",
     "output_type": "stream",
     "text": [
      "python(66837) MallocStackLogging: can't turn off malloc stack logging because it was not enabled.\n"
     ]
    },
    {
     "name": "stdout",
     "output_type": "stream",
     "text": [
      "Failed to find a valid solution after multiple attempts.\n",
      "Failed to solve day20_part2_2021: Failed after maximum attempts\n",
      "Progress: 70.9%\n"
     ]
    },
    {
     "name": "stderr",
     "output_type": "stream",
     "text": [
      "python(66912) MallocStackLogging: can't turn off malloc stack logging because it was not enabled.\n"
     ]
    },
    {
     "name": "stdout",
     "output_type": "stream",
     "text": [
      "Failed to find a valid solution after multiple attempts.\n",
      "Failed to solve day21_part1_2021: Failed after maximum attempts\n",
      "Progress: 71.2%\n"
     ]
    },
    {
     "name": "stderr",
     "output_type": "stream",
     "text": [
      "python(66986) MallocStackLogging: can't turn off malloc stack logging because it was not enabled.\n"
     ]
    },
    {
     "name": "stdout",
     "output_type": "stream",
     "text": [
      "Failed to find a valid solution after multiple attempts.\n",
      "Failed to solve day21_part2_2021: Failed after maximum attempts\n",
      "Progress: 71.6%\n"
     ]
    },
    {
     "name": "stderr",
     "output_type": "stream",
     "text": [
      "python(67060) MallocStackLogging: can't turn off malloc stack logging because it was not enabled.\n"
     ]
    },
    {
     "name": "stdout",
     "output_type": "stream",
     "text": [
      "Failed to find a valid solution after multiple attempts.\n",
      "Failed to solve day22_part1_2021: Failed after maximum attempts\n",
      "Progress: 71.9%\n"
     ]
    },
    {
     "name": "stderr",
     "output_type": "stream",
     "text": [
      "python(67150) MallocStackLogging: can't turn off malloc stack logging because it was not enabled.\n"
     ]
    },
    {
     "name": "stdout",
     "output_type": "stream",
     "text": [
      "Failed to find a valid solution after multiple attempts.\n",
      "Failed to solve day22_part2_2021: Failed after maximum attempts\n",
      "Progress: 72.2%\n"
     ]
    },
    {
     "name": "stderr",
     "output_type": "stream",
     "text": [
      "python(67306) MallocStackLogging: can't turn off malloc stack logging because it was not enabled.\n"
     ]
    },
    {
     "name": "stdout",
     "output_type": "stream",
     "text": [
      "Failed to find a valid solution after multiple attempts.\n",
      "Failed to solve day23_part1_2021: Failed after maximum attempts\n",
      "Progress: 72.5%\n"
     ]
    },
    {
     "name": "stderr",
     "output_type": "stream",
     "text": [
      "python(67448) MallocStackLogging: can't turn off malloc stack logging because it was not enabled.\n"
     ]
    },
    {
     "name": "stdout",
     "output_type": "stream",
     "text": [
      "Failed to find a valid solution after multiple attempts.\n",
      "Failed to solve day23_part2_2021: Failed after maximum attempts\n",
      "Progress: 72.8%\n"
     ]
    },
    {
     "name": "stderr",
     "output_type": "stream",
     "text": [
      "python(67506) MallocStackLogging: can't turn off malloc stack logging because it was not enabled.\n"
     ]
    },
    {
     "name": "stdout",
     "output_type": "stream",
     "text": [
      "Failed to find a valid solution after multiple attempts.\n",
      "Failed to solve day24_part1_2021: Failed after maximum attempts\n",
      "Progress: 73.2%\n"
     ]
    },
    {
     "name": "stderr",
     "output_type": "stream",
     "text": [
      "python(67597) MallocStackLogging: can't turn off malloc stack logging because it was not enabled.\n"
     ]
    },
    {
     "name": "stdout",
     "output_type": "stream",
     "text": [
      "Failed to find a valid solution after multiple attempts.\n",
      "Failed to solve day24_part2_2021: Failed after maximum attempts\n",
      "Progress: 73.5%\n"
     ]
    },
    {
     "name": "stderr",
     "output_type": "stream",
     "text": [
      "python(67655) MallocStackLogging: can't turn off malloc stack logging because it was not enabled.\n"
     ]
    },
    {
     "name": "stdout",
     "output_type": "stream",
     "text": [
      "Failed to find a valid solution after multiple attempts.\n",
      "Failed to solve day25_part1_2021: Failed after maximum attempts\n",
      "Progress: 73.8%\n"
     ]
    },
    {
     "name": "stderr",
     "output_type": "stream",
     "text": [
      "python(67713) MallocStackLogging: can't turn off malloc stack logging because it was not enabled.\n"
     ]
    },
    {
     "name": "stdout",
     "output_type": "stream",
     "text": [
      "Failed to find a valid solution after multiple attempts.\n",
      "Failed to solve day3_part2_2022: Failed after maximum attempts\n",
      "Progress: 74.1%\n"
     ]
    },
    {
     "name": "stderr",
     "output_type": "stream",
     "text": [
      "python(67771) MallocStackLogging: can't turn off malloc stack logging because it was not enabled.\n"
     ]
    },
    {
     "name": "stdout",
     "output_type": "stream",
     "text": [
      "Failed to find a valid solution after multiple attempts.\n",
      "Failed to solve day5_part1_2022: Failed after maximum attempts\n",
      "Progress: 74.4%\n"
     ]
    },
    {
     "name": "stderr",
     "output_type": "stream",
     "text": [
      "python(67829) MallocStackLogging: can't turn off malloc stack logging because it was not enabled.\n"
     ]
    },
    {
     "name": "stdout",
     "output_type": "stream",
     "text": [
      "Failed to find a valid solution after multiple attempts.\n",
      "Failed to solve day5_part2_2022: Failed after maximum attempts\n",
      "Progress: 74.8%\n"
     ]
    },
    {
     "name": "stderr",
     "output_type": "stream",
     "text": [
      "python(67903) MallocStackLogging: can't turn off malloc stack logging because it was not enabled.\n"
     ]
    },
    {
     "name": "stdout",
     "output_type": "stream",
     "text": [
      "Failed to find a valid solution after multiple attempts.\n",
      "Failed to solve day7_part1_2022: Failed after maximum attempts\n",
      "Progress: 75.1%\n"
     ]
    },
    {
     "name": "stderr",
     "output_type": "stream",
     "text": [
      "python(67961) MallocStackLogging: can't turn off malloc stack logging because it was not enabled.\n"
     ]
    },
    {
     "name": "stdout",
     "output_type": "stream",
     "text": [
      "Failed to find a valid solution after multiple attempts.\n",
      "Failed to solve day7_part2_2022: Failed after maximum attempts\n",
      "Progress: 75.4%\n"
     ]
    },
    {
     "name": "stderr",
     "output_type": "stream",
     "text": [
      "python(68037) MallocStackLogging: can't turn off malloc stack logging because it was not enabled.\n"
     ]
    },
    {
     "name": "stdout",
     "output_type": "stream",
     "text": [
      "Failed to find a valid solution after multiple attempts.\n",
      "Failed to solve day8_part1_2022: Failed after maximum attempts\n",
      "Progress: 75.7%\n"
     ]
    },
    {
     "name": "stderr",
     "output_type": "stream",
     "text": [
      "python(68080) MallocStackLogging: can't turn off malloc stack logging because it was not enabled.\n"
     ]
    },
    {
     "name": "stdout",
     "output_type": "stream",
     "text": [
      "Failed to find a valid solution after multiple attempts.\n",
      "Failed to solve day8_part2_2022: Failed after maximum attempts\n",
      "Progress: 76.0%\n"
     ]
    },
    {
     "name": "stderr",
     "output_type": "stream",
     "text": [
      "python(68154) MallocStackLogging: can't turn off malloc stack logging because it was not enabled.\n"
     ]
    },
    {
     "name": "stdout",
     "output_type": "stream",
     "text": [
      "Failed to find a valid solution after multiple attempts.\n",
      "Failed to solve day9_part1_2022: Failed after maximum attempts\n",
      "Progress: 76.4%\n"
     ]
    },
    {
     "name": "stderr",
     "output_type": "stream",
     "text": [
      "python(68212) MallocStackLogging: can't turn off malloc stack logging because it was not enabled.\n"
     ]
    },
    {
     "name": "stdout",
     "output_type": "stream",
     "text": [
      "Failed to find a valid solution after multiple attempts.\n",
      "Failed to solve day9_part2_2022: Failed after maximum attempts\n",
      "Progress: 76.7%\n"
     ]
    },
    {
     "name": "stderr",
     "output_type": "stream",
     "text": [
      "python(68270) MallocStackLogging: can't turn off malloc stack logging because it was not enabled.\n"
     ]
    },
    {
     "name": "stdout",
     "output_type": "stream",
     "text": [
      "Failed to find a valid solution after multiple attempts.\n",
      "Failed to solve day10_part1_2022: Failed after maximum attempts\n",
      "Progress: 77.0%\n"
     ]
    },
    {
     "name": "stderr",
     "output_type": "stream",
     "text": [
      "python(68328) MallocStackLogging: can't turn off malloc stack logging because it was not enabled.\n"
     ]
    },
    {
     "name": "stdout",
     "output_type": "stream",
     "text": [
      "Failed to find a valid solution after multiple attempts.\n",
      "Failed to solve day10_part2_2022: Failed after maximum attempts\n",
      "Progress: 77.3%\n"
     ]
    },
    {
     "name": "stderr",
     "output_type": "stream",
     "text": [
      "python(68419) MallocStackLogging: can't turn off malloc stack logging because it was not enabled.\n"
     ]
    },
    {
     "name": "stdout",
     "output_type": "stream",
     "text": [
      "Failed to find a valid solution after multiple attempts.\n",
      "Failed to solve day11_part1_2022: Failed after maximum attempts\n",
      "Progress: 77.6%\n"
     ]
    },
    {
     "name": "stderr",
     "output_type": "stream",
     "text": [
      "python(68510) MallocStackLogging: can't turn off malloc stack logging because it was not enabled.\n"
     ]
    },
    {
     "name": "stdout",
     "output_type": "stream",
     "text": [
      "Failed to find a valid solution after multiple attempts.\n",
      "Failed to solve day11_part2_2022: Failed after maximum attempts\n",
      "Progress: 78.0%\n"
     ]
    },
    {
     "name": "stderr",
     "output_type": "stream",
     "text": [
      "python(68584) MallocStackLogging: can't turn off malloc stack logging because it was not enabled.\n"
     ]
    },
    {
     "name": "stdout",
     "output_type": "stream",
     "text": [
      "Runtime error: Execution error (FileNotFoundException) at pathfinding.core/eval138$loading (main.clj:2).\n",
      "Could not locate clojure/core/priority_map__init.class, clojure/core/priority_map.clj or clojure/core/priority_map.cljc on classpath. Please check that namespaces with dashes use underscores in the Clojure file name.\n",
      "\n",
      "Full report at:\n",
      "/var/folders/46/6lz6t86n4n10lwsyj3pyzd6h0000gn/T/clojure-7123828842349879198.edn\n",
      "\n",
      "Solved day12_part1_2022 successfully!\n",
      "Progress: 78.3%\n"
     ]
    },
    {
     "name": "stderr",
     "output_type": "stream",
     "text": [
      "python(68642) MallocStackLogging: can't turn off malloc stack logging because it was not enabled.\n"
     ]
    },
    {
     "name": "stdout",
     "output_type": "stream",
     "text": [
      "Failed to find a valid solution after multiple attempts.\n",
      "Failed to solve day13_part1_2022: Failed after maximum attempts\n",
      "Progress: 78.6%\n"
     ]
    },
    {
     "name": "stderr",
     "output_type": "stream",
     "text": [
      "python(68717) MallocStackLogging: can't turn off malloc stack logging because it was not enabled.\n"
     ]
    },
    {
     "name": "stdout",
     "output_type": "stream",
     "text": [
      "Failed to find a valid solution after multiple attempts.\n",
      "Failed to solve day13_part2_2022: Failed after maximum attempts\n",
      "Progress: 78.9%\n"
     ]
    },
    {
     "name": "stderr",
     "output_type": "stream",
     "text": [
      "python(68807) MallocStackLogging: can't turn off malloc stack logging because it was not enabled.\n"
     ]
    },
    {
     "name": "stdout",
     "output_type": "stream",
     "text": [
      "Failed to find a valid solution after multiple attempts.\n",
      "Failed to solve day14_part1_2022: Failed after maximum attempts\n",
      "Progress: 79.2%\n"
     ]
    },
    {
     "name": "stderr",
     "output_type": "stream",
     "text": [
      "python(68929) MallocStackLogging: can't turn off malloc stack logging because it was not enabled.\n"
     ]
    },
    {
     "name": "stdout",
     "output_type": "stream",
     "text": [
      "Failed to find a valid solution after multiple attempts.\n",
      "Failed to solve day14_part2_2022: Failed after maximum attempts\n",
      "Progress: 79.6%\n"
     ]
    },
    {
     "name": "stderr",
     "output_type": "stream",
     "text": [
      "python(68988) MallocStackLogging: can't turn off malloc stack logging because it was not enabled.\n"
     ]
    },
    {
     "name": "stdout",
     "output_type": "stream",
     "text": [
      "Failed to find a valid solution after multiple attempts.\n",
      "Failed to solve day15_part1_2022: Failed after maximum attempts\n",
      "Progress: 79.9%\n"
     ]
    },
    {
     "name": "stderr",
     "output_type": "stream",
     "text": [
      "python(69080) MallocStackLogging: can't turn off malloc stack logging because it was not enabled.\n"
     ]
    },
    {
     "name": "stdout",
     "output_type": "stream",
     "text": [
      "Failed to find a valid solution after multiple attempts.\n",
      "Failed to solve day15_part2_2022: Failed after maximum attempts\n",
      "Progress: 80.2%\n"
     ]
    },
    {
     "name": "stderr",
     "output_type": "stream",
     "text": [
      "python(69186) MallocStackLogging: can't turn off malloc stack logging because it was not enabled.\n"
     ]
    },
    {
     "name": "stdout",
     "output_type": "stream",
     "text": [
      "Failed to find a valid solution after multiple attempts.\n",
      "Failed to solve day16_part1_2022: Failed after maximum attempts\n",
      "Progress: 80.5%\n"
     ]
    },
    {
     "name": "stderr",
     "output_type": "stream",
     "text": [
      "python(69244) MallocStackLogging: can't turn off malloc stack logging because it was not enabled.\n"
     ]
    },
    {
     "name": "stdout",
     "output_type": "stream",
     "text": [
      "Failed to find a valid solution after multiple attempts.\n",
      "Failed to solve day16_part2_2022: Failed after maximum attempts\n",
      "Progress: 80.8%\n"
     ]
    },
    {
     "name": "stderr",
     "output_type": "stream",
     "text": [
      "python(69382) MallocStackLogging: can't turn off malloc stack logging because it was not enabled.\n"
     ]
    },
    {
     "name": "stdout",
     "output_type": "stream",
     "text": [
      "Failed to find a valid solution after multiple attempts.\n",
      "Failed to solve day17_part1_2022: Failed after maximum attempts\n",
      "Progress: 81.2%\n"
     ]
    },
    {
     "name": "stderr",
     "output_type": "stream",
     "text": [
      "python(69490) MallocStackLogging: can't turn off malloc stack logging because it was not enabled.\n"
     ]
    },
    {
     "name": "stdout",
     "output_type": "stream",
     "text": [
      "Failed to find a valid solution after multiple attempts.\n",
      "Failed to solve day17_part2_2022: Failed after maximum attempts\n",
      "Progress: 81.5%\n"
     ]
    },
    {
     "name": "stderr",
     "output_type": "stream",
     "text": [
      "python(69583) MallocStackLogging: can't turn off malloc stack logging because it was not enabled.\n"
     ]
    },
    {
     "name": "stdout",
     "output_type": "stream",
     "text": [
      "Failed to find a valid solution after multiple attempts.\n",
      "Failed to solve day18_part2_2022: Failed after maximum attempts\n",
      "Progress: 81.8%\n"
     ]
    },
    {
     "name": "stderr",
     "output_type": "stream",
     "text": [
      "python(69720) MallocStackLogging: can't turn off malloc stack logging because it was not enabled.\n"
     ]
    },
    {
     "name": "stdout",
     "output_type": "stream",
     "text": [
      "Failed to find a valid solution after multiple attempts.\n",
      "Failed to solve day19_part1_2022: Failed after maximum attempts\n",
      "Progress: 82.1%\n"
     ]
    },
    {
     "name": "stderr",
     "output_type": "stream",
     "text": [
      "python(69894) MallocStackLogging: can't turn off malloc stack logging because it was not enabled.\n"
     ]
    },
    {
     "name": "stdout",
     "output_type": "stream",
     "text": [
      "Failed to find a valid solution after multiple attempts.\n",
      "Failed to solve day19_part2_2022: Failed after maximum attempts\n",
      "Progress: 82.4%\n"
     ]
    },
    {
     "name": "stderr",
     "output_type": "stream",
     "text": [
      "python(69936) MallocStackLogging: can't turn off malloc stack logging because it was not enabled.\n"
     ]
    },
    {
     "name": "stdout",
     "output_type": "stream",
     "text": [
      "Failed to find a valid solution after multiple attempts.\n",
      "Failed to solve day20_part1_2022: Failed after maximum attempts\n",
      "Progress: 82.7%\n"
     ]
    },
    {
     "name": "stderr",
     "output_type": "stream",
     "text": [
      "python(70011) MallocStackLogging: can't turn off malloc stack logging because it was not enabled.\n"
     ]
    },
    {
     "name": "stdout",
     "output_type": "stream",
     "text": [
      "Failed to find a valid solution after multiple attempts.\n",
      "Failed to solve day20_part2_2022: Failed after maximum attempts\n",
      "Progress: 83.1%\n"
     ]
    },
    {
     "name": "stderr",
     "output_type": "stream",
     "text": [
      "python(70085) MallocStackLogging: can't turn off malloc stack logging because it was not enabled.\n"
     ]
    },
    {
     "name": "stdout",
     "output_type": "stream",
     "text": [
      "Failed to find a valid solution after multiple attempts.\n",
      "Failed to solve day21_part2_2022: Failed after maximum attempts\n",
      "Progress: 83.4%\n"
     ]
    },
    {
     "name": "stderr",
     "output_type": "stream",
     "text": [
      "python(70178) MallocStackLogging: can't turn off malloc stack logging because it was not enabled.\n"
     ]
    },
    {
     "name": "stdout",
     "output_type": "stream",
     "text": [
      "Failed to find a valid solution after multiple attempts.\n",
      "Failed to solve day22_part1_2022: Failed after maximum attempts\n",
      "Progress: 83.7%\n"
     ]
    },
    {
     "name": "stderr",
     "output_type": "stream",
     "text": [
      "python(70388) MallocStackLogging: can't turn off malloc stack logging because it was not enabled.\n"
     ]
    },
    {
     "name": "stdout",
     "output_type": "stream",
     "text": [
      "Failed to find a valid solution after multiple attempts.\n",
      "Failed to solve day22_part2_2022: Failed after maximum attempts\n",
      "Progress: 84.0%\n"
     ]
    },
    {
     "name": "stderr",
     "output_type": "stream",
     "text": [
      "python(70504) MallocStackLogging: can't turn off malloc stack logging because it was not enabled.\n"
     ]
    },
    {
     "name": "stdout",
     "output_type": "stream",
     "text": [
      "Failed to find a valid solution after multiple attempts.\n",
      "Failed to solve day23_part1_2022: Failed after maximum attempts\n",
      "Progress: 84.3%\n"
     ]
    },
    {
     "name": "stderr",
     "output_type": "stream",
     "text": [
      "python(70661) MallocStackLogging: can't turn off malloc stack logging because it was not enabled.\n"
     ]
    },
    {
     "name": "stdout",
     "output_type": "stream",
     "text": [
      "Failed to find a valid solution after multiple attempts.\n",
      "Failed to solve day23_part2_2022: Failed after maximum attempts\n",
      "Progress: 84.7%\n"
     ]
    },
    {
     "name": "stderr",
     "output_type": "stream",
     "text": [
      "python(70719) MallocStackLogging: can't turn off malloc stack logging because it was not enabled.\n"
     ]
    },
    {
     "name": "stdout",
     "output_type": "stream",
     "text": [
      "Failed to find a valid solution after multiple attempts.\n",
      "Failed to solve day24_part1_2022: Failed after maximum attempts\n",
      "Progress: 85.0%\n"
     ]
    },
    {
     "name": "stderr",
     "output_type": "stream",
     "text": [
      "python(70842) MallocStackLogging: can't turn off malloc stack logging because it was not enabled.\n"
     ]
    },
    {
     "name": "stdout",
     "output_type": "stream",
     "text": [
      "Failed to find a valid solution after multiple attempts.\n",
      "Failed to solve day24_part2_2022: Failed after maximum attempts\n",
      "Progress: 85.3%\n"
     ]
    },
    {
     "name": "stderr",
     "output_type": "stream",
     "text": [
      "python(70900) MallocStackLogging: can't turn off malloc stack logging because it was not enabled.\n"
     ]
    },
    {
     "name": "stdout",
     "output_type": "stream",
     "text": [
      "Failed to find a valid solution after multiple attempts.\n",
      "Failed to solve day25_part1_2022: Failed after maximum attempts\n",
      "Progress: 85.6%\n"
     ]
    },
    {
     "name": "stderr",
     "output_type": "stream",
     "text": [
      "python(70958) MallocStackLogging: can't turn off malloc stack logging because it was not enabled.\n"
     ]
    },
    {
     "name": "stdout",
     "output_type": "stream",
     "text": [
      "Failed to find a valid solution after multiple attempts.\n",
      "Failed to solve day2_part1_2023: Failed after maximum attempts\n",
      "Progress: 85.9%\n"
     ]
    },
    {
     "name": "stderr",
     "output_type": "stream",
     "text": [
      "python(71016) MallocStackLogging: can't turn off malloc stack logging because it was not enabled.\n"
     ]
    },
    {
     "name": "stdout",
     "output_type": "stream",
     "text": [
      "Failed to find a valid solution after multiple attempts.\n",
      "Failed to solve day2_part2_2023: Failed after maximum attempts\n",
      "Progress: 86.3%\n"
     ]
    },
    {
     "name": "stderr",
     "output_type": "stream",
     "text": [
      "python(71074) MallocStackLogging: can't turn off malloc stack logging because it was not enabled.\n"
     ]
    },
    {
     "name": "stdout",
     "output_type": "stream",
     "text": [
      "Failed to find a valid solution after multiple attempts.\n",
      "Failed to solve day3_part1_2023: Failed after maximum attempts\n",
      "Progress: 86.6%\n"
     ]
    },
    {
     "name": "stderr",
     "output_type": "stream",
     "text": [
      "python(71165) MallocStackLogging: can't turn off malloc stack logging because it was not enabled.\n"
     ]
    },
    {
     "name": "stdout",
     "output_type": "stream",
     "text": [
      "Failed to find a valid solution after multiple attempts.\n",
      "Failed to solve day3_part2_2023: Failed after maximum attempts\n",
      "Progress: 86.9%\n"
     ]
    },
    {
     "name": "stderr",
     "output_type": "stream",
     "text": [
      "python(71224) MallocStackLogging: can't turn off malloc stack logging because it was not enabled.\n"
     ]
    },
    {
     "name": "stdout",
     "output_type": "stream",
     "text": [
      "Failed to find a valid solution after multiple attempts.\n",
      "Failed to solve day4_part1_2023: Failed after maximum attempts\n",
      "Progress: 87.2%\n"
     ]
    },
    {
     "name": "stderr",
     "output_type": "stream",
     "text": [
      "python(71282) MallocStackLogging: can't turn off malloc stack logging because it was not enabled.\n"
     ]
    },
    {
     "name": "stdout",
     "output_type": "stream",
     "text": [
      "Failed to find a valid solution after multiple attempts.\n",
      "Failed to solve day4_part2_2023: Failed after maximum attempts\n",
      "Progress: 87.5%\n"
     ]
    },
    {
     "name": "stderr",
     "output_type": "stream",
     "text": [
      "python(71372) MallocStackLogging: can't turn off malloc stack logging because it was not enabled.\n"
     ]
    },
    {
     "name": "stdout",
     "output_type": "stream",
     "text": [
      "Failed to find a valid solution after multiple attempts.\n",
      "Failed to solve day5_part1_2023: Failed after maximum attempts\n",
      "Progress: 87.9%\n"
     ]
    },
    {
     "name": "stderr",
     "output_type": "stream",
     "text": [
      "python(71430) MallocStackLogging: can't turn off malloc stack logging because it was not enabled.\n"
     ]
    },
    {
     "name": "stdout",
     "output_type": "stream",
     "text": [
      "Failed to find a valid solution after multiple attempts.\n",
      "Failed to solve day5_part2_2023: Failed after maximum attempts\n",
      "Progress: 88.2%\n"
     ]
    },
    {
     "name": "stderr",
     "output_type": "stream",
     "text": [
      "python(71472) MallocStackLogging: can't turn off malloc stack logging because it was not enabled.\n"
     ]
    },
    {
     "name": "stdout",
     "output_type": "stream",
     "text": [
      "Failed to find a valid solution after multiple attempts.\n",
      "Failed to solve day6_part1_2023: Failed after maximum attempts\n",
      "Progress: 88.5%\n"
     ]
    },
    {
     "name": "stderr",
     "output_type": "stream",
     "text": [
      "python(71514) MallocStackLogging: can't turn off malloc stack logging because it was not enabled.\n"
     ]
    },
    {
     "name": "stdout",
     "output_type": "stream",
     "text": [
      "Failed to find a valid solution after multiple attempts.\n",
      "Failed to solve day6_part2_2023: Failed after maximum attempts\n",
      "Progress: 88.8%\n"
     ]
    },
    {
     "name": "stderr",
     "output_type": "stream",
     "text": [
      "python(71588) MallocStackLogging: can't turn off malloc stack logging because it was not enabled.\n"
     ]
    },
    {
     "name": "stdout",
     "output_type": "stream",
     "text": [
      "Failed to find a valid solution after multiple attempts.\n",
      "Failed to solve day7_part1_2023: Failed after maximum attempts\n",
      "Progress: 89.1%\n"
     ]
    },
    {
     "name": "stderr",
     "output_type": "stream",
     "text": [
      "python(71697) MallocStackLogging: can't turn off malloc stack logging because it was not enabled.\n"
     ]
    },
    {
     "name": "stdout",
     "output_type": "stream",
     "text": [
      "Failed to find a valid solution after multiple attempts.\n",
      "Failed to solve day7_part2_2023: Failed after maximum attempts\n",
      "Progress: 89.5%\n"
     ]
    },
    {
     "name": "stderr",
     "output_type": "stream",
     "text": [
      "python(71756) MallocStackLogging: can't turn off malloc stack logging because it was not enabled.\n"
     ]
    },
    {
     "name": "stdout",
     "output_type": "stream",
     "text": [
      "Execution timed out after 40 seconds.\n",
      "Failed to solve day8_part1_2023: Failed after maximum attempts\n",
      "Progress: 89.8%\n"
     ]
    },
    {
     "name": "stderr",
     "output_type": "stream",
     "text": [
      "python(72088) MallocStackLogging: can't turn off malloc stack logging because it was not enabled.\n"
     ]
    },
    {
     "name": "stdout",
     "output_type": "stream",
     "text": [
      "Failed to find a valid solution after multiple attempts.\n",
      "Failed to solve day9_part1_2023: Failed after maximum attempts\n",
      "Progress: 90.1%\n"
     ]
    },
    {
     "name": "stderr",
     "output_type": "stream",
     "text": [
      "python(72146) MallocStackLogging: can't turn off malloc stack logging because it was not enabled.\n"
     ]
    },
    {
     "name": "stdout",
     "output_type": "stream",
     "text": [
      "Failed to find a valid solution after multiple attempts.\n",
      "Failed to solve day9_part2_2023: Failed after maximum attempts\n",
      "Progress: 90.4%\n"
     ]
    },
    {
     "name": "stderr",
     "output_type": "stream",
     "text": [
      "python(72221) MallocStackLogging: can't turn off malloc stack logging because it was not enabled.\n"
     ]
    },
    {
     "name": "stdout",
     "output_type": "stream",
     "text": [
      "Failed to find a valid solution after multiple attempts.\n",
      "Failed to solve day10_part1_2023: Failed after maximum attempts\n",
      "Progress: 90.7%\n"
     ]
    },
    {
     "name": "stderr",
     "output_type": "stream",
     "text": [
      "python(72312) MallocStackLogging: can't turn off malloc stack logging because it was not enabled.\n"
     ]
    },
    {
     "name": "stdout",
     "output_type": "stream",
     "text": [
      "Failed to find a valid solution after multiple attempts.\n",
      "Failed to solve day10_part2_2023: Failed after maximum attempts\n",
      "Progress: 91.1%\n"
     ]
    },
    {
     "name": "stderr",
     "output_type": "stream",
     "text": [
      "python(72370) MallocStackLogging: can't turn off malloc stack logging because it was not enabled.\n"
     ]
    },
    {
     "name": "stdout",
     "output_type": "stream",
     "text": [
      "Failed to find a valid solution after multiple attempts.\n",
      "Failed to solve day11_part1_2023: Failed after maximum attempts\n",
      "Progress: 91.4%\n"
     ]
    },
    {
     "name": "stderr",
     "output_type": "stream",
     "text": [
      "python(72492) MallocStackLogging: can't turn off malloc stack logging because it was not enabled.\n"
     ]
    },
    {
     "name": "stdout",
     "output_type": "stream",
     "text": [
      "Failed to find a valid solution after multiple attempts.\n",
      "Failed to solve day11_part2_2023: Failed after maximum attempts\n",
      "Progress: 91.7%\n"
     ]
    },
    {
     "name": "stderr",
     "output_type": "stream",
     "text": [
      "python(72599) MallocStackLogging: can't turn off malloc stack logging because it was not enabled.\n"
     ]
    },
    {
     "name": "stdout",
     "output_type": "stream",
     "text": [
      "Failed to find a valid solution after multiple attempts.\n",
      "Failed to solve day12_part1_2023: Failed after maximum attempts\n",
      "Progress: 92.0%\n"
     ]
    },
    {
     "name": "stderr",
     "output_type": "stream",
     "text": [
      "python(72674) MallocStackLogging: can't turn off malloc stack logging because it was not enabled.\n"
     ]
    },
    {
     "name": "stdout",
     "output_type": "stream",
     "text": [
      "Failed to find a valid solution after multiple attempts.\n",
      "Failed to solve day12_part2_2023: Failed after maximum attempts\n",
      "Progress: 92.3%\n"
     ]
    },
    {
     "name": "stderr",
     "output_type": "stream",
     "text": [
      "python(72733) MallocStackLogging: can't turn off malloc stack logging because it was not enabled.\n"
     ]
    },
    {
     "name": "stdout",
     "output_type": "stream",
     "text": [
      "Failed to find a valid solution after multiple attempts.\n",
      "Failed to solve day13_part1_2023: Failed after maximum attempts\n",
      "Progress: 92.7%\n"
     ]
    },
    {
     "name": "stderr",
     "output_type": "stream",
     "text": [
      "python(72843) MallocStackLogging: can't turn off malloc stack logging because it was not enabled.\n"
     ]
    },
    {
     "name": "stdout",
     "output_type": "stream",
     "text": [
      "Failed to find a valid solution after multiple attempts.\n",
      "Failed to solve day13_part2_2023: Failed after maximum attempts\n",
      "Progress: 93.0%\n"
     ]
    },
    {
     "name": "stderr",
     "output_type": "stream",
     "text": [
      "python(72934) MallocStackLogging: can't turn off malloc stack logging because it was not enabled.\n"
     ]
    },
    {
     "name": "stdout",
     "output_type": "stream",
     "text": [
      "Failed to find a valid solution after multiple attempts.\n",
      "Failed to solve day14_part1_2023: Failed after maximum attempts\n",
      "Progress: 93.3%\n"
     ]
    },
    {
     "name": "stderr",
     "output_type": "stream",
     "text": [
      "python(73041) MallocStackLogging: can't turn off malloc stack logging because it was not enabled.\n"
     ]
    },
    {
     "name": "stdout",
     "output_type": "stream",
     "text": [
      "Failed to find a valid solution after multiple attempts.\n",
      "Failed to solve day14_part2_2023: Failed after maximum attempts\n",
      "Progress: 93.6%\n"
     ]
    },
    {
     "name": "stderr",
     "output_type": "stream",
     "text": [
      "python(73099) MallocStackLogging: can't turn off malloc stack logging because it was not enabled.\n"
     ]
    },
    {
     "name": "stdout",
     "output_type": "stream",
     "text": [
      "Failed to find a valid solution after multiple attempts.\n",
      "Failed to solve day15_part1_2023: Failed after maximum attempts\n",
      "Progress: 93.9%\n"
     ]
    },
    {
     "name": "stderr",
     "output_type": "stream",
     "text": [
      "python(73173) MallocStackLogging: can't turn off malloc stack logging because it was not enabled.\n"
     ]
    },
    {
     "name": "stdout",
     "output_type": "stream",
     "text": [
      "Failed to find a valid solution after multiple attempts.\n",
      "Failed to solve day15_part2_2023: Failed after maximum attempts\n",
      "Progress: 94.2%\n"
     ]
    },
    {
     "name": "stderr",
     "output_type": "stream",
     "text": [
      "python(73295) MallocStackLogging: can't turn off malloc stack logging because it was not enabled.\n"
     ]
    },
    {
     "name": "stdout",
     "output_type": "stream",
     "text": [
      "Failed to find a valid solution after multiple attempts.\n",
      "Failed to solve day16_part1_2023: Failed after maximum attempts\n",
      "Progress: 94.6%\n"
     ]
    },
    {
     "name": "stderr",
     "output_type": "stream",
     "text": [
      "python(73421) MallocStackLogging: can't turn off malloc stack logging because it was not enabled.\n"
     ]
    },
    {
     "name": "stdout",
     "output_type": "stream",
     "text": [
      "Failed to find a valid solution after multiple attempts.\n",
      "Failed to solve day16_part2_2023: Failed after maximum attempts\n",
      "Progress: 94.9%\n"
     ]
    },
    {
     "name": "stderr",
     "output_type": "stream",
     "text": [
      "python(73495) MallocStackLogging: can't turn off malloc stack logging because it was not enabled.\n"
     ]
    },
    {
     "name": "stdout",
     "output_type": "stream",
     "text": [
      "Failed to find a valid solution after multiple attempts.\n",
      "Failed to solve day17_part1_2023: Failed after maximum attempts\n",
      "Progress: 95.2%\n"
     ]
    },
    {
     "name": "stderr",
     "output_type": "stream",
     "text": [
      "python(73633) MallocStackLogging: can't turn off malloc stack logging because it was not enabled.\n"
     ]
    },
    {
     "name": "stdout",
     "output_type": "stream",
     "text": [
      "Failed to find a valid solution after multiple attempts.\n",
      "Failed to solve day17_part2_2023: Failed after maximum attempts\n",
      "Progress: 95.5%\n"
     ]
    },
    {
     "name": "stderr",
     "output_type": "stream",
     "text": [
      "python(73756) MallocStackLogging: can't turn off malloc stack logging because it was not enabled.\n"
     ]
    },
    {
     "name": "stdout",
     "output_type": "stream",
     "text": [
      "Failed to find a valid solution after multiple attempts.\n",
      "Failed to solve day18_part1_2023: Failed after maximum attempts\n",
      "Progress: 95.8%\n"
     ]
    },
    {
     "name": "stderr",
     "output_type": "stream",
     "text": [
      "python(73848) MallocStackLogging: can't turn off malloc stack logging because it was not enabled.\n"
     ]
    },
    {
     "name": "stdout",
     "output_type": "stream",
     "text": [
      "Failed to find a valid solution after multiple attempts.\n",
      "Failed to solve day18_part2_2023: Failed after maximum attempts\n",
      "Progress: 96.2%\n"
     ]
    },
    {
     "name": "stderr",
     "output_type": "stream",
     "text": [
      "python(73938) MallocStackLogging: can't turn off malloc stack logging because it was not enabled.\n"
     ]
    },
    {
     "name": "stdout",
     "output_type": "stream",
     "text": [
      "Failed to find a valid solution after multiple attempts.\n",
      "Failed to solve day19_part1_2023: Failed after maximum attempts\n",
      "Progress: 96.5%\n"
     ]
    },
    {
     "name": "stderr",
     "output_type": "stream",
     "text": [
      "python(74077) MallocStackLogging: can't turn off malloc stack logging because it was not enabled.\n"
     ]
    },
    {
     "name": "stdout",
     "output_type": "stream",
     "text": [
      "Failed to find a valid solution after multiple attempts.\n",
      "Failed to solve day19_part2_2023: Failed after maximum attempts\n",
      "Progress: 96.8%\n"
     ]
    },
    {
     "name": "stderr",
     "output_type": "stream",
     "text": [
      "python(74151) MallocStackLogging: can't turn off malloc stack logging because it was not enabled.\n"
     ]
    },
    {
     "name": "stdout",
     "output_type": "stream",
     "text": [
      "Failed to find a valid solution after multiple attempts.\n",
      "Failed to solve day20_part1_2023: Failed after maximum attempts\n",
      "Progress: 97.1%\n"
     ]
    },
    {
     "name": "stderr",
     "output_type": "stream",
     "text": [
      "python(74273) MallocStackLogging: can't turn off malloc stack logging because it was not enabled.\n"
     ]
    },
    {
     "name": "stdout",
     "output_type": "stream",
     "text": [
      "Failed to find a valid solution after multiple attempts.\n",
      "Failed to solve day20_part2_2023: Failed after maximum attempts\n",
      "Progress: 97.4%\n"
     ]
    },
    {
     "name": "stderr",
     "output_type": "stream",
     "text": [
      "python(74365) MallocStackLogging: can't turn off malloc stack logging because it was not enabled.\n"
     ]
    },
    {
     "name": "stdout",
     "output_type": "stream",
     "text": [
      "Failed to find a valid solution after multiple attempts.\n",
      "Failed to solve day21_part1_2023: Failed after maximum attempts\n",
      "Progress: 97.8%\n"
     ]
    },
    {
     "name": "stderr",
     "output_type": "stream",
     "text": [
      "python(74439) MallocStackLogging: can't turn off malloc stack logging because it was not enabled.\n"
     ]
    },
    {
     "name": "stdout",
     "output_type": "stream",
     "text": [
      "Failed to find a valid solution after multiple attempts.\n",
      "Failed to solve day21_part2_2023: Failed after maximum attempts\n",
      "Progress: 98.1%\n"
     ]
    },
    {
     "name": "stderr",
     "output_type": "stream",
     "text": [
      "python(74593) MallocStackLogging: can't turn off malloc stack logging because it was not enabled.\n"
     ]
    },
    {
     "name": "stdout",
     "output_type": "stream",
     "text": [
      "Failed to find a valid solution after multiple attempts.\n",
      "Failed to solve day22_part2_2023: Failed after maximum attempts\n",
      "Progress: 98.4%\n"
     ]
    },
    {
     "name": "stderr",
     "output_type": "stream",
     "text": [
      "python(74699) MallocStackLogging: can't turn off malloc stack logging because it was not enabled.\n"
     ]
    },
    {
     "name": "stdout",
     "output_type": "stream",
     "text": [
      "Failed to find a valid solution after multiple attempts.\n",
      "Failed to solve day23_part1_2023: Failed after maximum attempts\n",
      "Progress: 98.7%\n"
     ]
    },
    {
     "name": "stderr",
     "output_type": "stream",
     "text": [
      "python(74824) MallocStackLogging: can't turn off malloc stack logging because it was not enabled.\n"
     ]
    },
    {
     "name": "stdout",
     "output_type": "stream",
     "text": [
      "Failed to find a valid solution after multiple attempts.\n",
      "Failed to solve day23_part2_2023: Failed after maximum attempts\n",
      "Progress: 99.0%\n"
     ]
    },
    {
     "name": "stderr",
     "output_type": "stream",
     "text": [
      "python(74900) MallocStackLogging: can't turn off malloc stack logging because it was not enabled.\n"
     ]
    },
    {
     "name": "stdout",
     "output_type": "stream",
     "text": [
      "Failed to find a valid solution after multiple attempts.\n",
      "Failed to solve day24_part1_2023: Failed after maximum attempts\n",
      "Progress: 99.4%\n"
     ]
    },
    {
     "name": "stderr",
     "output_type": "stream",
     "text": [
      "python(74990) MallocStackLogging: can't turn off malloc stack logging because it was not enabled.\n"
     ]
    },
    {
     "name": "stdout",
     "output_type": "stream",
     "text": [
      "Failed to find a valid solution after multiple attempts.\n",
      "Failed to solve day24_part2_2023: Failed after maximum attempts\n",
      "Progress: 99.7%\n"
     ]
    },
    {
     "name": "stderr",
     "output_type": "stream",
     "text": [
      "python(75081) MallocStackLogging: can't turn off malloc stack logging because it was not enabled.\n"
     ]
    },
    {
     "name": "stdout",
     "output_type": "stream",
     "text": [
      "Failed to find a valid solution after multiple attempts.\n",
      "Failed to solve day25_part1_2023: Failed after maximum attempts\n",
      "Progress: 100.0%\n"
     ]
    }
   ],
   "source": [
    "import os\n",
    "import time\n",
    "from datasets import load_dataset\n",
    "from pathlib import Path\n",
    "\n",
    "def get_existing_solutions(language):\n",
    "    home_dir = str(Path.home())\n",
    "    solutions_dir = os.path.join(home_dir, \"code\", \"advent_generated\", \"clojure\")\n",
    "    solutions = os.listdir(solutions_dir)\n",
    "    return [os.path.splitext(solution)[0] for solution in solutions if solution.endswith(f\".{language}\")]\n",
    "\n",
    "def run_max_times(func, max_attempts=1):\n",
    "    for _ in range(max_attempts):\n",
    "        success, result = func()\n",
    "        if success:\n",
    "            return True, result\n",
    "    return False, \"Failed after maximum attempts\"\n",
    "\n",
    "def main():\n",
    "    target_language = 'clojure'  # Change this to 'awk' or any other language as needed\n",
    "\n",
    "    dataset = load_dataset(\"isavita/advent-of-code\")\n",
    "    go_solutions = dataset['train'].filter(lambda example: example['solution_lang'] == 'go')\n",
    "\n",
    "    existing_solutions = get_existing_solutions('clj')\n",
    "    unsolved_challenges = [challenge for challenge in go_solutions if challenge['name'] not in existing_solutions]\n",
    "\n",
    "    llm_wrapper = LLMWrapper(\"gpt-4o-mini\")  # You can change this to your preferred model\n",
    "    solver = ChallengeSolver(\"gpt-4o-mini\", llm_wrapper, language=target_language)\n",
    "\n",
    "    total_challenges = len(unsolved_challenges)\n",
    "    print(f\"Total unsolved challenges: {total_challenges}\")\n",
    "\n",
    "    for i, challenge in enumerate(unsolved_challenges, 1):\n",
    "        def solve_attempt():\n",
    "            success, result = solver.solve(challenge, use_go_solution=True)\n",
    "            print(result)\n",
    "            if \"Timeout\" in result:\n",
    "                print(f\"Challenge {challenge['name']} timed out.\")\n",
    "                return False, result\n",
    "            return success, result\n",
    "\n",
    "        success, result = run_max_times(solve_attempt, max_attempts=1)\n",
    "\n",
    "        if success:\n",
    "            print(f\"Solved {challenge['name']} successfully!\")\n",
    "        else:\n",
    "            print(f\"Failed to solve {challenge['name']}: {result}\")\n",
    "\n",
    "        progress = (i / total_challenges) * 100\n",
    "        print(f\"Progress: {progress:.1f}%\")\n",
    "        \n",
    "        time.sleep(1)  # Sleep for 15 seconds between attempts\n",
    "\n",
    "if __name__ == \"__main__\":\n",
    "    main()"
   ]
  },
  {
   "cell_type": "code",
   "execution_count": null,
   "id": "300a750e-71fa-4f57-9696-1ffaeda535fc",
   "metadata": {},
   "outputs": [],
   "source": []
  }
 ],
 "metadata": {
  "kernelspec": {
   "display_name": "Python 3 (ipykernel)",
   "language": "python",
   "name": "python3"
  },
  "language_info": {
   "codemirror_mode": {
    "name": "ipython",
    "version": 3
   },
   "file_extension": ".py",
   "mimetype": "text/x-python",
   "name": "python",
   "nbconvert_exporter": "python",
   "pygments_lexer": "ipython3",
   "version": "3.12.3"
  }
 },
 "nbformat": 4,
 "nbformat_minor": 5
}
