{
 "cells": [
  {
   "cell_type": "markdown",
   "metadata": {},
   "source": [
    "# Prepare training set for OpenAI"
   ]
  },
  {
   "cell_type": "code",
   "execution_count": 9,
   "metadata": {},
   "outputs": [],
   "source": [
    "import requests\n",
    "import json\n",
    "import os\n",
    "from datetime import date"
   ]
  },
  {
   "cell_type": "markdown",
   "metadata": {},
   "source": [
    "## Fetch Advent of Code dataset from huggingface"
   ]
  },
  {
   "cell_type": "code",
   "execution_count": 59,
   "metadata": {},
   "outputs": [],
   "source": [
    "dataset_url = \"https://huggingface.co/datasets/isavita/advent-of-code/resolve/main/train.json\"\n",
    "response = requests.get(dataset_url, timeout=600)\n",
    "dataset = response.json()\n",
    "\n",
    "# get only go solutions, because go is the only language that the dataset has all challenges solved\n",
    "dataset = [part for part in dataset if part[\"solution_lang\"] == \"go\"]"
   ]
  },
  {
   "cell_type": "markdown",
   "metadata": {},
   "source": [
    "## System Constants"
   ]
  },
  {
   "cell_type": "code",
   "execution_count": 60,
   "metadata": {},
   "outputs": [],
   "source": [
    "class Constants:\n",
    "    @staticmethod\n",
    "    def file_ext():\n",
    "        return \".clj\"\n",
    "    \n",
    "    @staticmethod\n",
    "    def lang():\n",
    "        return \"clojure\"\n",
    "    \n",
    "    @staticmethod\n",
    "    def output_dir():\n",
    "        return os.path.expanduser(\"~/code/advent_generated/training_data\")\n",
    "    \n",
    "    @staticmethod\n",
    "    def input_dir():\n",
    "        return os.path.expanduser(\"~/code/advent_generated/clojure\")"
   ]
  },
  {
   "cell_type": "markdown",
   "metadata": {},
   "source": [
    "## Prompt Templates with the task, but no example solution"
   ]
  },
  {
   "cell_type": "code",
   "execution_count": 61,
   "metadata": {},
   "outputs": [],
   "source": [
    "sys_msg = f\"\"\"You are a highly experienced programmer with a PhD in computer science participating in a coding challenge.\n",
    "Write clean, efficient code without unnecessary comments, demonstrating your advanced skills by solving problems practically and concisely.\n",
    "Aim to produce optimal and concise solutions, leveraging your decade of industry experience.\"\"\"\n",
    "\n",
    "def user_part1_fn(task):\n",
    "    return f\"\"\"Write an {Constants.lang()} program that reads input from a file called input.txt and prints the output to standard output.\n",
    "Focus on writing clean, efficient code that demonstrates your programming skills by concisely solving the challenge.\n",
    "\n",
    "Coding challenge:\n",
    "{task}\n",
    "\"\"\"\n",
    "\n",
    "def user_part2_fn(task):\n",
    "    return f\"\"\"Write an {Constants.lang()} program that reads input from a file called input.txt and prints the output to standard output.\n",
    "Focus on writing clean, efficient code that demonstrates your programming skills by concisely solving the challenge.\n",
    "\n",
    "Solve part two of the coding challenge:\n",
    "{task}\n",
    "\"\"\"\n",
    "\n",
    "def assistant_solution_fn(solution):\n",
    "    return f\"\"\"Here is a solution of the challenge:\n",
    "```{Constants.lang()}\n",
    "{solution}\n",
    "```\n",
    "\"\"\""
   ]
  },
  {
   "cell_type": "markdown",
   "metadata": {},
   "source": [
    "## Training Data Preparation"
   ]
  },
  {
   "cell_type": "code",
   "execution_count": 62,
   "metadata": {},
   "outputs": [],
   "source": [
    "solutions = os.listdir(Constants.input_dir())\n",
    "solved = [s for s in solutions if Constants.file_ext() in s]\n",
    "\n",
    "data = []\n",
    "for day in dataset:\n",
    "    filename = next((s for s in solved if s.startswith(day[\"name\"])), None)\n",
    "    if filename:\n",
    "        with open(f\"{Constants.input_dir()}/{filename}\", \"r\") as f:\n",
    "            solution = f.read().strip()\n",
    "        \n",
    "        system_msg = {\"role\": \"system\", \"content\": sys_msg}\n",
    "        \n",
    "        if False and \"part2_\" in day[\"name\"]:\n",
    "            user_content = user_part2_fn(day[\"task\"])\n",
    "        else:\n",
    "            user_content = user_part1_fn(day[\"task\"])\n",
    "        \n",
    "        user_msg = {\"role\": \"user\", \"content\": user_content}\n",
    "        assistant_msg = {\"role\": \"assistant\", \"content\": assistant_solution_fn(solution)}\n",
    "        \n",
    "        messages = {\n",
    "            \"messages\": [\n",
    "                system_msg,\n",
    "                user_msg,\n",
    "                assistant_msg\n",
    "            ]\n",
    "        }\n",
    "        \n",
    "        data.append(messages)\n",
    "\n",
    "data.reverse()"
   ]
  },
  {
   "cell_type": "markdown",
   "metadata": {},
   "source": [
    "## Data export to JSONL format"
   ]
  },
  {
   "cell_type": "code",
   "execution_count": 63,
   "metadata": {},
   "outputs": [],
   "source": [
    "output_path = f\"{Constants.output_dir()}/{Constants.lang()}_{len(data)}_{date.today()}.jsonl\"\n",
    "\n",
    "with open(output_path, \"w\") as f:\n",
    "    for item in data:\n",
    "        json.dump(item, f)\n",
    "        f.write(\"\\n\")"
   ]
  },
  {
   "cell_type": "markdown",
   "metadata": {},
   "source": [
    "## Upload the training file"
   ]
  },
  {
   "cell_type": "code",
   "execution_count": 64,
   "metadata": {},
   "outputs": [
    {
     "name": "stderr",
     "output_type": "stream",
     "text": [
      "python(56857) MallocStackLogging: can't turn off malloc stack logging because it was not enabled.\n"
     ]
    },
    {
     "name": "stdout",
     "output_type": "stream",
     "text": [
      "Status: 0\n",
      "Response: {\n",
      "  \"object\": \"file\",\n",
      "  \"id\": \"file-IGw5teHdu3CNodRPap3Ue3Um\",\n",
      "  \"purpose\": \"fine-tune\",\n",
      "  \"filename\": \"clojure_137_2024-08-23.jsonl\",\n",
      "  \"bytes\": 585757,\n",
      "  \"created_at\": 1724438022,\n",
      "  \"status\": \"processed\",\n",
      "  \"status_details\": null\n",
      "}\n",
      "\n"
     ]
    }
   ],
   "source": [
    "import subprocess\n",
    "\n",
    "cmd = [\n",
    "    \"curl\",\n",
    "    \"https://api.openai.com/v1/files\",\n",
    "    \"-H\", f\"Authorization: Bearer {os.environ['OPENAI_API_KEY']}\",\n",
    "    \"-F\", \"purpose=fine-tune\",\n",
    "    \"-F\", f\"file=@{output_path}\"\n",
    "]\n",
    "\n",
    "result = subprocess.run(cmd, capture_output=True, text=True)\n",
    "resp = result.stdout\n",
    "status = result.returncode\n",
    "\n",
    "print(f\"Status: {status}\")\n",
    "print(f\"Response: {resp}\")"
   ]
  },
  {
   "cell_type": "code",
   "execution_count": 65,
   "metadata": {},
   "outputs": [
    {
     "name": "stdout",
     "output_type": "stream",
     "text": [
      "{'object': 'file', 'id': 'file-IGw5teHdu3CNodRPap3Ue3Um', 'purpose': 'fine-tune', 'filename': 'clojure_137_2024-08-23.jsonl', 'bytes': 585757, 'created_at': 1724438022, 'status': 'processed', 'status_details': None}\n",
      "File ID: file-IGw5teHdu3CNodRPap3Ue3Um\n"
     ]
    }
   ],
   "source": [
    "file_upload = json.loads(resp)\n",
    "print(file_upload)\n",
    "file_id = file_upload[\"id\"]\n",
    "print(f\"File ID: {file_id}\")"
   ]
  },
  {
   "cell_type": "markdown",
   "metadata": {
    "jp-MarkdownHeadingCollapsed": true
   },
   "source": [
    "## Create a fine-tuned model\n",
    "\n",
    "### Create Training job from OpenAI UI [here](https://platform.openai.com/finetune)"
   ]
  }
 ],
 "metadata": {
  "kernelspec": {
   "display_name": "Python 3 (ipykernel)",
   "language": "python",
   "name": "python3"
  },
  "language_info": {
   "codemirror_mode": {
    "name": "ipython",
    "version": 3
   },
   "file_extension": ".py",
   "mimetype": "text/x-python",
   "name": "python",
   "nbconvert_exporter": "python",
   "pygments_lexer": "ipython3",
   "version": "3.12.3"
  }
 },
 "nbformat": 4,
 "nbformat_minor": 4
}
